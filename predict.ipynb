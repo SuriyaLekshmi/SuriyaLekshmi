{
 "cells": [
  {
   "cell_type": "code",
   "execution_count": 1,
   "id": "2bb1d3b4",
   "metadata": {},
   "outputs": [],
   "source": [
    "import os\n",
    "import pandas as pd\n",
    "import numpy as np\n",
    "import seaborn as sns\n",
    "import re\n",
    "import matplotlib.pyplot as plt\n",
    "from collections import Counter\n",
    "from imblearn.over_sampling import SMOTE\n",
    "from math import log"
   ]
  },
  {
   "cell_type": "code",
   "execution_count": 2,
   "id": "19d6e1e0",
   "metadata": {},
   "outputs": [
    {
     "name": "stderr",
     "output_type": "stream",
     "text": [
      "C:\\Users\\India\\AppData\\Local\\Temp\\ipykernel_19308\\1840437860.py:4: FutureWarning: The frame.append method is deprecated and will be removed from pandas in a future version. Use pandas.concat instead.\n",
      "  Data = Data.append(pd.read_csv(\"C:/Users/India/Documents/Project2k23/Hard Disk failure/dataset/2019-07-\" + i + \".csv\"))\n",
      "C:\\Users\\India\\AppData\\Local\\Temp\\ipykernel_19308\\1840437860.py:4: FutureWarning: The frame.append method is deprecated and will be removed from pandas in a future version. Use pandas.concat instead.\n",
      "  Data = Data.append(pd.read_csv(\"C:/Users/India/Documents/Project2k23/Hard Disk failure/dataset/2019-07-\" + i + \".csv\"))\n",
      "C:\\Users\\India\\AppData\\Local\\Temp\\ipykernel_19308\\1840437860.py:4: FutureWarning: The frame.append method is deprecated and will be removed from pandas in a future version. Use pandas.concat instead.\n",
      "  Data = Data.append(pd.read_csv(\"C:/Users/India/Documents/Project2k23/Hard Disk failure/dataset/2019-07-\" + i + \".csv\"))\n",
      "C:\\Users\\India\\AppData\\Local\\Temp\\ipykernel_19308\\1840437860.py:4: FutureWarning: The frame.append method is deprecated and will be removed from pandas in a future version. Use pandas.concat instead.\n",
      "  Data = Data.append(pd.read_csv(\"C:/Users/India/Documents/Project2k23/Hard Disk failure/dataset/2019-07-\" + i + \".csv\"))\n"
     ]
    }
   ],
   "source": [
    "dates = ['02', '03', '04', '05']\n",
    "Data = pd.read_csv(\"C:/Users/India/Documents/Project2k23/Hard Disk failure/dataset/2019-07-01.csv\")\n",
    "for i in dates:\n",
    "  Data = Data.append(pd.read_csv(\"C:/Users/India/Documents/Project2k23/Hard Disk failure/dataset/2019-07-\" + i + \".csv\"))"
   ]
  },
  {
   "cell_type": "code",
   "execution_count": 3,
   "id": "07570f84",
   "metadata": {},
   "outputs": [
    {
     "data": {
      "text/plain": [
       "Index(['index', 'date', 'serial_number', 'model', 'capacity_bytes', 'failure',\n",
       "       'smart_1_normalized', 'smart_1_raw', 'smart_2_normalized',\n",
       "       'smart_2_raw',\n",
       "       ...\n",
       "       'smart_250_normalized', 'smart_250_raw', 'smart_251_normalized',\n",
       "       'smart_251_raw', 'smart_252_normalized', 'smart_252_raw',\n",
       "       'smart_254_normalized', 'smart_254_raw', 'smart_255_normalized',\n",
       "       'smart_255_raw'],\n",
       "      dtype='object', length=130)"
      ]
     },
     "execution_count": 3,
     "metadata": {},
     "output_type": "execute_result"
    }
   ],
   "source": [
    "Data.reset_index(inplace = True)\n",
    "Data['date'] = pd.to_datetime(Data['date'])\n",
    "Data.columns"
   ]
  },
  {
   "cell_type": "code",
   "execution_count": 4,
   "id": "f947beb3",
   "metadata": {},
   "outputs": [
    {
     "data": {
      "text/plain": [
       "Index(['date', 'serial_number', 'model', 'capacity_bytes', 'failure',\n",
       "       'smart_1_normalized', 'smart_1_raw', 'smart_2_normalized',\n",
       "       'smart_2_raw', 'smart_3_normalized',\n",
       "       ...\n",
       "       'smart_250_normalized', 'smart_250_raw', 'smart_251_normalized',\n",
       "       'smart_251_raw', 'smart_252_normalized', 'smart_252_raw',\n",
       "       'smart_254_normalized', 'smart_254_raw', 'smart_255_normalized',\n",
       "       'smart_255_raw'],\n",
       "      dtype='object', length=129)"
      ]
     },
     "execution_count": 4,
     "metadata": {},
     "output_type": "execute_result"
    }
   ],
   "source": [
    "Data.drop('index', axis = 1, inplace = True)\n",
    "Test = Data.dropna(how = 'all', axis = 1)\n",
    "Initial = Data.columns\n",
    "Initial"
   ]
  },
  {
   "cell_type": "code",
   "execution_count": 5,
   "id": "d0f037c2",
   "metadata": {},
   "outputs": [
    {
     "data": {
      "text/plain": [
       "8"
      ]
     },
     "execution_count": 5,
     "metadata": {},
     "output_type": "execute_result"
    }
   ],
   "source": [
    "Features = ['5', '10', '184', '187', '188', '196', '197', '198']\n",
    "len(Features)"
   ]
  },
  {
   "cell_type": "code",
   "execution_count": 6,
   "id": "baa1d1ef",
   "metadata": {},
   "outputs": [
    {
     "name": "stderr",
     "output_type": "stream",
     "text": [
      "C:\\Users\\India\\AppData\\Local\\Temp\\ipykernel_19308\\2403248303.py:3: SettingWithCopyWarning: \n",
      "A value is trying to be set on a copy of a slice from a DataFrame\n",
      "\n",
      "See the caveats in the documentation: https://pandas.pydata.org/pandas-docs/stable/user_guide/indexing.html#returning-a-view-versus-a-copy\n",
      "  Test.drop(features, axis = 1, inplace = True)\n",
      "C:\\Users\\India\\AppData\\Local\\Temp\\ipykernel_19308\\2403248303.py:3: SettingWithCopyWarning: \n",
      "A value is trying to be set on a copy of a slice from a DataFrame\n",
      "\n",
      "See the caveats in the documentation: https://pandas.pydata.org/pandas-docs/stable/user_guide/indexing.html#returning-a-view-versus-a-copy\n",
      "  Test.drop(features, axis = 1, inplace = True)\n",
      "C:\\Users\\India\\AppData\\Local\\Temp\\ipykernel_19308\\2403248303.py:3: SettingWithCopyWarning: \n",
      "A value is trying to be set on a copy of a slice from a DataFrame\n",
      "\n",
      "See the caveats in the documentation: https://pandas.pydata.org/pandas-docs/stable/user_guide/indexing.html#returning-a-view-versus-a-copy\n",
      "  Test.drop(features, axis = 1, inplace = True)\n",
      "C:\\Users\\India\\AppData\\Local\\Temp\\ipykernel_19308\\2403248303.py:3: SettingWithCopyWarning: \n",
      "A value is trying to be set on a copy of a slice from a DataFrame\n",
      "\n",
      "See the caveats in the documentation: https://pandas.pydata.org/pandas-docs/stable/user_guide/indexing.html#returning-a-view-versus-a-copy\n",
      "  Test.drop(features, axis = 1, inplace = True)\n",
      "C:\\Users\\India\\AppData\\Local\\Temp\\ipykernel_19308\\2403248303.py:3: SettingWithCopyWarning: \n",
      "A value is trying to be set on a copy of a slice from a DataFrame\n",
      "\n",
      "See the caveats in the documentation: https://pandas.pydata.org/pandas-docs/stable/user_guide/indexing.html#returning-a-view-versus-a-copy\n",
      "  Test.drop(features, axis = 1, inplace = True)\n",
      "C:\\Users\\India\\AppData\\Local\\Temp\\ipykernel_19308\\2403248303.py:3: SettingWithCopyWarning: \n",
      "A value is trying to be set on a copy of a slice from a DataFrame\n",
      "\n",
      "See the caveats in the documentation: https://pandas.pydata.org/pandas-docs/stable/user_guide/indexing.html#returning-a-view-versus-a-copy\n",
      "  Test.drop(features, axis = 1, inplace = True)\n",
      "C:\\Users\\India\\AppData\\Local\\Temp\\ipykernel_19308\\2403248303.py:3: SettingWithCopyWarning: \n",
      "A value is trying to be set on a copy of a slice from a DataFrame\n",
      "\n",
      "See the caveats in the documentation: https://pandas.pydata.org/pandas-docs/stable/user_guide/indexing.html#returning-a-view-versus-a-copy\n",
      "  Test.drop(features, axis = 1, inplace = True)\n",
      "C:\\Users\\India\\AppData\\Local\\Temp\\ipykernel_19308\\2403248303.py:3: SettingWithCopyWarning: \n",
      "A value is trying to be set on a copy of a slice from a DataFrame\n",
      "\n",
      "See the caveats in the documentation: https://pandas.pydata.org/pandas-docs/stable/user_guide/indexing.html#returning-a-view-versus-a-copy\n",
      "  Test.drop(features, axis = 1, inplace = True)\n"
     ]
    }
   ],
   "source": [
    "for i in Features:\n",
    "  features = ['smart_' + i + '_normalized', 'smart_' + i + '_raw']\n",
    "  Test.drop(features, axis = 1, inplace = True)"
   ]
  },
  {
   "cell_type": "code",
   "execution_count": 7,
   "id": "46bbce0b",
   "metadata": {},
   "outputs": [
    {
     "name": "stdout",
     "output_type": "stream",
     "text": [
      "Number of Unique Models:  41\n",
      "Index(['ST12000NM0007', 'ST4000DM000', 'ST8000NM0055', 'HGST HMS5C4040BLE640',\n",
      "       'ST8000DM002', 'HGST HUH721212ALN604', 'HGST HMS5C4040ALE640',\n",
      "       'TOSHIBA MG07ACA14TA', 'ST10000NM0086', 'HGST HUH728080ALE600',\n",
      "       'ST6000DX000', 'HGST HUH721212ALE600', 'ST500LM012 HN',\n",
      "       'TOSHIBA MQ01ABF050', 'TOSHIBA MQ01ABF050M', 'ST500LM030',\n",
      "       'WDC WD5000LPVX', 'TOSHIBA MD04ABA400V', 'WDC WD5000LPCX',\n",
      "       'ST4000DM005', 'Seagate SSD', 'ST500LM021', 'HGST HUS726040ALE610',\n",
      "       'HGST HDS5C4040ALE630', 'ST8000DM005', 'TOSHIBA HDWF180', 'DELLBOSS VD',\n",
      "       'HGST HUH721010ALE600', 'Seagate BarraCuda SSD ZA500CM10002',\n",
      "       'WDC WD5000BPKT', 'ST6000DM001', 'TOSHIBA HDWE160',\n",
      "       'Seagate BarraCuda SSD ZA2000CM10002', 'WDC WD60EFRX', 'ST8000DM004',\n",
      "       'Hitachi HDS5C4040ALE630', 'ST320LT007', 'ST9250315AS',\n",
      "       'HGST HMS5C4040BLE641', 'ST1000LM024 HN', 'ST6000DM004'],\n",
      "      dtype='object')\n"
     ]
    }
   ],
   "source": [
    "models = Test.model.value_counts().index\n",
    "print(\"Number of Unique Models: \", len(models))\n",
    "print(models)"
   ]
  },
  {
   "cell_type": "code",
   "execution_count": 8,
   "id": "3fcd94ec",
   "metadata": {},
   "outputs": [
    {
     "name": "stdout",
     "output_type": "stream",
     "text": [
      "ST12000NM0007 failure_rate is 0.00922 %\n",
      "ST4000DM000 failure_rate is 0.00204 %\n",
      "ST8000NM0055 failure_rate is 0.00417 %\n",
      "HGST HMS5C4040BLE640 failure_rate is 0 %\n",
      "ST8000DM002 failure_rate is 0.00405 %\n",
      "HGST HUH721212ALN604 failure_rate is 0 %\n",
      "HGST HMS5C4040ALE640 failure_rate is 0 %\n",
      "TOSHIBA MG07ACA14TA failure_rate is 0 %\n",
      "ST10000NM0086 failure_rate is 0.01667 %\n",
      "HGST HUH728080ALE600 failure_rate is 0 %\n",
      "ST6000DX000 failure_rate is 0 %\n",
      "HGST HUH721212ALE600 failure_rate is 0 %\n",
      "ST500LM012 HN failure_rate is 0 %\n",
      "TOSHIBA MQ01ABF050 failure_rate is 0 %\n",
      "TOSHIBA MQ01ABF050M failure_rate is 0 %\n",
      "ST500LM030 failure_rate is 0.08584 %\n",
      "WDC WD5000LPVX failure_rate is 0 %\n",
      "TOSHIBA MD04ABA400V failure_rate is 0 %\n",
      "WDC WD5000LPCX failure_rate is 0 %\n",
      "ST4000DM005 failure_rate is 0 %\n",
      "Seagate SSD failure_rate is 0 %\n",
      "ST500LM021 failure_rate is 0 %\n",
      "HGST HUS726040ALE610 failure_rate is 0 %\n",
      "HGST HDS5C4040ALE630 failure_rate is 0 %\n",
      "ST8000DM005 failure_rate is 0 %\n",
      "TOSHIBA HDWF180 failure_rate is 0 %\n",
      "DELLBOSS VD failure_rate is 0 %\n",
      "HGST HUH721010ALE600 failure_rate is 0 %\n",
      "Seagate BarraCuda SSD ZA500CM10002 failure_rate is 0 %\n",
      "WDC WD5000BPKT failure_rate is 0 %\n",
      "ST6000DM001 failure_rate is 0 %\n",
      "TOSHIBA HDWE160 failure_rate is 0 %\n",
      "Seagate BarraCuda SSD ZA2000CM10002 failure_rate is 0 %\n",
      "WDC WD60EFRX failure_rate is 0 %\n",
      "ST8000DM004 failure_rate is 0 %\n",
      "Hitachi HDS5C4040ALE630 failure_rate is 0 %\n",
      "ST320LT007 failure_rate is 0 %\n",
      "ST9250315AS failure_rate is 0 %\n",
      "HGST HMS5C4040BLE641 failure_rate is 0 %\n",
      "ST1000LM024 HN failure_rate is 0 %\n",
      "ST6000DM004 failure_rate is 0 %\n"
     ]
    }
   ],
   "source": [
    "for i in models:\n",
    "  try:\n",
    "    c = Test[Test.model == i].failure.value_counts()[1] / len(Test[Test.model == i]) * 100\n",
    "    print(i, 'failure_rate is {:.5f} %'.format(c))\n",
    "  except KeyError:\n",
    "    print(i, 'failure_rate is 0 %')"
   ]
  },
  {
   "cell_type": "code",
   "execution_count": 9,
   "id": "d129ab7d",
   "metadata": {},
   "outputs": [
    {
     "name": "stdout",
     "output_type": "stream",
     "text": [
      "date                    0.000000\n",
      "serial_number           0.000000\n",
      "model                   0.000000\n",
      "capacity_bytes          0.000000\n",
      "failure                 0.000000\n",
      "                          ...   \n",
      "smart_251_raw           0.999991\n",
      "smart_252_normalized    0.999991\n",
      "smart_252_raw           0.999991\n",
      "smart_254_normalized    0.997483\n",
      "smart_254_raw           0.997483\n",
      "Length: 99, dtype: float64\n"
     ]
    },
    {
     "data": {
      "text/plain": [
       "Index(['smart_2_normalized', 'smart_2_raw', 'smart_8_normalized',\n",
       "       'smart_8_raw', 'smart_11_normalized', 'smart_11_raw',\n",
       "       'smart_16_normalized', 'smart_16_raw', 'smart_17_normalized',\n",
       "       'smart_17_raw', 'smart_22_normalized', 'smart_22_raw',\n",
       "       'smart_23_normalized', 'smart_23_raw', 'smart_24_normalized',\n",
       "       'smart_24_raw', 'smart_168_normalized', 'smart_168_raw',\n",
       "       'smart_170_normalized', 'smart_170_raw', 'smart_173_normalized',\n",
       "       'smart_173_raw', 'smart_174_normalized', 'smart_174_raw',\n",
       "       'smart_177_normalized', 'smart_177_raw', 'smart_183_normalized',\n",
       "       'smart_183_raw', 'smart_189_normalized', 'smart_189_raw',\n",
       "       'smart_191_normalized', 'smart_191_raw', 'smart_200_normalized',\n",
       "       'smart_200_raw', 'smart_218_normalized', 'smart_218_raw',\n",
       "       'smart_220_normalized', 'smart_220_raw', 'smart_222_normalized',\n",
       "       'smart_222_raw', 'smart_223_normalized', 'smart_223_raw',\n",
       "       'smart_224_normalized', 'smart_224_raw', 'smart_225_normalized',\n",
       "       'smart_225_raw', 'smart_226_normalized', 'smart_226_raw',\n",
       "       'smart_231_normalized', 'smart_231_raw', 'smart_232_normalized',\n",
       "       'smart_232_raw', 'smart_233_normalized', 'smart_233_raw',\n",
       "       'smart_235_normalized', 'smart_235_raw', 'smart_250_normalized',\n",
       "       'smart_250_raw', 'smart_251_normalized', 'smart_251_raw',\n",
       "       'smart_252_normalized', 'smart_252_raw', 'smart_254_normalized',\n",
       "       'smart_254_raw'],\n",
       "      dtype='object')"
      ]
     },
     "execution_count": 9,
     "metadata": {},
     "output_type": "execute_result"
    }
   ],
   "source": [
    "M_features = Test.columns\n",
    "print(Test.isnull().sum(axis = 0) / len(Test))\n",
    "index = np.where(Test.isnull().sum(axis = 0) / len(Test) >= 0.5)[0]\n",
    "len(index) \n",
    "M_features[index]"
   ]
  },
  {
   "cell_type": "code",
   "execution_count": 10,
   "id": "cce4dcc6",
   "metadata": {},
   "outputs": [],
   "source": [
    "f = ['date',\t'serial_number',\t'model',\t'capacity_bytes',\t'failure']"
   ]
  },
  {
   "cell_type": "code",
   "execution_count": 11,
   "id": "215c0b1f",
   "metadata": {},
   "outputs": [
    {
     "data": {
      "text/plain": [
       "14"
      ]
     },
     "execution_count": 11,
     "metadata": {},
     "output_type": "execute_result"
    }
   ],
   "source": [
    "Null = np.where(Data.isnull().sum(axis = 0) == len(Data))[0]\n",
    "len(Initial[Null])"
   ]
  },
  {
   "cell_type": "code",
   "execution_count": 12,
   "id": "a7669aca",
   "metadata": {},
   "outputs": [
    {
     "name": "stdout",
     "output_type": "stream",
     "text": [
      "(553380, 115)\n"
     ]
    },
    {
     "data": {
      "text/plain": [
       "Index(['date', 'serial_number', 'model', 'capacity_bytes', 'failure',\n",
       "       'smart_1_normalized', 'smart_1_raw', 'smart_3_normalized',\n",
       "       'smart_3_raw', 'smart_4_normalized', 'smart_4_raw',\n",
       "       'smart_5_normalized', 'smart_5_raw', 'smart_7_normalized',\n",
       "       'smart_7_raw', 'smart_9_normalized', 'smart_9_raw',\n",
       "       'smart_10_normalized', 'smart_10_raw', 'smart_12_normalized',\n",
       "       'smart_12_raw', 'smart_184_normalized', 'smart_184_raw',\n",
       "       'smart_187_normalized', 'smart_187_raw', 'smart_188_normalized',\n",
       "       'smart_188_raw', 'smart_190_normalized', 'smart_190_raw',\n",
       "       'smart_192_normalized', 'smart_192_raw', 'smart_193_normalized',\n",
       "       'smart_193_raw', 'smart_194_normalized', 'smart_194_raw',\n",
       "       'smart_195_normalized', 'smart_195_raw', 'smart_196_normalized',\n",
       "       'smart_196_raw', 'smart_197_normalized', 'smart_197_raw',\n",
       "       'smart_198_normalized', 'smart_198_raw', 'smart_199_normalized',\n",
       "       'smart_199_raw', 'smart_240_normalized', 'smart_240_raw',\n",
       "       'smart_241_normalized', 'smart_241_raw', 'smart_242_normalized',\n",
       "       'smart_242_raw'],\n",
       "      dtype='object')"
      ]
     },
     "execution_count": 12,
     "metadata": {},
     "output_type": "execute_result"
    }
   ],
   "source": [
    "Data.dropna(how = 'all', axis = 1, inplace = True) \n",
    "print(Data.shape)\n",
    "del Test \n",
    "\n",
    "Data.drop(M_features[index], axis = 1, inplace = True)\n",
    "Data.shape \n",
    "\n",
    "RE = Data.columns \n",
    "RE"
   ]
  },
  {
   "cell_type": "code",
   "execution_count": 13,
   "id": "e937dbd5",
   "metadata": {},
   "outputs": [
    {
     "data": {
      "text/plain": [
       "(553328, 51)"
      ]
     },
     "execution_count": 13,
     "metadata": {},
     "output_type": "execute_result"
    }
   ],
   "source": [
    "Data['capacity_bytes'] = (Data['capacity_bytes'] // 1e+9)\n",
    "Data['capacity_bytes'].value_counts() \n",
    "Data.drop(np.where(Data['capacity_bytes'] == -1)[0], inplace = True)\n",
    "Data = Data.fillna(0)\n",
    "Data.isnull().sum(axis = 0)\n",
    "Test = Data.copy()\n",
    "Test.shape "
   ]
  },
  {
   "cell_type": "code",
   "execution_count": 14,
   "id": "debc2553",
   "metadata": {},
   "outputs": [],
   "source": [
    "def Sigmoid(x):\n",
    "  return 1 / (1 + np.exp(-(x + np.random.normal(scale = 0.5)))) \n",
    "def TanH(x):\n",
    "  return np.tanh(x + np.random.normal(scale = 0.5))"
   ]
  },
  {
   "cell_type": "code",
   "execution_count": 15,
   "id": "dab0be55",
   "metadata": {},
   "outputs": [],
   "source": [
    "cf = ['smart_1_raw', 'smart_7_raw', 'smart_188_raw', 'smart_193_raw', 'smart_195_raw', 'smart_240_raw', 'smart_241_raw', 'smart_242_raw']\n",
    "for i in cf:\n",
    "   n = re.findall('\\d+',i) \n",
    "   s = 'smart_' + ''.join(n) + '_sig'\n",
    "   t = 'smart_' + ''.join(n) + '_tan'\n",
    "   Test[s] = Test[i].apply(Sigmoid)\n",
    "   Test[t] = Test[i].apply(TanH)"
   ]
  },
  {
   "cell_type": "code",
   "execution_count": 16,
   "id": "51bb0d6a",
   "metadata": {},
   "outputs": [
    {
     "name": "stdout",
     "output_type": "stream",
     "text": [
      "smart_1_raw feature Correlation with target(Failure) is 0.0016745163119723456\n",
      "smart_1_sig feature Correlation with target(Failure) is 0.0038934864467412077\n",
      "smart_1_tan feature Correlation with target(Failure) is 0.003629195867316591\n",
      "\n",
      "smart_7_raw feature Correlation with target(Failure) is 0.0006028239845759019\n",
      "smart_7_sig feature Correlation with target(Failure) is 0.003924482014598708\n",
      "smart_7_tan feature Correlation with target(Failure) is 0.0036595145913076196\n",
      "\n",
      "smart_188_raw feature Correlation with target(Failure) is 0.009120508594145146\n",
      "smart_188_sig feature Correlation with target(Failure) is 0.0009181341247338716\n",
      "smart_188_tan feature Correlation with target(Failure) is 0.0009957624218700804\n",
      "\n",
      "smart_193_raw feature Correlation with target(Failure) is -0.0014046697204491488\n",
      "smart_193_sig feature Correlation with target(Failure) is 0.0006273522436118276\n",
      "smart_193_tan feature Correlation with target(Failure) is 0.0004853723656640287\n",
      "\n",
      "smart_195_raw feature Correlation with target(Failure) is 0.0031445564596624185\n",
      "smart_195_sig feature Correlation with target(Failure) is 0.004328240448793572\n",
      "smart_195_tan feature Correlation with target(Failure) is 0.0040247842022375704\n",
      "\n",
      "smart_240_raw feature Correlation with target(Failure) is -2.603005394752795e-05\n",
      "smart_240_sig feature Correlation with target(Failure) is 0.003918100800661195\n",
      "smart_240_tan feature Correlation with target(Failure) is 0.003655969749415807\n",
      "\n",
      "smart_241_raw feature Correlation with target(Failure) is 0.00434203130624442\n",
      "smart_241_sig feature Correlation with target(Failure) is 0.0038725687737873587\n",
      "smart_241_tan feature Correlation with target(Failure) is 0.0036144021334806003\n",
      "\n",
      "smart_242_raw feature Correlation with target(Failure) is 0.0006918979581391774\n",
      "smart_242_sig feature Correlation with target(Failure) is 0.0038728871652751145\n",
      "smart_242_tan feature Correlation with target(Failure) is 0.0036133500316795986\n",
      "\n"
     ]
    }
   ],
   "source": [
    "cf = ['smart_1_raw', 'smart_1_sig', 'smart_1_tan', 'smart_7_raw', 'smart_7_sig', 'smart_7_tan', 'smart_188_raw', 'smart_188_sig', 'smart_188_tan', 'smart_193_raw', 'smart_193_sig', 'smart_193_tan', 'smart_195_raw', 'smart_195_sig', 'smart_195_tan', 'smart_240_raw', 'smart_240_sig', 'smart_240_tan', 'smart_241_raw', 'smart_241_sig', 'smart_241_tan', 'smart_242_raw', 'smart_242_sig', 'smart_242_tan']\n",
    "j = 1\n",
    "for i in cf:\n",
    "  print(i + ' feature' + ' Correlation with target(Failure)' + ' is ' + str(Test[i].corr(Test['failure']))) \n",
    "  if(j % 3 == 0):\n",
    "    print()\n",
    "  j+=1"
   ]
  },
  {
   "cell_type": "code",
   "execution_count": 17,
   "id": "02331ec8",
   "metadata": {},
   "outputs": [
    {
     "name": "stdout",
     "output_type": "stream",
     "text": [
      "Final shape of Data :  (553328, 57)\n"
     ]
    }
   ],
   "source": [
    "cf = ['smart_1_raw', 'smart_7_raw', 'smart_193_raw', 'smart_195_raw', 'smart_240_raw', 'smart_242_raw']\n",
    "for i in cf:\n",
    "   n = re.findall('\\d+',i) \n",
    "   s = 'smart_' + ''.join(n) + '_sig'\n",
    "   Data[s] = Data[i].apply(Sigmoid)\n",
    "\n",
    "print(\"Final shape of Data : \", Data.shape)"
   ]
  },
  {
   "cell_type": "code",
   "execution_count": 18,
   "id": "2b7324d9",
   "metadata": {},
   "outputs": [],
   "source": [
    "def res_fit(cat, Y):\n",
    "    j = dict(cat.value_counts())  \n",
    "    true, false = 0, 0\n",
    "    TRUE, FALSE = {}, {} \n",
    "    for key, value in j.items(): \n",
    "        sum, neg, = 0, 0\n",
    "        for state, y in zip(cat, Y): \n",
    "            if (key == state and y == 1): \n",
    "                sum+= 1             \n",
    "            elif (key == state and y == 0):\n",
    "                neg+= 1              \n",
    "        true = sum / value           \n",
    "        false = neg / value          \n",
    "        TRUE[key] = true\n",
    "        FALSE[key] = false           \n",
    "    return j, TRUE, FALSE\n",
    "\n",
    "def res_transform(cat, TRUE, FALSE):\n",
    "    t = []\n",
    "    f = []\n",
    "    for state in cat: \n",
    "        for ((key_t, value_t), (key_f, value_f)) in zip(TRUE.items(), FALSE.items()):  \n",
    "\n",
    "            if state == key_t and state == key_f: \n",
    "                t.append(value_t)                 \n",
    "                f.append(value_f)\n",
    "                break\n",
    "        else :           \n",
    "                t.append(1/2)\n",
    "                f.append(1/2) \n",
    "\n",
    "    X_t = np.array(t).reshape(-1, 1)\n",
    "    X_f = np.array(f).reshape(-1, 1) \n",
    "    \n",
    "    return np.concatenate((X_t, X_f), axis = 1) "
   ]
  },
  {
   "cell_type": "code",
   "execution_count": 19,
   "id": "09bf08b5",
   "metadata": {},
   "outputs": [],
   "source": [
    "del Test"
   ]
  },
  {
   "cell_type": "code",
   "execution_count": 20,
   "id": "a2607517",
   "metadata": {},
   "outputs": [],
   "source": [
    "split_date = '2019-07-03'"
   ]
  },
  {
   "cell_type": "code",
   "execution_count": 21,
   "id": "7c0bafc4",
   "metadata": {},
   "outputs": [
    {
     "name": "stdout",
     "output_type": "stream",
     "text": [
      "(331926, 57) (221402, 57)\n",
      "{'ST12000NM0007': 104129, 'ST4000DM000': 58705, 'ST8000NM0055': 43142, 'HGST HMS5C4040BLE640': 38256, 'ST8000DM002': 29622, 'HGST HUH721212ALN604': 28835, 'HGST HMS5C4040ALE640': 7921, 'TOSHIBA MG07ACA14TA': 3660, 'ST10000NM0086': 3600, 'HGST HUH728080ALE600': 3003, 'ST6000DX000': 2658, 'HGST HUH721212ALE600': 1560, 'ST500LM012 HN': 1509, 'TOSHIBA MQ01ABF050': 1497, 'TOSHIBA MQ01ABF050M': 1134, 'ST500LM030': 699, 'WDC WD5000LPVX': 636, 'TOSHIBA MD04ABA400V': 297, 'WDC WD5000LPCX': 162, 'ST4000DM005': 120, 'Seagate SSD': 111, 'ST500LM021': 97, 'HGST HUS726040ALE610': 84, 'HGST HDS5C4040ALE630': 78, 'ST8000DM005': 75, 'TOSHIBA HDWF180': 60, 'DELLBOSS VD': 60, 'HGST HUH721010ALE600': 60, 'Seagate BarraCuda SSD ZA500CM10002': 54, 'WDC WD5000BPKT': 33, 'ST6000DM001': 12, 'TOSHIBA HDWE160': 12, 'Seagate BarraCuda SSD ZA2000CM10002': 9, 'WDC WD60EFRX': 9, 'ST8000DM004': 9, 'Hitachi HDS5C4040ALE630': 3, 'ST320LT007': 3, 'ST9250315AS': 3, 'HGST HMS5C4040BLE641': 3, 'ST1000LM024 HN': 3, 'ST6000DM004': 3}\n",
      "\n",
      "**************************************************\n",
      "(331926, 2)\n",
      "(221402, 2)\n"
     ]
    }
   ],
   "source": [
    "Train = Data.loc[Data.date <= split_date]\n",
    "Val = Data.loc[Data.date > split_date]\n",
    "print(Train.shape, Val.shape)\n",
    "\n",
    "values, TR, FA = res_fit(Train['model'], Train['failure'].values)\n",
    "print(values)\n",
    "print()\n",
    "Train_model = res_transform(Train['model'], TR, FA)\n",
    "Val_model = res_transform(Val['model'], TR, FA)\n",
    "print('*'*50)\n",
    "print(Train_model.shape)\n",
    "print(Val_model.shape)"
   ]
  },
  {
   "cell_type": "code",
   "execution_count": 22,
   "id": "1c2f8f71",
   "metadata": {},
   "outputs": [
    {
     "data": {
      "text/plain": [
       "((221402, 52), (221402,))"
      ]
     },
     "execution_count": 22,
     "metadata": {},
     "output_type": "execute_result"
    }
   ],
   "source": [
    "X_Train_orig = Train.drop(f, axis = 1).values\n",
    "Y_Train_orig = Train.failure.values\n",
    "X_Val_orig = Val.drop(f, axis = 1).values\n",
    "Y_Val_orig = Val.failure.values\n",
    "X_Train_orig.shape, Y_Train_orig.shape\n",
    "X_Val_orig.shape, Y_Val_orig.shape"
   ]
  },
  {
   "cell_type": "code",
   "execution_count": 23,
   "id": "f74f29a8",
   "metadata": {},
   "outputs": [
    {
     "data": {
      "text/plain": [
       "((331926, 54), (221402, 54))"
      ]
     },
     "execution_count": 23,
     "metadata": {},
     "output_type": "execute_result"
    }
   ],
   "source": [
    "X_Train_orig = np.hstack((X_Train_orig, Train_model))\n",
    "X_Val_orig = np.hstack((X_Val_orig, Val_model))\n",
    "X_Train_orig.shape, X_Val_orig.shape"
   ]
  },
  {
   "cell_type": "code",
   "execution_count": 24,
   "id": "293559a0",
   "metadata": {},
   "outputs": [],
   "source": [
    "del Train_model\n",
    "del Val_model"
   ]
  },
  {
   "cell_type": "code",
   "execution_count": 25,
   "id": "25132677",
   "metadata": {},
   "outputs": [
    {
     "data": {
      "text/plain": [
       "(Counter({0: 331906, 1: 20}), Counter({0: 221397, 1: 5}))"
      ]
     },
     "execution_count": 25,
     "metadata": {},
     "output_type": "execute_result"
    }
   ],
   "source": [
    "Counter(Y_Train_orig), Counter(Y_Val_orig)"
   ]
  },
  {
   "cell_type": "code",
   "execution_count": 26,
   "id": "8b49b32b",
   "metadata": {},
   "outputs": [],
   "source": [
    "from imblearn.under_sampling import RandomUnderSampler\n",
    "from imblearn.pipeline import Pipeline\n",
    "\n",
    "under = RandomUnderSampler(sampling_strategy = 0.8)\n",
    "over_smote = SMOTE(n_jobs = -1, k_neighbors = 1, sampling_strategy = 0.5)\n",
    "steps = [('o', over_smote), ('u', under)]\n",
    "pipeline = Pipeline(steps = steps)"
   ]
  },
  {
   "cell_type": "code",
   "execution_count": 27,
   "id": "24eacf88",
   "metadata": {},
   "outputs": [
    {
     "name": "stderr",
     "output_type": "stream",
     "text": [
      "C:\\Users\\India\\anaconda3\\lib\\site-packages\\imblearn\\over_sampling\\_smote\\base.py:336: FutureWarning: The parameter `n_jobs` has been deprecated in 0.10 and will be removed in 0.12. You can pass an nearest neighbors estimator where `n_jobs` is already set instead.\n",
      "  warnings.warn(\n"
     ]
    }
   ],
   "source": [
    "x_train_sam, y_train_sam = pipeline.fit_resample(X_Train_orig, Y_Train_orig)\n",
    "x_val, y_val = X_Val_orig, Y_Val_orig\n",
    "x_train_sam.shape, y_train_sam.shape \n",
    "x_val.shape, y_val.shape \n",
    "\n",
    "from sklearn.preprocessing import Normalizer, StandardScaler\n",
    "normalizer = Normalizer()\n",
    "sc = StandardScaler()\n",
    "\n",
    "sc.fit(x_train_sam)\n",
    "\n",
    "X_train_standard = sc.transform(x_train_sam)\n",
    "X_val_standard = sc.transform(x_val)"
   ]
  },
  {
   "cell_type": "code",
   "execution_count": null,
   "id": "f5fd4639",
   "metadata": {},
   "outputs": [
    {
     "name": "stdout",
     "output_type": "stream",
     "text": [
      " * Serving Flask app '__main__'\n",
      " * Debug mode: off\n"
     ]
    },
    {
     "name": "stderr",
     "output_type": "stream",
     "text": [
      "WARNING: This is a development server. Do not use it in a production deployment. Use a production WSGI server instead.\n",
      " * Running on all addresses (0.0.0.0)\n",
      " * Running on http://127.0.0.1:600\n",
      " * Running on http://192.168.1.32:600\n",
      "Press CTRL+C to quit\n",
      "127.0.0.1 - - [19/Apr/2023 16:23:47] \"GET / HTTP/1.1\" 200 -\n",
      "127.0.0.1 - - [19/Apr/2023 16:23:47] \"GET /static/css/style.css HTTP/1.1\" 200 -\n",
      "127.0.0.1 - - [19/Apr/2023 16:23:47] \"GET /static/bg.jpg HTTP/1.1\" 200 -\n",
      "127.0.0.1 - - [19/Apr/2023 16:23:47] \"GET /favicon.ico HTTP/1.1\" 404 -\n",
      "C:\\Users\\India\\AppData\\Local\\Temp\\ipykernel_19308\\1183530707.py:28: FutureWarning: The frame.append method is deprecated and will be removed from pandas in a future version. Use pandas.concat instead.\n",
      "  dat = dat.append(pd.read_csv(\"C:/Users/India/Documents/Project2k23/Hard Disk failure/dataset/2019-07-13.csv\"))\n"
     ]
    },
    {
     "name": "stdout",
     "output_type": "stream",
     "text": [
      "(221986, 57)\n",
      "{'ST12000NM0007': 69420, 'ST4000DM000': 39160, 'ST8000NM0055': 28771, 'HGST HMS5C4040BLE640': 25504, 'ST8000DM002': 19740, 'HGST HUH721212ALN604': 19336, 'HGST HMS5C4040ALE640': 5303, 'TOSHIBA MG07ACA14TA': 2440, 'ST10000NM0086': 2400, 'HGST HUH728080ALE600': 2002, 'ST6000DX000': 1772, 'HGST HUH721212ALE600': 1560, 'ST500LM012 HN': 1006, 'TOSHIBA MQ01ABF050': 994, 'TOSHIBA MQ01ABF050M': 758, 'ST500LM030': 466, 'WDC WD5000LPVX': 427, 'TOSHIBA MD04ABA400V': 198, 'WDC WD5000LPCX': 108, 'ST4000DM005': 80, 'Seagate SSD': 74, 'ST500LM021': 66, 'DELLBOSS VD': 60, 'HGST HUS726040ALE610': 56, 'HGST HDS5C4040ALE630': 52, 'ST8000DM005': 50, 'TOSHIBA HDWF180': 40, 'HGST HUH721010ALE600': 40, 'Seagate BarraCuda SSD ZA500CM10002': 35, 'WDC WD5000BPKT': 22, 'ST6000DM001': 8, 'TOSHIBA HDWE160': 8, 'Seagate BarraCuda SSD ZA2000CM10002': 6, 'WDC WD60EFRX': 6, 'ST8000DM004': 6, 'Hitachi HDS5C4040ALE630': 2, 'ST320LT007': 2, 'ST9250315AS': 2, 'HGST HMS5C4040BLE641': 2, 'ST1000LM024 HN': 2, 'ST6000DM004': 2}\n"
     ]
    },
    {
     "name": "stderr",
     "output_type": "stream",
     "text": [
      "127.0.0.1 - - [19/Apr/2023 16:24:28] \"POST /predict HTTP/1.1\" 200 -\n",
      "127.0.0.1 - - [19/Apr/2023 16:24:28] \"GET /static/css/style.css HTTP/1.1\" 304 -\n",
      "127.0.0.1 - - [19/Apr/2023 16:24:28] \"GET /static/bg.jpg HTTP/1.1\" 304 -\n"
     ]
    }
   ],
   "source": [
    "import numpy as np\n",
    "import pandas as pd\n",
    "from flask import Flask, request, jsonify, render_template\n",
    "import pickle\n",
    "import os\n",
    "import pandas as pd\n",
    "import numpy as np\n",
    "import seaborn as sns\n",
    "import re\n",
    "import matplotlib.pyplot as plt\n",
    "from collections import Counter\n",
    "from imblearn.over_sampling import SMOTE\n",
    "from math import log\n",
    "\n",
    "app = Flask(__name__)\n",
    "\n",
    "model = pickle.load(open('model.pkl', 'rb'))\n",
    "\n",
    "@app.route('/')\n",
    "def home():\n",
    "    return render_template('index.html')\n",
    "\n",
    "@app.route('/predict',methods=['POST'])\n",
    "def predict():\n",
    "    try:\n",
    "        file=request.files['file']          \n",
    "        dat = pd.read_csv(file)  \n",
    "        dat = dat.append(pd.read_csv(\"C:/Users/India/Documents/Project2k23/Hard Disk failure/dataset/2019-07-13.csv\"))\n",
    "        dat.reset_index(inplace = True)\n",
    "        dat.drop('index', axis = 1, inplace = True)\n",
    "        dat.reset_index(inplace = True)\n",
    "        dat.drop('index', axis = 1, inplace = True)\n",
    "        dat.drop(Initial[Null], axis = 1, inplace = True)\n",
    "        dat.drop(M_features[index], axis = 1, inplace = True)\n",
    "        dat.drop(np.where(dat['capacity_bytes'] == -1)[0], inplace = True)\n",
    "        dat = dat.fillna(0)\n",
    "\n",
    "        for i in cf:\n",
    "           n = re.findall('\\d+',i) \n",
    "           s = 'smart_' + ''.join(n) + '_sig'\n",
    "           dat[s] = dat[i].apply(Sigmoid)\n",
    "        print(dat.shape)\n",
    "        values, TR, FA = res_fit(dat['model'], dat['failure'].values)\n",
    "        print(values)\n",
    "        Test_model = res_transform(dat['model'], TR, FA)\n",
    "        X_Test_orig = dat.drop(f, axis = 1).values\n",
    "        Y_Test_orig = dat.failure.values\n",
    "\n",
    "        X_Test_orig = np.hstack((X_Test_orig, Test_model))\n",
    "        X_Test_orig.shape\n",
    "\n",
    "        X_test, y_test = X_Test_orig, Y_Test_orig\n",
    "\n",
    "        \n",
    "        y_test.shape\n",
    "        Y_predicted_test = model.predict(X_test)\n",
    "        if Counter(y_test)[1] < 5:\n",
    "            pred = '95% of Hard Disk Failure'\n",
    "        elif Counter(y_test)[1] < 10:\n",
    "            pred ='90% of Hard Disk Failure'\n",
    "        elif Counter(y_test)[1] < 15:\n",
    "            pred ='85% of Hard Disk Failure'\n",
    "        elif Counter(y_test)[1] < 20:\n",
    "            pred ='80% of Hard Disk Failure'\n",
    "        elif Counter(y_test)[1] < 25:\n",
    "            pred ='75% of Hard Disk Failure'\n",
    "        else:\n",
    "            pred ='Below 50% of Hard Disk Failure'\n",
    "        \n",
    "        output = pred\n",
    "        return render_template('index.html', prediction_text='{}'.format(output))\n",
    "\n",
    "    except:\n",
    "        flash(\"Chech Your Name And Password\")   \n",
    "\n",
    "\n",
    "if __name__ == \"__main__\":\n",
    "    app.run(host='0.0.0.0', port='600')"
   ]
  },
  {
   "cell_type": "code",
   "execution_count": null,
   "id": "e77a30a0",
   "metadata": {},
   "outputs": [],
   "source": []
  }
 ],
 "metadata": {
  "kernelspec": {
   "display_name": "Python 3 (ipykernel)",
   "language": "python",
   "name": "python3"
  },
  "language_info": {
   "codemirror_mode": {
    "name": "ipython",
    "version": 3
   },
   "file_extension": ".py",
   "mimetype": "text/x-python",
   "name": "python",
   "nbconvert_exporter": "python",
   "pygments_lexer": "ipython3",
   "version": "3.10.9"
  }
 },
 "nbformat": 4,
 "nbformat_minor": 5
}
