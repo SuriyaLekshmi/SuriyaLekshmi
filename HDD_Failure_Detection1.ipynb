{
 "cells": [
  {
   "cell_type": "code",
   "execution_count": 1,
   "metadata": {
    "colab": {},
    "colab_type": "code",
    "id": "5AqgJtY6qrMV"
   },
   "outputs": [],
   "source": [
    "from pyunpack import Archive"
   ]
  },
  {
   "cell_type": "code",
   "execution_count": 2,
   "metadata": {
    "colab": {},
    "colab_type": "code",
    "id": "Lz7WpqT2q9eD"
   },
   "outputs": [
    {
     "data": {
      "text/plain": [
       "<pyunpack.Archive at 0x181fcaaa290>"
      ]
     },
     "execution_count": 2,
     "metadata": {},
     "output_type": "execute_result"
    }
   ],
   "source": [
    "Archive('C:/Users/India/Documents/Project2k23/Hard Disk failure/dataset')"
   ]
  },
  {
   "cell_type": "code",
   "execution_count": 3,
   "metadata": {
    "colab": {
     "base_uri": "https://localhost:8080/",
     "height": 138
    },
    "colab_type": "code",
    "id": "00O_gJByq_rn",
    "outputId": "5dc4fcd4-5265-4e7c-b090-b2581f76bef4"
   },
   "outputs": [],
   "source": [
    "import os\n",
    "import pandas as pd\n",
    "import numpy as np\n",
    "import seaborn as sns\n",
    "import re\n",
    "import matplotlib.pyplot as plt\n",
    "from collections import Counter\n",
    "from imblearn.over_sampling import SMOTE\n",
    "from math import log"
   ]
  },
  {
   "cell_type": "code",
   "execution_count": 4,
   "metadata": {
    "colab": {},
    "colab_type": "code",
    "id": "Utoqk-Ia2RCp",
    "scrolled": true
   },
   "outputs": [
    {
     "name": "stderr",
     "output_type": "stream",
     "text": [
      "C:\\Users\\India\\AppData\\Local\\Temp\\ipykernel_17336\\1840437860.py:4: FutureWarning: The frame.append method is deprecated and will be removed from pandas in a future version. Use pandas.concat instead.\n",
      "  Data = Data.append(pd.read_csv(\"C:/Users/India/Documents/Project2k23/Hard Disk failure/dataset/2019-07-\" + i + \".csv\"))\n",
      "C:\\Users\\India\\AppData\\Local\\Temp\\ipykernel_17336\\1840437860.py:4: FutureWarning: The frame.append method is deprecated and will be removed from pandas in a future version. Use pandas.concat instead.\n",
      "  Data = Data.append(pd.read_csv(\"C:/Users/India/Documents/Project2k23/Hard Disk failure/dataset/2019-07-\" + i + \".csv\"))\n",
      "C:\\Users\\India\\AppData\\Local\\Temp\\ipykernel_17336\\1840437860.py:4: FutureWarning: The frame.append method is deprecated and will be removed from pandas in a future version. Use pandas.concat instead.\n",
      "  Data = Data.append(pd.read_csv(\"C:/Users/India/Documents/Project2k23/Hard Disk failure/dataset/2019-07-\" + i + \".csv\"))\n",
      "C:\\Users\\India\\AppData\\Local\\Temp\\ipykernel_17336\\1840437860.py:4: FutureWarning: The frame.append method is deprecated and will be removed from pandas in a future version. Use pandas.concat instead.\n",
      "  Data = Data.append(pd.read_csv(\"C:/Users/India/Documents/Project2k23/Hard Disk failure/dataset/2019-07-\" + i + \".csv\"))\n"
     ]
    }
   ],
   "source": [
    "dates = ['02', '03', '04', '05']\n",
    "Data = pd.read_csv(\"C:/Users/India/Documents/Project2k23/Hard Disk failure/dataset/2019-07-01.csv\")\n",
    "for i in dates:\n",
    "  Data = Data.append(pd.read_csv(\"C:/Users/India/Documents/Project2k23/Hard Disk failure/dataset/2019-07-\" + i + \".csv\"))"
   ]
  },
  {
   "cell_type": "code",
   "execution_count": 9,
   "metadata": {
    "colab": {
     "base_uri": "https://localhost:8080/",
     "height": 151
    },
    "colab_type": "code",
    "id": "iPodCMoH8nhu",
    "outputId": "a3de8f9e-07bc-451b-a812-8aa29a9bc43f"
   },
   "outputs": [
    {
     "name": "stdout",
     "output_type": "stream",
     "text": [
      "<class 'pandas.core.frame.DataFrame'>\n",
      "Int64Index: 553380 entries, 0 to 110699\n",
      "Columns: 129 entries, date to smart_255_raw\n",
      "dtypes: float64(124), int64(2), object(3)\n",
      "memory usage: 548.9+ MB\n",
      "None\n",
      "\n",
      "Shape of the Data:  (553380, 129)\n"
     ]
    }
   ],
   "source": [
    "print(Data.info())\n",
    "print()\n",
    "print(\"Shape of the Data: \", Data.shape)"
   ]
  },
  {
   "cell_type": "code",
   "execution_count": 10,
   "metadata": {
    "colab": {
     "base_uri": "https://localhost:8080/",
     "height": 328
    },
    "colab_type": "code",
    "id": "qXosMjoJPcfw",
    "outputId": "37031aa8-d026-4adb-c9b0-df23e8e52c95"
   },
   "outputs": [
    {
     "data": {
      "text/html": [
       "<div>\n",
       "<style scoped>\n",
       "    .dataframe tbody tr th:only-of-type {\n",
       "        vertical-align: middle;\n",
       "    }\n",
       "\n",
       "    .dataframe tbody tr th {\n",
       "        vertical-align: top;\n",
       "    }\n",
       "\n",
       "    .dataframe thead th {\n",
       "        text-align: right;\n",
       "    }\n",
       "</style>\n",
       "<table border=\"1\" class=\"dataframe\">\n",
       "  <thead>\n",
       "    <tr style=\"text-align: right;\">\n",
       "      <th></th>\n",
       "      <th>date</th>\n",
       "      <th>serial_number</th>\n",
       "      <th>model</th>\n",
       "      <th>capacity_bytes</th>\n",
       "      <th>failure</th>\n",
       "      <th>smart_1_normalized</th>\n",
       "      <th>smart_1_raw</th>\n",
       "      <th>smart_2_normalized</th>\n",
       "      <th>smart_2_raw</th>\n",
       "      <th>smart_3_normalized</th>\n",
       "      <th>...</th>\n",
       "      <th>smart_250_normalized</th>\n",
       "      <th>smart_250_raw</th>\n",
       "      <th>smart_251_normalized</th>\n",
       "      <th>smart_251_raw</th>\n",
       "      <th>smart_252_normalized</th>\n",
       "      <th>smart_252_raw</th>\n",
       "      <th>smart_254_normalized</th>\n",
       "      <th>smart_254_raw</th>\n",
       "      <th>smart_255_normalized</th>\n",
       "      <th>smart_255_raw</th>\n",
       "    </tr>\n",
       "  </thead>\n",
       "  <tbody>\n",
       "    <tr>\n",
       "      <th>0</th>\n",
       "      <td>2019-07-01</td>\n",
       "      <td>Z305B2QN</td>\n",
       "      <td>ST4000DM000</td>\n",
       "      <td>4000787030016</td>\n",
       "      <td>0</td>\n",
       "      <td>119.0</td>\n",
       "      <td>224077128.0</td>\n",
       "      <td>NaN</td>\n",
       "      <td>NaN</td>\n",
       "      <td>91.0</td>\n",
       "      <td>...</td>\n",
       "      <td>NaN</td>\n",
       "      <td>NaN</td>\n",
       "      <td>NaN</td>\n",
       "      <td>NaN</td>\n",
       "      <td>NaN</td>\n",
       "      <td>NaN</td>\n",
       "      <td>NaN</td>\n",
       "      <td>NaN</td>\n",
       "      <td>NaN</td>\n",
       "      <td>NaN</td>\n",
       "    </tr>\n",
       "    <tr>\n",
       "      <th>1</th>\n",
       "      <td>2019-07-01</td>\n",
       "      <td>ZJV0XJQ4</td>\n",
       "      <td>ST12000NM0007</td>\n",
       "      <td>12000138625024</td>\n",
       "      <td>0</td>\n",
       "      <td>83.0</td>\n",
       "      <td>196781888.0</td>\n",
       "      <td>NaN</td>\n",
       "      <td>NaN</td>\n",
       "      <td>98.0</td>\n",
       "      <td>...</td>\n",
       "      <td>NaN</td>\n",
       "      <td>NaN</td>\n",
       "      <td>NaN</td>\n",
       "      <td>NaN</td>\n",
       "      <td>NaN</td>\n",
       "      <td>NaN</td>\n",
       "      <td>NaN</td>\n",
       "      <td>NaN</td>\n",
       "      <td>NaN</td>\n",
       "      <td>NaN</td>\n",
       "    </tr>\n",
       "    <tr>\n",
       "      <th>2</th>\n",
       "      <td>2019-07-01</td>\n",
       "      <td>ZJV0XJQ3</td>\n",
       "      <td>ST12000NM0007</td>\n",
       "      <td>12000138625024</td>\n",
       "      <td>0</td>\n",
       "      <td>76.0</td>\n",
       "      <td>37537312.0</td>\n",
       "      <td>NaN</td>\n",
       "      <td>NaN</td>\n",
       "      <td>99.0</td>\n",
       "      <td>...</td>\n",
       "      <td>NaN</td>\n",
       "      <td>NaN</td>\n",
       "      <td>NaN</td>\n",
       "      <td>NaN</td>\n",
       "      <td>NaN</td>\n",
       "      <td>NaN</td>\n",
       "      <td>NaN</td>\n",
       "      <td>NaN</td>\n",
       "      <td>NaN</td>\n",
       "      <td>NaN</td>\n",
       "    </tr>\n",
       "    <tr>\n",
       "      <th>3</th>\n",
       "      <td>2019-07-01</td>\n",
       "      <td>ZJV0XJQ0</td>\n",
       "      <td>ST12000NM0007</td>\n",
       "      <td>12000138625024</td>\n",
       "      <td>0</td>\n",
       "      <td>100.0</td>\n",
       "      <td>1592144.0</td>\n",
       "      <td>NaN</td>\n",
       "      <td>NaN</td>\n",
       "      <td>93.0</td>\n",
       "      <td>...</td>\n",
       "      <td>NaN</td>\n",
       "      <td>NaN</td>\n",
       "      <td>NaN</td>\n",
       "      <td>NaN</td>\n",
       "      <td>NaN</td>\n",
       "      <td>NaN</td>\n",
       "      <td>NaN</td>\n",
       "      <td>NaN</td>\n",
       "      <td>NaN</td>\n",
       "      <td>NaN</td>\n",
       "    </tr>\n",
       "    <tr>\n",
       "      <th>4</th>\n",
       "      <td>2019-07-01</td>\n",
       "      <td>PL1331LAHG1S4H</td>\n",
       "      <td>HGST HMS5C4040ALE640</td>\n",
       "      <td>4000787030016</td>\n",
       "      <td>0</td>\n",
       "      <td>100.0</td>\n",
       "      <td>0.0</td>\n",
       "      <td>134.0</td>\n",
       "      <td>103.0</td>\n",
       "      <td>100.0</td>\n",
       "      <td>...</td>\n",
       "      <td>NaN</td>\n",
       "      <td>NaN</td>\n",
       "      <td>NaN</td>\n",
       "      <td>NaN</td>\n",
       "      <td>NaN</td>\n",
       "      <td>NaN</td>\n",
       "      <td>NaN</td>\n",
       "      <td>NaN</td>\n",
       "      <td>NaN</td>\n",
       "      <td>NaN</td>\n",
       "    </tr>\n",
       "  </tbody>\n",
       "</table>\n",
       "<p>5 rows × 129 columns</p>\n",
       "</div>"
      ],
      "text/plain": [
       "         date   serial_number                 model  capacity_bytes  failure  \\\n",
       "0  2019-07-01        Z305B2QN           ST4000DM000   4000787030016        0   \n",
       "1  2019-07-01        ZJV0XJQ4         ST12000NM0007  12000138625024        0   \n",
       "2  2019-07-01        ZJV0XJQ3         ST12000NM0007  12000138625024        0   \n",
       "3  2019-07-01        ZJV0XJQ0         ST12000NM0007  12000138625024        0   \n",
       "4  2019-07-01  PL1331LAHG1S4H  HGST HMS5C4040ALE640   4000787030016        0   \n",
       "\n",
       "   smart_1_normalized  smart_1_raw  smart_2_normalized  smart_2_raw  \\\n",
       "0               119.0  224077128.0                 NaN          NaN   \n",
       "1                83.0  196781888.0                 NaN          NaN   \n",
       "2                76.0   37537312.0                 NaN          NaN   \n",
       "3               100.0    1592144.0                 NaN          NaN   \n",
       "4               100.0          0.0               134.0        103.0   \n",
       "\n",
       "   smart_3_normalized  ...  smart_250_normalized  smart_250_raw  \\\n",
       "0                91.0  ...                   NaN            NaN   \n",
       "1                98.0  ...                   NaN            NaN   \n",
       "2                99.0  ...                   NaN            NaN   \n",
       "3                93.0  ...                   NaN            NaN   \n",
       "4               100.0  ...                   NaN            NaN   \n",
       "\n",
       "   smart_251_normalized  smart_251_raw  smart_252_normalized  smart_252_raw  \\\n",
       "0                   NaN            NaN                   NaN            NaN   \n",
       "1                   NaN            NaN                   NaN            NaN   \n",
       "2                   NaN            NaN                   NaN            NaN   \n",
       "3                   NaN            NaN                   NaN            NaN   \n",
       "4                   NaN            NaN                   NaN            NaN   \n",
       "\n",
       "   smart_254_normalized  smart_254_raw  smart_255_normalized  smart_255_raw  \n",
       "0                   NaN            NaN                   NaN            NaN  \n",
       "1                   NaN            NaN                   NaN            NaN  \n",
       "2                   NaN            NaN                   NaN            NaN  \n",
       "3                   NaN            NaN                   NaN            NaN  \n",
       "4                   NaN            NaN                   NaN            NaN  \n",
       "\n",
       "[5 rows x 129 columns]"
      ]
     },
     "execution_count": 10,
     "metadata": {},
     "output_type": "execute_result"
    }
   ],
   "source": [
    "Data.head()"
   ]
  },
  {
   "cell_type": "code",
   "execution_count": 7,
   "metadata": {
    "colab": {
     "base_uri": "https://localhost:8080/",
     "height": 328
    },
    "colab_type": "code",
    "id": "gXHSrWH6-91D",
    "outputId": "7af66005-7c4e-4f03-f3e0-4e5e28f41ff4"
   },
   "outputs": [
    {
     "data": {
      "text/html": [
       "<div>\n",
       "<style scoped>\n",
       "    .dataframe tbody tr th:only-of-type {\n",
       "        vertical-align: middle;\n",
       "    }\n",
       "\n",
       "    .dataframe tbody tr th {\n",
       "        vertical-align: top;\n",
       "    }\n",
       "\n",
       "    .dataframe thead th {\n",
       "        text-align: right;\n",
       "    }\n",
       "</style>\n",
       "<table border=\"1\" class=\"dataframe\">\n",
       "  <thead>\n",
       "    <tr style=\"text-align: right;\">\n",
       "      <th></th>\n",
       "      <th>date</th>\n",
       "      <th>serial_number</th>\n",
       "      <th>model</th>\n",
       "      <th>capacity_bytes</th>\n",
       "      <th>failure</th>\n",
       "      <th>smart_1_normalized</th>\n",
       "      <th>smart_1_raw</th>\n",
       "      <th>smart_2_normalized</th>\n",
       "      <th>smart_2_raw</th>\n",
       "      <th>smart_3_normalized</th>\n",
       "      <th>...</th>\n",
       "      <th>smart_250_normalized</th>\n",
       "      <th>smart_250_raw</th>\n",
       "      <th>smart_251_normalized</th>\n",
       "      <th>smart_251_raw</th>\n",
       "      <th>smart_252_normalized</th>\n",
       "      <th>smart_252_raw</th>\n",
       "      <th>smart_254_normalized</th>\n",
       "      <th>smart_254_raw</th>\n",
       "      <th>smart_255_normalized</th>\n",
       "      <th>smart_255_raw</th>\n",
       "    </tr>\n",
       "  </thead>\n",
       "  <tbody>\n",
       "    <tr>\n",
       "      <th>110695</th>\n",
       "      <td>2019-07-05</td>\n",
       "      <td>ZA10MCEQ</td>\n",
       "      <td>ST8000DM002</td>\n",
       "      <td>8001563222016</td>\n",
       "      <td>0</td>\n",
       "      <td>83.0</td>\n",
       "      <td>210226056.0</td>\n",
       "      <td>NaN</td>\n",
       "      <td>NaN</td>\n",
       "      <td>94.0</td>\n",
       "      <td>...</td>\n",
       "      <td>NaN</td>\n",
       "      <td>NaN</td>\n",
       "      <td>NaN</td>\n",
       "      <td>NaN</td>\n",
       "      <td>NaN</td>\n",
       "      <td>NaN</td>\n",
       "      <td>NaN</td>\n",
       "      <td>NaN</td>\n",
       "      <td>NaN</td>\n",
       "      <td>NaN</td>\n",
       "    </tr>\n",
       "    <tr>\n",
       "      <th>110696</th>\n",
       "      <td>2019-07-05</td>\n",
       "      <td>ZCH0CRTK</td>\n",
       "      <td>ST12000NM0007</td>\n",
       "      <td>12000138625024</td>\n",
       "      <td>0</td>\n",
       "      <td>83.0</td>\n",
       "      <td>221616264.0</td>\n",
       "      <td>NaN</td>\n",
       "      <td>NaN</td>\n",
       "      <td>97.0</td>\n",
       "      <td>...</td>\n",
       "      <td>NaN</td>\n",
       "      <td>NaN</td>\n",
       "      <td>NaN</td>\n",
       "      <td>NaN</td>\n",
       "      <td>NaN</td>\n",
       "      <td>NaN</td>\n",
       "      <td>NaN</td>\n",
       "      <td>NaN</td>\n",
       "      <td>NaN</td>\n",
       "      <td>NaN</td>\n",
       "    </tr>\n",
       "    <tr>\n",
       "      <th>110697</th>\n",
       "      <td>2019-07-05</td>\n",
       "      <td>AAGA7W2H</td>\n",
       "      <td>HGST HUH721212ALN604</td>\n",
       "      <td>12000138625024</td>\n",
       "      <td>0</td>\n",
       "      <td>100.0</td>\n",
       "      <td>0.0</td>\n",
       "      <td>132.0</td>\n",
       "      <td>96.0</td>\n",
       "      <td>100.0</td>\n",
       "      <td>...</td>\n",
       "      <td>NaN</td>\n",
       "      <td>NaN</td>\n",
       "      <td>NaN</td>\n",
       "      <td>NaN</td>\n",
       "      <td>NaN</td>\n",
       "      <td>NaN</td>\n",
       "      <td>NaN</td>\n",
       "      <td>NaN</td>\n",
       "      <td>NaN</td>\n",
       "      <td>NaN</td>\n",
       "    </tr>\n",
       "    <tr>\n",
       "      <th>110698</th>\n",
       "      <td>2019-07-05</td>\n",
       "      <td>PL1331LAHGD9NH</td>\n",
       "      <td>HGST HMS5C4040BLE640</td>\n",
       "      <td>4000787030016</td>\n",
       "      <td>0</td>\n",
       "      <td>100.0</td>\n",
       "      <td>0.0</td>\n",
       "      <td>134.0</td>\n",
       "      <td>100.0</td>\n",
       "      <td>100.0</td>\n",
       "      <td>...</td>\n",
       "      <td>NaN</td>\n",
       "      <td>NaN</td>\n",
       "      <td>NaN</td>\n",
       "      <td>NaN</td>\n",
       "      <td>NaN</td>\n",
       "      <td>NaN</td>\n",
       "      <td>NaN</td>\n",
       "      <td>NaN</td>\n",
       "      <td>NaN</td>\n",
       "      <td>NaN</td>\n",
       "    </tr>\n",
       "    <tr>\n",
       "      <th>110699</th>\n",
       "      <td>2019-07-05</td>\n",
       "      <td>PL2331LAHDS4TJ</td>\n",
       "      <td>HGST HMS5C4040BLE640</td>\n",
       "      <td>4000787030016</td>\n",
       "      <td>0</td>\n",
       "      <td>100.0</td>\n",
       "      <td>0.0</td>\n",
       "      <td>133.0</td>\n",
       "      <td>104.0</td>\n",
       "      <td>100.0</td>\n",
       "      <td>...</td>\n",
       "      <td>NaN</td>\n",
       "      <td>NaN</td>\n",
       "      <td>NaN</td>\n",
       "      <td>NaN</td>\n",
       "      <td>NaN</td>\n",
       "      <td>NaN</td>\n",
       "      <td>NaN</td>\n",
       "      <td>NaN</td>\n",
       "      <td>NaN</td>\n",
       "      <td>NaN</td>\n",
       "    </tr>\n",
       "  </tbody>\n",
       "</table>\n",
       "<p>5 rows × 129 columns</p>\n",
       "</div>"
      ],
      "text/plain": [
       "              date   serial_number                 model  capacity_bytes  \\\n",
       "110695  2019-07-05        ZA10MCEQ           ST8000DM002   8001563222016   \n",
       "110696  2019-07-05        ZCH0CRTK         ST12000NM0007  12000138625024   \n",
       "110697  2019-07-05        AAGA7W2H  HGST HUH721212ALN604  12000138625024   \n",
       "110698  2019-07-05  PL1331LAHGD9NH  HGST HMS5C4040BLE640   4000787030016   \n",
       "110699  2019-07-05  PL2331LAHDS4TJ  HGST HMS5C4040BLE640   4000787030016   \n",
       "\n",
       "        failure  smart_1_normalized  smart_1_raw  smart_2_normalized  \\\n",
       "110695        0                83.0  210226056.0                 NaN   \n",
       "110696        0                83.0  221616264.0                 NaN   \n",
       "110697        0               100.0          0.0               132.0   \n",
       "110698        0               100.0          0.0               134.0   \n",
       "110699        0               100.0          0.0               133.0   \n",
       "\n",
       "        smart_2_raw  smart_3_normalized  ...  smart_250_normalized  \\\n",
       "110695          NaN                94.0  ...                   NaN   \n",
       "110696          NaN                97.0  ...                   NaN   \n",
       "110697         96.0               100.0  ...                   NaN   \n",
       "110698        100.0               100.0  ...                   NaN   \n",
       "110699        104.0               100.0  ...                   NaN   \n",
       "\n",
       "        smart_250_raw  smart_251_normalized  smart_251_raw  \\\n",
       "110695            NaN                   NaN            NaN   \n",
       "110696            NaN                   NaN            NaN   \n",
       "110697            NaN                   NaN            NaN   \n",
       "110698            NaN                   NaN            NaN   \n",
       "110699            NaN                   NaN            NaN   \n",
       "\n",
       "        smart_252_normalized  smart_252_raw  smart_254_normalized  \\\n",
       "110695                   NaN            NaN                   NaN   \n",
       "110696                   NaN            NaN                   NaN   \n",
       "110697                   NaN            NaN                   NaN   \n",
       "110698                   NaN            NaN                   NaN   \n",
       "110699                   NaN            NaN                   NaN   \n",
       "\n",
       "        smart_254_raw  smart_255_normalized  smart_255_raw  \n",
       "110695            NaN                   NaN            NaN  \n",
       "110696            NaN                   NaN            NaN  \n",
       "110697            NaN                   NaN            NaN  \n",
       "110698            NaN                   NaN            NaN  \n",
       "110699            NaN                   NaN            NaN  \n",
       "\n",
       "[5 rows x 129 columns]"
      ]
     },
     "execution_count": 7,
     "metadata": {},
     "output_type": "execute_result"
    }
   ],
   "source": [
    "Data.tail()"
   ]
  },
  {
   "cell_type": "code",
   "execution_count": 5,
   "metadata": {
    "colab": {
     "base_uri": "https://localhost:8080/",
     "height": 168
    },
    "colab_type": "code",
    "id": "OFLQ4fIy_Er9",
    "outputId": "84957c8a-c61f-432a-c4c1-aa6eac23bf96"
   },
   "outputs": [
    {
     "ename": "NameError",
     "evalue": "name 'Data' is not defined",
     "output_type": "error",
     "traceback": [
      "\u001b[1;31m---------------------------------------------------------------------------\u001b[0m",
      "\u001b[1;31mNameError\u001b[0m                                 Traceback (most recent call last)",
      "Cell \u001b[1;32mIn[5], line 1\u001b[0m\n\u001b[1;32m----> 1\u001b[0m \u001b[43mData\u001b[49m\u001b[38;5;241m.\u001b[39mreset_index(inplace \u001b[38;5;241m=\u001b[39m \u001b[38;5;28;01mTrue\u001b[39;00m)\n\u001b[0;32m      2\u001b[0m Data[\u001b[38;5;124m'\u001b[39m\u001b[38;5;124mdate\u001b[39m\u001b[38;5;124m'\u001b[39m] \u001b[38;5;241m=\u001b[39m pd\u001b[38;5;241m.\u001b[39mto_datetime(Data[\u001b[38;5;124m'\u001b[39m\u001b[38;5;124mdate\u001b[39m\u001b[38;5;124m'\u001b[39m])\n\u001b[0;32m      3\u001b[0m Data\u001b[38;5;241m.\u001b[39mcolumns\n",
      "\u001b[1;31mNameError\u001b[0m: name 'Data' is not defined"
     ]
    }
   ],
   "source": [
    "Data.reset_index(inplace = True)\n",
    "Data['date'] = pd.to_datetime(Data['date'])\n",
    "Data.columns"
   ]
  },
  {
   "cell_type": "code",
   "execution_count": 9,
   "metadata": {
    "colab": {
     "base_uri": "https://localhost:8080/",
     "height": 168
    },
    "colab_type": "code",
    "id": "7V_Mmy6UXI7n",
    "outputId": "2f72fc3c-0ef5-4e80-e823-2ea17cc7fcba"
   },
   "outputs": [
    {
     "data": {
      "text/plain": [
       "Index(['date', 'serial_number', 'model', 'capacity_bytes', 'failure',\n",
       "       'smart_1_normalized', 'smart_1_raw', 'smart_2_normalized',\n",
       "       'smart_2_raw', 'smart_3_normalized',\n",
       "       ...\n",
       "       'smart_250_normalized', 'smart_250_raw', 'smart_251_normalized',\n",
       "       'smart_251_raw', 'smart_252_normalized', 'smart_252_raw',\n",
       "       'smart_254_normalized', 'smart_254_raw', 'smart_255_normalized',\n",
       "       'smart_255_raw'],\n",
       "      dtype='object', length=129)"
      ]
     },
     "execution_count": 9,
     "metadata": {},
     "output_type": "execute_result"
    }
   ],
   "source": [
    "Data.drop('index', axis = 1, inplace = True)\n",
    "Test = Data.dropna(how = 'all', axis = 1)\n",
    "Initial = Data.columns\n",
    "Initial"
   ]
  },
  {
   "cell_type": "code",
   "execution_count": 10,
   "metadata": {
    "colab": {
     "base_uri": "https://localhost:8080/",
     "height": 34
    },
    "colab_type": "code",
    "id": "-wnh46ZXA1Dx",
    "outputId": "e837567b-d322-4c0a-e0cd-9da70e5465f0"
   },
   "outputs": [
    {
     "data": {
      "text/plain": [
       "(553380, 115)"
      ]
     },
     "execution_count": 10,
     "metadata": {},
     "output_type": "execute_result"
    }
   ],
   "source": [
    "Test.shape "
   ]
  },
  {
   "cell_type": "code",
   "execution_count": 11,
   "metadata": {
    "colab": {
     "base_uri": "https://localhost:8080/",
     "height": 34
    },
    "colab_type": "code",
    "id": "8WDwz9QzA884",
    "outputId": "1b69aba2-a0fe-49ee-c400-89fb337f3557"
   },
   "outputs": [
    {
     "data": {
      "text/plain": [
       "8"
      ]
     },
     "execution_count": 11,
     "metadata": {},
     "output_type": "execute_result"
    }
   ],
   "source": [
    "Features = ['5', '10', '184', '187', '188', '196', '197', '198']\n",
    "len(Features)"
   ]
  },
  {
   "cell_type": "code",
   "execution_count": 12,
   "metadata": {
    "colab": {
     "base_uri": "https://localhost:8080/",
     "height": 101
    },
    "colab_type": "code",
    "id": "GXeV334bA846",
    "outputId": "8815904b-7696-42c7-de1e-f0f9f6fcf469"
   },
   "outputs": [
    {
     "name": "stderr",
     "output_type": "stream",
     "text": [
      "C:\\Users\\India\\AppData\\Local\\Temp\\ipykernel_14448\\2403248303.py:3: SettingWithCopyWarning: \n",
      "A value is trying to be set on a copy of a slice from a DataFrame\n",
      "\n",
      "See the caveats in the documentation: https://pandas.pydata.org/pandas-docs/stable/user_guide/indexing.html#returning-a-view-versus-a-copy\n",
      "  Test.drop(features, axis = 1, inplace = True)\n",
      "C:\\Users\\India\\AppData\\Local\\Temp\\ipykernel_14448\\2403248303.py:3: SettingWithCopyWarning: \n",
      "A value is trying to be set on a copy of a slice from a DataFrame\n",
      "\n",
      "See the caveats in the documentation: https://pandas.pydata.org/pandas-docs/stable/user_guide/indexing.html#returning-a-view-versus-a-copy\n",
      "  Test.drop(features, axis = 1, inplace = True)\n",
      "C:\\Users\\India\\AppData\\Local\\Temp\\ipykernel_14448\\2403248303.py:3: SettingWithCopyWarning: \n",
      "A value is trying to be set on a copy of a slice from a DataFrame\n",
      "\n",
      "See the caveats in the documentation: https://pandas.pydata.org/pandas-docs/stable/user_guide/indexing.html#returning-a-view-versus-a-copy\n",
      "  Test.drop(features, axis = 1, inplace = True)\n",
      "C:\\Users\\India\\AppData\\Local\\Temp\\ipykernel_14448\\2403248303.py:3: SettingWithCopyWarning: \n",
      "A value is trying to be set on a copy of a slice from a DataFrame\n",
      "\n",
      "See the caveats in the documentation: https://pandas.pydata.org/pandas-docs/stable/user_guide/indexing.html#returning-a-view-versus-a-copy\n",
      "  Test.drop(features, axis = 1, inplace = True)\n",
      "C:\\Users\\India\\AppData\\Local\\Temp\\ipykernel_14448\\2403248303.py:3: SettingWithCopyWarning: \n",
      "A value is trying to be set on a copy of a slice from a DataFrame\n",
      "\n",
      "See the caveats in the documentation: https://pandas.pydata.org/pandas-docs/stable/user_guide/indexing.html#returning-a-view-versus-a-copy\n",
      "  Test.drop(features, axis = 1, inplace = True)\n",
      "C:\\Users\\India\\AppData\\Local\\Temp\\ipykernel_14448\\2403248303.py:3: SettingWithCopyWarning: \n",
      "A value is trying to be set on a copy of a slice from a DataFrame\n",
      "\n",
      "See the caveats in the documentation: https://pandas.pydata.org/pandas-docs/stable/user_guide/indexing.html#returning-a-view-versus-a-copy\n",
      "  Test.drop(features, axis = 1, inplace = True)\n",
      "C:\\Users\\India\\AppData\\Local\\Temp\\ipykernel_14448\\2403248303.py:3: SettingWithCopyWarning: \n",
      "A value is trying to be set on a copy of a slice from a DataFrame\n",
      "\n",
      "See the caveats in the documentation: https://pandas.pydata.org/pandas-docs/stable/user_guide/indexing.html#returning-a-view-versus-a-copy\n",
      "  Test.drop(features, axis = 1, inplace = True)\n",
      "C:\\Users\\India\\AppData\\Local\\Temp\\ipykernel_14448\\2403248303.py:3: SettingWithCopyWarning: \n",
      "A value is trying to be set on a copy of a slice from a DataFrame\n",
      "\n",
      "See the caveats in the documentation: https://pandas.pydata.org/pandas-docs/stable/user_guide/indexing.html#returning-a-view-versus-a-copy\n",
      "  Test.drop(features, axis = 1, inplace = True)\n"
     ]
    }
   ],
   "source": [
    "for i in Features:\n",
    "  features = ['smart_' + i + '_normalized', 'smart_' + i + '_raw']\n",
    "  Test.drop(features, axis = 1, inplace = True)"
   ]
  },
  {
   "cell_type": "code",
   "execution_count": 13,
   "metadata": {
    "colab": {
     "base_uri": "https://localhost:8080/",
     "height": 34
    },
    "colab_type": "code",
    "id": "j_AAlxPLA832",
    "outputId": "b3714667-61f4-4125-c933-c185f6e4b3c0"
   },
   "outputs": [
    {
     "data": {
      "text/plain": [
       "(553380, 99)"
      ]
     },
     "execution_count": 13,
     "metadata": {},
     "output_type": "execute_result"
    }
   ],
   "source": [
    "Test.shape "
   ]
  },
  {
   "cell_type": "code",
   "execution_count": 1,
   "metadata": {
    "colab": {
     "base_uri": "https://localhost:8080/",
     "height": 1260
    },
    "colab_type": "code",
    "id": "oQfgRDw3tZWI",
    "outputId": "a6798cd7-b662-4141-91ee-1a8754d79f60"
   },
   "outputs": [
    {
     "ename": "NameError",
     "evalue": "name 'Data' is not defined",
     "output_type": "error",
     "traceback": [
      "\u001b[1;31m---------------------------------------------------------------------------\u001b[0m",
      "\u001b[1;31mNameError\u001b[0m                                 Traceback (most recent call last)",
      "Cell \u001b[1;32mIn[1], line 1\u001b[0m\n\u001b[1;32m----> 1\u001b[0m total \u001b[38;5;241m=\u001b[39m \u001b[38;5;28mlen\u001b[39m(\u001b[43mData\u001b[49m)\n\u001b[0;32m      2\u001b[0m plt\u001b[38;5;241m.\u001b[39mfigure(figsize \u001b[38;5;241m=\u001b[39m (\u001b[38;5;241m20\u001b[39m,\u001b[38;5;241m20\u001b[39m))\n\u001b[0;32m      3\u001b[0m ax \u001b[38;5;241m=\u001b[39m sns\u001b[38;5;241m.\u001b[39mcountplot(x \u001b[38;5;241m=\u001b[39m \u001b[38;5;124m\"\u001b[39m\u001b[38;5;124mmodel\u001b[39m\u001b[38;5;124m\"\u001b[39m, data \u001b[38;5;241m=\u001b[39m Test, order \u001b[38;5;241m=\u001b[39m Test\u001b[38;5;241m.\u001b[39mmodel\u001b[38;5;241m.\u001b[39mvalue_counts()\u001b[38;5;241m.\u001b[39mindex)\n",
      "\u001b[1;31mNameError\u001b[0m: name 'Data' is not defined"
     ]
    }
   ],
   "source": [
    "total = len(Data)\n",
    "plt.figure(figsize = (20,20))\n",
    "ax = sns.countplot(x = \"model\", data = Test, order = Test.model.value_counts().index)\n",
    "for p in ax.patches:\n",
    "        ax.annotate('{:.4f}% ({})'.format(100*p.get_height()/total, p.get_height()), (p.get_x()+0.1, p.get_height()+5), rotation = 'vertical')\n",
    "\n",
    "ax.yaxis.set_ticks(np.linspace(0, total, 11))\n",
    "\n",
    "ax.set_yticklabels(map('{:.1f}%'.format, 100*ax.yaxis.get_majorticklocs()/total))\n",
    "plt.xticks(rotation=90)\n",
    "plt.title('Counts of every HDD model')\n",
    "plt.grid(True)\n",
    "plt.show()"
   ]
  },
  {
   "cell_type": "code",
   "execution_count": 15,
   "metadata": {
    "colab": {
     "base_uri": "https://localhost:8080/",
     "height": 390
    },
    "colab_type": "code",
    "id": "yH5s7PO6jdBa",
    "outputId": "fcbb629d-01b3-4e3f-e9a4-8b1a776eddc3"
   },
   "outputs": [
    {
     "data": {
      "image/png": "[encoded data removed]",
      "text/plain": [
       "<Figure size 640x480 with 1 Axes>"
      ]
     },
     "metadata": {},
     "output_type": "display_data"
    }
   ],
   "source": [
    "ax = Test.groupby(['date', 'failure'])['failure'].count().unstack(1)[1].plot.bar()\n",
    "for p in ax.patches:\n",
    "        ax.annotate('({})'.format(p.get_height()), (p.get_x()+0.1, p.get_height()+0.1))\n",
    "plt.legend()\n",
    "plt.title(\"Number of HDD falied in each Day's\")\n",
    "plt.show()"
   ]
  },
  {
   "cell_type": "code",
   "execution_count": 16,
   "metadata": {
    "colab": {
     "base_uri": "https://localhost:8080/",
     "height": 269
    },
    "colab_type": "code",
    "id": "z2T1WSOPA8yU",
    "outputId": "d3ae679d-ffa4-4393-9c1f-58838ab32305"
   },
   "outputs": [
    {
     "name": "stdout",
     "output_type": "stream",
     "text": [
      "Number of Unique Models:  41\n",
      "Index(['ST12000NM0007', 'ST4000DM000', 'ST8000NM0055', 'HGST HMS5C4040BLE640',\n",
      "       'ST8000DM002', 'HGST HUH721212ALN604', 'HGST HMS5C4040ALE640',\n",
      "       'TOSHIBA MG07ACA14TA', 'ST10000NM0086', 'HGST HUH728080ALE600',\n",
      "       'ST6000DX000', 'HGST HUH721212ALE600', 'ST500LM012 HN',\n",
      "       'TOSHIBA MQ01ABF050', 'TOSHIBA MQ01ABF050M', 'ST500LM030',\n",
      "       'WDC WD5000LPVX', 'TOSHIBA MD04ABA400V', 'WDC WD5000LPCX',\n",
      "       'ST4000DM005', 'Seagate SSD', 'ST500LM021', 'HGST HUS726040ALE610',\n",
      "       'HGST HDS5C4040ALE630', 'ST8000DM005', 'TOSHIBA HDWF180', 'DELLBOSS VD',\n",
      "       'HGST HUH721010ALE600', 'Seagate BarraCuda SSD ZA500CM10002',\n",
      "       'WDC WD5000BPKT', 'ST6000DM001', 'TOSHIBA HDWE160',\n",
      "       'Seagate BarraCuda SSD ZA2000CM10002', 'WDC WD60EFRX', 'ST8000DM004',\n",
      "       'Hitachi HDS5C4040ALE630', 'ST320LT007', 'ST9250315AS',\n",
      "       'HGST HMS5C4040BLE641', 'ST1000LM024 HN', 'ST6000DM004'],\n",
      "      dtype='object')\n"
     ]
    }
   ],
   "source": [
    "models = Test.model.value_counts().index\n",
    "print(\"Number of Unique Models: \", len(models))\n",
    "print(models)"
   ]
  },
  {
   "cell_type": "code",
   "execution_count": 17,
   "metadata": {
    "colab": {
     "base_uri": "https://localhost:8080/",
     "height": 706
    },
    "colab_type": "code",
    "id": "xbPG_Nw_nbge",
    "outputId": "8e2f2ed1-4592-47c2-d97f-a1f071e17af7",
    "scrolled": true
   },
   "outputs": [
    {
     "name": "stdout",
     "output_type": "stream",
     "text": [
      "ST12000NM0007 failure_rate is 0.00922 %\n",
      "ST4000DM000 failure_rate is 0.00204 %\n",
      "ST8000NM0055 failure_rate is 0.00417 %\n",
      "HGST HMS5C4040BLE640 failure_rate is 0 %\n",
      "ST8000DM002 failure_rate is 0.00405 %\n",
      "HGST HUH721212ALN604 failure_rate is 0 %\n",
      "HGST HMS5C4040ALE640 failure_rate is 0 %\n",
      "TOSHIBA MG07ACA14TA failure_rate is 0 %\n",
      "ST10000NM0086 failure_rate is 0.01667 %\n",
      "HGST HUH728080ALE600 failure_rate is 0 %\n",
      "ST6000DX000 failure_rate is 0 %\n",
      "HGST HUH721212ALE600 failure_rate is 0 %\n",
      "ST500LM012 HN failure_rate is 0 %\n",
      "TOSHIBA MQ01ABF050 failure_rate is 0 %\n",
      "TOSHIBA MQ01ABF050M failure_rate is 0 %\n",
      "ST500LM030 failure_rate is 0.08584 %\n",
      "WDC WD5000LPVX failure_rate is 0 %\n",
      "TOSHIBA MD04ABA400V failure_rate is 0 %\n",
      "WDC WD5000LPCX failure_rate is 0 %\n",
      "ST4000DM005 failure_rate is 0 %\n",
      "Seagate SSD failure_rate is 0 %\n",
      "ST500LM021 failure_rate is 0 %\n",
      "HGST HUS726040ALE610 failure_rate is 0 %\n",
      "HGST HDS5C4040ALE630 failure_rate is 0 %\n",
      "ST8000DM005 failure_rate is 0 %\n",
      "TOSHIBA HDWF180 failure_rate is 0 %\n",
      "DELLBOSS VD failure_rate is 0 %\n",
      "HGST HUH721010ALE600 failure_rate is 0 %\n",
      "Seagate BarraCuda SSD ZA500CM10002 failure_rate is 0 %\n",
      "WDC WD5000BPKT failure_rate is 0 %\n",
      "ST6000DM001 failure_rate is 0 %\n",
      "TOSHIBA HDWE160 failure_rate is 0 %\n",
      "Seagate BarraCuda SSD ZA2000CM10002 failure_rate is 0 %\n",
      "WDC WD60EFRX failure_rate is 0 %\n",
      "ST8000DM004 failure_rate is 0 %\n",
      "Hitachi HDS5C4040ALE630 failure_rate is 0 %\n",
      "ST320LT007 failure_rate is 0 %\n",
      "ST9250315AS failure_rate is 0 %\n",
      "HGST HMS5C4040BLE641 failure_rate is 0 %\n",
      "ST1000LM024 HN failure_rate is 0 %\n",
      "ST6000DM004 failure_rate is 0 %\n"
     ]
    }
   ],
   "source": [
    "for i in models:\n",
    "  try:\n",
    "    c = Test[Test.model == i].failure.value_counts()[1] / len(Test[Test.model == i]) * 100\n",
    "    print(i, 'failure_rate is {:.5f} %'.format(c))\n",
    "  except KeyError:\n",
    "    print(i, 'failure_rate is 0 %')"
   ]
  },
  {
   "cell_type": "code",
   "execution_count": 18,
   "metadata": {
    "colab": {
     "base_uri": "https://localhost:8080/",
     "height": 328
    },
    "colab_type": "code",
    "id": "__PgAGjT_HLA",
    "outputId": "f1918044-d478-4c5c-9b4a-fb8acb545dee"
   },
   "outputs": [
    {
     "data": {
      "text/html": [
       "<div>\n",
       "<style scoped>\n",
       "    .dataframe tbody tr th:only-of-type {\n",
       "        vertical-align: middle;\n",
       "    }\n",
       "\n",
       "    .dataframe tbody tr th {\n",
       "        vertical-align: top;\n",
       "    }\n",
       "\n",
       "    .dataframe thead th {\n",
       "        text-align: right;\n",
       "    }\n",
       "</style>\n",
       "<table border=\"1\" class=\"dataframe\">\n",
       "  <thead>\n",
       "    <tr style=\"text-align: right;\">\n",
       "      <th></th>\n",
       "      <th>date</th>\n",
       "      <th>serial_number</th>\n",
       "      <th>model</th>\n",
       "      <th>capacity_bytes</th>\n",
       "      <th>failure</th>\n",
       "      <th>smart_1_normalized</th>\n",
       "      <th>smart_1_raw</th>\n",
       "      <th>smart_2_normalized</th>\n",
       "      <th>smart_2_raw</th>\n",
       "      <th>smart_3_normalized</th>\n",
       "      <th>...</th>\n",
       "      <th>smart_242_normalized</th>\n",
       "      <th>smart_242_raw</th>\n",
       "      <th>smart_250_normalized</th>\n",
       "      <th>smart_250_raw</th>\n",
       "      <th>smart_251_normalized</th>\n",
       "      <th>smart_251_raw</th>\n",
       "      <th>smart_252_normalized</th>\n",
       "      <th>smart_252_raw</th>\n",
       "      <th>smart_254_normalized</th>\n",
       "      <th>smart_254_raw</th>\n",
       "    </tr>\n",
       "  </thead>\n",
       "  <tbody>\n",
       "    <tr>\n",
       "      <th>0</th>\n",
       "      <td>2019-07-01</td>\n",
       "      <td>Z305B2QN</td>\n",
       "      <td>ST4000DM000</td>\n",
       "      <td>4000787030016</td>\n",
       "      <td>0</td>\n",
       "      <td>119.0</td>\n",
       "      <td>224077128.0</td>\n",
       "      <td>NaN</td>\n",
       "      <td>NaN</td>\n",
       "      <td>91.0</td>\n",
       "      <td>...</td>\n",
       "      <td>100.0</td>\n",
       "      <td>1.425050e+11</td>\n",
       "      <td>NaN</td>\n",
       "      <td>NaN</td>\n",
       "      <td>NaN</td>\n",
       "      <td>NaN</td>\n",
       "      <td>NaN</td>\n",
       "      <td>NaN</td>\n",
       "      <td>NaN</td>\n",
       "      <td>NaN</td>\n",
       "    </tr>\n",
       "    <tr>\n",
       "      <th>1</th>\n",
       "      <td>2019-07-01</td>\n",
       "      <td>ZJV0XJQ4</td>\n",
       "      <td>ST12000NM0007</td>\n",
       "      <td>12000138625024</td>\n",
       "      <td>0</td>\n",
       "      <td>83.0</td>\n",
       "      <td>196781888.0</td>\n",
       "      <td>NaN</td>\n",
       "      <td>NaN</td>\n",
       "      <td>98.0</td>\n",
       "      <td>...</td>\n",
       "      <td>100.0</td>\n",
       "      <td>8.853983e+10</td>\n",
       "      <td>NaN</td>\n",
       "      <td>NaN</td>\n",
       "      <td>NaN</td>\n",
       "      <td>NaN</td>\n",
       "      <td>NaN</td>\n",
       "      <td>NaN</td>\n",
       "      <td>NaN</td>\n",
       "      <td>NaN</td>\n",
       "    </tr>\n",
       "    <tr>\n",
       "      <th>2</th>\n",
       "      <td>2019-07-01</td>\n",
       "      <td>ZJV0XJQ3</td>\n",
       "      <td>ST12000NM0007</td>\n",
       "      <td>12000138625024</td>\n",
       "      <td>0</td>\n",
       "      <td>76.0</td>\n",
       "      <td>37537312.0</td>\n",
       "      <td>NaN</td>\n",
       "      <td>NaN</td>\n",
       "      <td>99.0</td>\n",
       "      <td>...</td>\n",
       "      <td>100.0</td>\n",
       "      <td>2.115116e+10</td>\n",
       "      <td>NaN</td>\n",
       "      <td>NaN</td>\n",
       "      <td>NaN</td>\n",
       "      <td>NaN</td>\n",
       "      <td>NaN</td>\n",
       "      <td>NaN</td>\n",
       "      <td>NaN</td>\n",
       "      <td>NaN</td>\n",
       "    </tr>\n",
       "    <tr>\n",
       "      <th>3</th>\n",
       "      <td>2019-07-01</td>\n",
       "      <td>ZJV0XJQ0</td>\n",
       "      <td>ST12000NM0007</td>\n",
       "      <td>12000138625024</td>\n",
       "      <td>0</td>\n",
       "      <td>100.0</td>\n",
       "      <td>1592144.0</td>\n",
       "      <td>NaN</td>\n",
       "      <td>NaN</td>\n",
       "      <td>93.0</td>\n",
       "      <td>...</td>\n",
       "      <td>100.0</td>\n",
       "      <td>6.852008e+10</td>\n",
       "      <td>NaN</td>\n",
       "      <td>NaN</td>\n",
       "      <td>NaN</td>\n",
       "      <td>NaN</td>\n",
       "      <td>NaN</td>\n",
       "      <td>NaN</td>\n",
       "      <td>NaN</td>\n",
       "      <td>NaN</td>\n",
       "    </tr>\n",
       "    <tr>\n",
       "      <th>4</th>\n",
       "      <td>2019-07-01</td>\n",
       "      <td>PL1331LAHG1S4H</td>\n",
       "      <td>HGST HMS5C4040ALE640</td>\n",
       "      <td>4000787030016</td>\n",
       "      <td>0</td>\n",
       "      <td>100.0</td>\n",
       "      <td>0.0</td>\n",
       "      <td>134.0</td>\n",
       "      <td>103.0</td>\n",
       "      <td>100.0</td>\n",
       "      <td>...</td>\n",
       "      <td>NaN</td>\n",
       "      <td>NaN</td>\n",
       "      <td>NaN</td>\n",
       "      <td>NaN</td>\n",
       "      <td>NaN</td>\n",
       "      <td>NaN</td>\n",
       "      <td>NaN</td>\n",
       "      <td>NaN</td>\n",
       "      <td>NaN</td>\n",
       "      <td>NaN</td>\n",
       "    </tr>\n",
       "  </tbody>\n",
       "</table>\n",
       "<p>5 rows × 99 columns</p>\n",
       "</div>"
      ],
      "text/plain": [
       "        date   serial_number                 model  capacity_bytes  failure  \\\n",
       "0 2019-07-01        Z305B2QN           ST4000DM000   4000787030016        0   \n",
       "1 2019-07-01        ZJV0XJQ4         ST12000NM0007  12000138625024        0   \n",
       "2 2019-07-01        ZJV0XJQ3         ST12000NM0007  12000138625024        0   \n",
       "3 2019-07-01        ZJV0XJQ0         ST12000NM0007  12000138625024        0   \n",
       "4 2019-07-01  PL1331LAHG1S4H  HGST HMS5C4040ALE640   4000787030016        0   \n",
       "\n",
       "   smart_1_normalized  smart_1_raw  smart_2_normalized  smart_2_raw  \\\n",
       "0               119.0  224077128.0                 NaN          NaN   \n",
       "1                83.0  196781888.0                 NaN          NaN   \n",
       "2                76.0   37537312.0                 NaN          NaN   \n",
       "3               100.0    1592144.0                 NaN          NaN   \n",
       "4               100.0          0.0               134.0        103.0   \n",
       "\n",
       "   smart_3_normalized  ...  smart_242_normalized  smart_242_raw  \\\n",
       "0                91.0  ...                 100.0   1.425050e+11   \n",
       "1                98.0  ...                 100.0   8.853983e+10   \n",
       "2                99.0  ...                 100.0   2.115116e+10   \n",
       "3                93.0  ...                 100.0   6.852008e+10   \n",
       "4               100.0  ...                   NaN            NaN   \n",
       "\n",
       "   smart_250_normalized  smart_250_raw  smart_251_normalized  smart_251_raw  \\\n",
       "0                   NaN            NaN                   NaN            NaN   \n",
       "1                   NaN            NaN                   NaN            NaN   \n",
       "2                   NaN            NaN                   NaN            NaN   \n",
       "3                   NaN            NaN                   NaN            NaN   \n",
       "4                   NaN            NaN                   NaN            NaN   \n",
       "\n",
       "   smart_252_normalized  smart_252_raw  smart_254_normalized  smart_254_raw  \n",
       "0                   NaN            NaN                   NaN            NaN  \n",
       "1                   NaN            NaN                   NaN            NaN  \n",
       "2                   NaN            NaN                   NaN            NaN  \n",
       "3                   NaN            NaN                   NaN            NaN  \n",
       "4                   NaN            NaN                   NaN            NaN  \n",
       "\n",
       "[5 rows x 99 columns]"
      ]
     },
     "execution_count": 18,
     "metadata": {},
     "output_type": "execute_result"
    }
   ],
   "source": [
    "Test.head()"
   ]
  },
  {
   "cell_type": "code",
   "execution_count": 19,
   "metadata": {
    "colab": {
     "base_uri": "https://localhost:8080/",
     "height": 235
    },
    "colab_type": "code",
    "id": "qIrnuvjuZac5",
    "outputId": "527de077-af82-40d4-8c7a-de6c84069be0"
   },
   "outputs": [
    {
     "name": "stdout",
     "output_type": "stream",
     "text": [
      "date                    0.000000\n",
      "serial_number           0.000000\n",
      "model                   0.000000\n",
      "capacity_bytes          0.000000\n",
      "failure                 0.000000\n",
      "                          ...   \n",
      "smart_251_raw           0.999991\n",
      "smart_252_normalized    0.999991\n",
      "smart_252_raw           0.999991\n",
      "smart_254_normalized    0.997483\n",
      "smart_254_raw           0.997483\n",
      "Length: 99, dtype: float64\n"
     ]
    },
    {
     "data": {
      "text/plain": [
       "64"
      ]
     },
     "execution_count": 19,
     "metadata": {},
     "output_type": "execute_result"
    }
   ],
   "source": [
    "M_features = Test.columns\n",
    "print(Test.isnull().sum(axis = 0) / len(Test))\n",
    "index = np.where(Test.isnull().sum(axis = 0) / len(Test) >= 0.5)[0]\n",
    "len(index) "
   ]
  },
  {
   "cell_type": "code",
   "execution_count": 20,
   "metadata": {
    "colab": {
     "base_uri": "https://localhost:8080/",
     "height": 403
    },
    "colab_type": "code",
    "id": "MoHqoQayZrVe",
    "outputId": "d0b20e4b-a3b6-4c88-eff3-0fd34e439a2b"
   },
   "outputs": [
    {
     "data": {
      "text/plain": [
       "Index(['smart_2_normalized', 'smart_2_raw', 'smart_8_normalized',\n",
       "       'smart_8_raw', 'smart_11_normalized', 'smart_11_raw',\n",
       "       'smart_16_normalized', 'smart_16_raw', 'smart_17_normalized',\n",
       "       'smart_17_raw', 'smart_22_normalized', 'smart_22_raw',\n",
       "       'smart_23_normalized', 'smart_23_raw', 'smart_24_normalized',\n",
       "       'smart_24_raw', 'smart_168_normalized', 'smart_168_raw',\n",
       "       'smart_170_normalized', 'smart_170_raw', 'smart_173_normalized',\n",
       "       'smart_173_raw', 'smart_174_normalized', 'smart_174_raw',\n",
       "       'smart_177_normalized', 'smart_177_raw', 'smart_183_normalized',\n",
       "       'smart_183_raw', 'smart_189_normalized', 'smart_189_raw',\n",
       "       'smart_191_normalized', 'smart_191_raw', 'smart_200_normalized',\n",
       "       'smart_200_raw', 'smart_218_normalized', 'smart_218_raw',\n",
       "       'smart_220_normalized', 'smart_220_raw', 'smart_222_normalized',\n",
       "       'smart_222_raw', 'smart_223_normalized', 'smart_223_raw',\n",
       "       'smart_224_normalized', 'smart_224_raw', 'smart_225_normalized',\n",
       "       'smart_225_raw', 'smart_226_normalized', 'smart_226_raw',\n",
       "       'smart_231_normalized', 'smart_231_raw', 'smart_232_normalized',\n",
       "       'smart_232_raw', 'smart_233_normalized', 'smart_233_raw',\n",
       "       'smart_235_normalized', 'smart_235_raw', 'smart_250_normalized',\n",
       "       'smart_250_raw', 'smart_251_normalized', 'smart_251_raw',\n",
       "       'smart_252_normalized', 'smart_252_raw', 'smart_254_normalized',\n",
       "       'smart_254_raw'],\n",
       "      dtype='object')"
      ]
     },
     "execution_count": 20,
     "metadata": {},
     "output_type": "execute_result"
    }
   ],
   "source": [
    "M_features[index]"
   ]
  },
  {
   "cell_type": "markdown",
   "metadata": {
    "colab_type": "text",
    "id": "3xksfbafvM4j"
   },
   "source": [
    "# Relevant Features for Dataset"
   ]
  },
  {
   "cell_type": "code",
   "execution_count": 21,
   "metadata": {
    "colab": {},
    "colab_type": "code",
    "id": "kv6Ej__mDw9Y"
   },
   "outputs": [],
   "source": [
    "f = ['date',\t'serial_number',\t'model',\t'capacity_bytes',\t'failure']"
   ]
  },
  {
   "cell_type": "code",
   "execution_count": 22,
   "metadata": {
    "colab": {
     "base_uri": "https://localhost:8080/",
     "height": 34
    },
    "colab_type": "code",
    "id": "ceWtz821xuBE",
    "outputId": "8141444f-9a1c-45a8-bb57-5ab94a34f624"
   },
   "outputs": [
    {
     "data": {
      "text/plain": [
       "14"
      ]
     },
     "execution_count": 22,
     "metadata": {},
     "output_type": "execute_result"
    }
   ],
   "source": [
    "Null = np.where(Data.isnull().sum(axis = 0) == len(Data))[0]\n",
    "len(Initial[Null])"
   ]
  },
  {
   "cell_type": "code",
   "execution_count": 23,
   "metadata": {
    "colab": {
     "base_uri": "https://localhost:8080/",
     "height": 34
    },
    "colab_type": "code",
    "id": "gX70BgpLXmSr",
    "outputId": "71297283-4d9d-4803-cfc7-2f62ebabf66d"
   },
   "outputs": [
    {
     "name": "stdout",
     "output_type": "stream",
     "text": [
      "(553380, 115)\n"
     ]
    }
   ],
   "source": [
    "Data.dropna(how = 'all', axis = 1, inplace = True) \n",
    "print(Data.shape)\n",
    "del Test "
   ]
  },
  {
   "cell_type": "code",
   "execution_count": 24,
   "metadata": {
    "colab": {
     "base_uri": "https://localhost:8080/",
     "height": 34
    },
    "colab_type": "code",
    "id": "yHgE7Y6cZ7yY",
    "outputId": "efa76163-36a7-4031-89c2-c5e5f0f990d4"
   },
   "outputs": [
    {
     "data": {
      "text/plain": [
       "(553380, 51)"
      ]
     },
     "execution_count": 24,
     "metadata": {},
     "output_type": "execute_result"
    }
   ],
   "source": [
    "Data.drop(M_features[index], axis = 1, inplace = True)\n",
    "Data.shape "
   ]
  },
  {
   "cell_type": "code",
   "execution_count": 25,
   "metadata": {
    "colab": {
     "base_uri": "https://localhost:8080/",
     "height": 299
    },
    "colab_type": "code",
    "id": "MODn4jrYXmku",
    "outputId": "e052dc23-a68b-42e4-a5d6-ec817f436d27"
   },
   "outputs": [
    {
     "data": {
      "text/html": [
       "<div>\n",
       "<style scoped>\n",
       "    .dataframe tbody tr th:only-of-type {\n",
       "        vertical-align: middle;\n",
       "    }\n",
       "\n",
       "    .dataframe tbody tr th {\n",
       "        vertical-align: top;\n",
       "    }\n",
       "\n",
       "    .dataframe thead th {\n",
       "        text-align: right;\n",
       "    }\n",
       "</style>\n",
       "<table border=\"1\" class=\"dataframe\">\n",
       "  <thead>\n",
       "    <tr style=\"text-align: right;\">\n",
       "      <th></th>\n",
       "      <th>date</th>\n",
       "      <th>serial_number</th>\n",
       "      <th>model</th>\n",
       "      <th>capacity_bytes</th>\n",
       "      <th>failure</th>\n",
       "      <th>smart_1_normalized</th>\n",
       "      <th>smart_1_raw</th>\n",
       "      <th>smart_3_normalized</th>\n",
       "      <th>smart_3_raw</th>\n",
       "      <th>smart_4_normalized</th>\n",
       "      <th>...</th>\n",
       "      <th>smart_198_normalized</th>\n",
       "      <th>smart_198_raw</th>\n",
       "      <th>smart_199_normalized</th>\n",
       "      <th>smart_199_raw</th>\n",
       "      <th>smart_240_normalized</th>\n",
       "      <th>smart_240_raw</th>\n",
       "      <th>smart_241_normalized</th>\n",
       "      <th>smart_241_raw</th>\n",
       "      <th>smart_242_normalized</th>\n",
       "      <th>smart_242_raw</th>\n",
       "    </tr>\n",
       "  </thead>\n",
       "  <tbody>\n",
       "    <tr>\n",
       "      <th>0</th>\n",
       "      <td>2019-07-01</td>\n",
       "      <td>Z305B2QN</td>\n",
       "      <td>ST4000DM000</td>\n",
       "      <td>4000787030016</td>\n",
       "      <td>0</td>\n",
       "      <td>119.0</td>\n",
       "      <td>224077128.0</td>\n",
       "      <td>91.0</td>\n",
       "      <td>0.0</td>\n",
       "      <td>100.0</td>\n",
       "      <td>...</td>\n",
       "      <td>100.0</td>\n",
       "      <td>0.0</td>\n",
       "      <td>200.0</td>\n",
       "      <td>0.0</td>\n",
       "      <td>100.0</td>\n",
       "      <td>30796.0</td>\n",
       "      <td>100.0</td>\n",
       "      <td>4.863399e+10</td>\n",
       "      <td>100.0</td>\n",
       "      <td>1.425050e+11</td>\n",
       "    </tr>\n",
       "    <tr>\n",
       "      <th>1</th>\n",
       "      <td>2019-07-01</td>\n",
       "      <td>ZJV0XJQ4</td>\n",
       "      <td>ST12000NM0007</td>\n",
       "      <td>12000138625024</td>\n",
       "      <td>0</td>\n",
       "      <td>83.0</td>\n",
       "      <td>196781888.0</td>\n",
       "      <td>98.0</td>\n",
       "      <td>0.0</td>\n",
       "      <td>100.0</td>\n",
       "      <td>...</td>\n",
       "      <td>100.0</td>\n",
       "      <td>0.0</td>\n",
       "      <td>200.0</td>\n",
       "      <td>0.0</td>\n",
       "      <td>100.0</td>\n",
       "      <td>7341.0</td>\n",
       "      <td>100.0</td>\n",
       "      <td>4.373717e+10</td>\n",
       "      <td>100.0</td>\n",
       "      <td>8.853983e+10</td>\n",
       "    </tr>\n",
       "    <tr>\n",
       "      <th>2</th>\n",
       "      <td>2019-07-01</td>\n",
       "      <td>ZJV0XJQ3</td>\n",
       "      <td>ST12000NM0007</td>\n",
       "      <td>12000138625024</td>\n",
       "      <td>0</td>\n",
       "      <td>76.0</td>\n",
       "      <td>37537312.0</td>\n",
       "      <td>99.0</td>\n",
       "      <td>0.0</td>\n",
       "      <td>100.0</td>\n",
       "      <td>...</td>\n",
       "      <td>100.0</td>\n",
       "      <td>0.0</td>\n",
       "      <td>200.0</td>\n",
       "      <td>0.0</td>\n",
       "      <td>100.0</td>\n",
       "      <td>4786.0</td>\n",
       "      <td>100.0</td>\n",
       "      <td>3.967749e+10</td>\n",
       "      <td>100.0</td>\n",
       "      <td>2.115116e+10</td>\n",
       "    </tr>\n",
       "    <tr>\n",
       "      <th>3</th>\n",
       "      <td>2019-07-01</td>\n",
       "      <td>ZJV0XJQ0</td>\n",
       "      <td>ST12000NM0007</td>\n",
       "      <td>12000138625024</td>\n",
       "      <td>0</td>\n",
       "      <td>100.0</td>\n",
       "      <td>1592144.0</td>\n",
       "      <td>93.0</td>\n",
       "      <td>0.0</td>\n",
       "      <td>100.0</td>\n",
       "      <td>...</td>\n",
       "      <td>100.0</td>\n",
       "      <td>0.0</td>\n",
       "      <td>200.0</td>\n",
       "      <td>0.0</td>\n",
       "      <td>100.0</td>\n",
       "      <td>8477.0</td>\n",
       "      <td>100.0</td>\n",
       "      <td>4.720428e+10</td>\n",
       "      <td>100.0</td>\n",
       "      <td>6.852008e+10</td>\n",
       "    </tr>\n",
       "    <tr>\n",
       "      <th>4</th>\n",
       "      <td>2019-07-01</td>\n",
       "      <td>PL1331LAHG1S4H</td>\n",
       "      <td>HGST HMS5C4040ALE640</td>\n",
       "      <td>4000787030016</td>\n",
       "      <td>0</td>\n",
       "      <td>100.0</td>\n",
       "      <td>0.0</td>\n",
       "      <td>100.0</td>\n",
       "      <td>436.0</td>\n",
       "      <td>100.0</td>\n",
       "      <td>...</td>\n",
       "      <td>100.0</td>\n",
       "      <td>0.0</td>\n",
       "      <td>200.0</td>\n",
       "      <td>0.0</td>\n",
       "      <td>NaN</td>\n",
       "      <td>NaN</td>\n",
       "      <td>NaN</td>\n",
       "      <td>NaN</td>\n",
       "      <td>NaN</td>\n",
       "      <td>NaN</td>\n",
       "    </tr>\n",
       "  </tbody>\n",
       "</table>\n",
       "<p>5 rows × 51 columns</p>\n",
       "</div>"
      ],
      "text/plain": [
       "        date   serial_number                 model  capacity_bytes  failure  \\\n",
       "0 2019-07-01        Z305B2QN           ST4000DM000   4000787030016        0   \n",
       "1 2019-07-01        ZJV0XJQ4         ST12000NM0007  12000138625024        0   \n",
       "2 2019-07-01        ZJV0XJQ3         ST12000NM0007  12000138625024        0   \n",
       "3 2019-07-01        ZJV0XJQ0         ST12000NM0007  12000138625024        0   \n",
       "4 2019-07-01  PL1331LAHG1S4H  HGST HMS5C4040ALE640   4000787030016        0   \n",
       "\n",
       "   smart_1_normalized  smart_1_raw  smart_3_normalized  smart_3_raw  \\\n",
       "0               119.0  224077128.0                91.0          0.0   \n",
       "1                83.0  196781888.0                98.0          0.0   \n",
       "2                76.0   37537312.0                99.0          0.0   \n",
       "3               100.0    1592144.0                93.0          0.0   \n",
       "4               100.0          0.0               100.0        436.0   \n",
       "\n",
       "   smart_4_normalized  ...  smart_198_normalized  smart_198_raw  \\\n",
       "0               100.0  ...                 100.0            0.0   \n",
       "1               100.0  ...                 100.0            0.0   \n",
       "2               100.0  ...                 100.0            0.0   \n",
       "3               100.0  ...                 100.0            0.0   \n",
       "4               100.0  ...                 100.0            0.0   \n",
       "\n",
       "   smart_199_normalized  smart_199_raw  smart_240_normalized  smart_240_raw  \\\n",
       "0                 200.0            0.0                 100.0        30796.0   \n",
       "1                 200.0            0.0                 100.0         7341.0   \n",
       "2                 200.0            0.0                 100.0         4786.0   \n",
       "3                 200.0            0.0                 100.0         8477.0   \n",
       "4                 200.0            0.0                   NaN            NaN   \n",
       "\n",
       "   smart_241_normalized  smart_241_raw  smart_242_normalized  smart_242_raw  \n",
       "0                 100.0   4.863399e+10                 100.0   1.425050e+11  \n",
       "1                 100.0   4.373717e+10                 100.0   8.853983e+10  \n",
       "2                 100.0   3.967749e+10                 100.0   2.115116e+10  \n",
       "3                 100.0   4.720428e+10                 100.0   6.852008e+10  \n",
       "4                   NaN            NaN                   NaN            NaN  \n",
       "\n",
       "[5 rows x 51 columns]"
      ]
     },
     "execution_count": 25,
     "metadata": {},
     "output_type": "execute_result"
    }
   ],
   "source": [
    "Data.head()"
   ]
  },
  {
   "cell_type": "code",
   "execution_count": 26,
   "metadata": {
    "colab": {
     "base_uri": "https://localhost:8080/",
     "height": 304
    },
    "colab_type": "code",
    "id": "cipKObSpgLZW",
    "outputId": "891d15c1-9013-4b73-f6d1-1ab6d396ceaf"
   },
   "outputs": [
    {
     "data": {
      "text/html": [
       "<div>\n",
       "<style scoped>\n",
       "    .dataframe tbody tr th:only-of-type {\n",
       "        vertical-align: middle;\n",
       "    }\n",
       "\n",
       "    .dataframe tbody tr th {\n",
       "        vertical-align: top;\n",
       "    }\n",
       "\n",
       "    .dataframe thead th {\n",
       "        text-align: right;\n",
       "    }\n",
       "</style>\n",
       "<table border=\"1\" class=\"dataframe\">\n",
       "  <thead>\n",
       "    <tr style=\"text-align: right;\">\n",
       "      <th></th>\n",
       "      <th>capacity_bytes</th>\n",
       "      <th>failure</th>\n",
       "      <th>smart_1_normalized</th>\n",
       "      <th>smart_1_raw</th>\n",
       "      <th>smart_3_normalized</th>\n",
       "      <th>smart_3_raw</th>\n",
       "      <th>smart_4_normalized</th>\n",
       "      <th>smart_4_raw</th>\n",
       "      <th>smart_5_normalized</th>\n",
       "      <th>smart_5_raw</th>\n",
       "      <th>...</th>\n",
       "      <th>smart_198_normalized</th>\n",
       "      <th>smart_198_raw</th>\n",
       "      <th>smart_199_normalized</th>\n",
       "      <th>smart_199_raw</th>\n",
       "      <th>smart_240_normalized</th>\n",
       "      <th>smart_240_raw</th>\n",
       "      <th>smart_241_normalized</th>\n",
       "      <th>smart_241_raw</th>\n",
       "      <th>smart_242_normalized</th>\n",
       "      <th>smart_242_raw</th>\n",
       "    </tr>\n",
       "  </thead>\n",
       "  <tbody>\n",
       "    <tr>\n",
       "      <th>count</th>\n",
       "      <td>5.533800e+05</td>\n",
       "      <td>553380.000000</td>\n",
       "      <td>553223.000000</td>\n",
       "      <td>5.532230e+05</td>\n",
       "      <td>552933.000000</td>\n",
       "      <td>552933.000000</td>\n",
       "      <td>552933.000000</td>\n",
       "      <td>552933.000000</td>\n",
       "      <td>552933.000000</td>\n",
       "      <td>552933.000000</td>\n",
       "      <td>...</td>\n",
       "      <td>552933.000000</td>\n",
       "      <td>552933.000000</td>\n",
       "      <td>552933.000000</td>\n",
       "      <td>552933.000000</td>\n",
       "      <td>416255.000000</td>\n",
       "      <td>4.162550e+05</td>\n",
       "      <td>407730.000000</td>\n",
       "      <td>4.077300e+05</td>\n",
       "      <td>407730.000000</td>\n",
       "      <td>4.077300e+05</td>\n",
       "    </tr>\n",
       "    <tr>\n",
       "      <th>mean</th>\n",
       "      <td>8.286910e+12</td>\n",
       "      <td>0.000045</td>\n",
       "      <td>92.146747</td>\n",
       "      <td>8.918688e+07</td>\n",
       "      <td>96.788437</td>\n",
       "      <td>162.119016</td>\n",
       "      <td>99.998616</td>\n",
       "      <td>8.064454</td>\n",
       "      <td>100.942038</td>\n",
       "      <td>8.458112</td>\n",
       "      <td>...</td>\n",
       "      <td>100.692742</td>\n",
       "      <td>0.064055</td>\n",
       "      <td>199.990957</td>\n",
       "      <td>0.291849</td>\n",
       "      <td>99.957524</td>\n",
       "      <td>3.637051e+09</td>\n",
       "      <td>100.013489</td>\n",
       "      <td>5.072083e+10</td>\n",
       "      <td>100.013489</td>\n",
       "      <td>1.145427e+11</td>\n",
       "    </tr>\n",
       "    <tr>\n",
       "      <th>std</th>\n",
       "      <td>3.603226e+12</td>\n",
       "      <td>0.006721</td>\n",
       "      <td>15.465778</td>\n",
       "      <td>8.105061e+07</td>\n",
       "      <td>10.439160</td>\n",
       "      <td>846.720294</td>\n",
       "      <td>0.118877</td>\n",
       "      <td>125.119764</td>\n",
       "      <td>11.392637</td>\n",
       "      <td>296.473022</td>\n",
       "      <td>...</td>\n",
       "      <td>10.238023</td>\n",
       "      <td>1.396831</td>\n",
       "      <td>0.950888</td>\n",
       "      <td>12.392017</td>\n",
       "      <td>1.451285</td>\n",
       "      <td>8.146078e+11</td>\n",
       "      <td>1.161358</td>\n",
       "      <td>1.206083e+10</td>\n",
       "      <td>1.161358</td>\n",
       "      <td>1.417538e+11</td>\n",
       "    </tr>\n",
       "    <tr>\n",
       "      <th>min</th>\n",
       "      <td>-1.000000e+00</td>\n",
       "      <td>0.000000</td>\n",
       "      <td>59.000000</td>\n",
       "      <td>0.000000e+00</td>\n",
       "      <td>79.000000</td>\n",
       "      <td>0.000000</td>\n",
       "      <td>75.000000</td>\n",
       "      <td>1.000000</td>\n",
       "      <td>56.000000</td>\n",
       "      <td>0.000000</td>\n",
       "      <td>...</td>\n",
       "      <td>100.000000</td>\n",
       "      <td>0.000000</td>\n",
       "      <td>100.000000</td>\n",
       "      <td>0.000000</td>\n",
       "      <td>26.000000</td>\n",
       "      <td>0.000000e+00</td>\n",
       "      <td>100.000000</td>\n",
       "      <td>0.000000e+00</td>\n",
       "      <td>100.000000</td>\n",
       "      <td>5.600000e+01</td>\n",
       "    </tr>\n",
       "    <tr>\n",
       "      <th>25%</th>\n",
       "      <td>4.000787e+12</td>\n",
       "      <td>0.000000</td>\n",
       "      <td>81.000000</td>\n",
       "      <td>0.000000e+00</td>\n",
       "      <td>92.000000</td>\n",
       "      <td>0.000000</td>\n",
       "      <td>100.000000</td>\n",
       "      <td>3.000000</td>\n",
       "      <td>100.000000</td>\n",
       "      <td>0.000000</td>\n",
       "      <td>...</td>\n",
       "      <td>100.000000</td>\n",
       "      <td>0.000000</td>\n",
       "      <td>200.000000</td>\n",
       "      <td>0.000000</td>\n",
       "      <td>100.000000</td>\n",
       "      <td>1.068500e+04</td>\n",
       "      <td>100.000000</td>\n",
       "      <td>4.667963e+10</td>\n",
       "      <td>100.000000</td>\n",
       "      <td>9.366630e+10</td>\n",
       "    </tr>\n",
       "    <tr>\n",
       "      <th>50%</th>\n",
       "      <td>8.001563e+12</td>\n",
       "      <td>0.000000</td>\n",
       "      <td>84.000000</td>\n",
       "      <td>7.705140e+07</td>\n",
       "      <td>95.000000</td>\n",
       "      <td>0.000000</td>\n",
       "      <td>100.000000</td>\n",
       "      <td>5.000000</td>\n",
       "      <td>100.000000</td>\n",
       "      <td>0.000000</td>\n",
       "      <td>...</td>\n",
       "      <td>100.000000</td>\n",
       "      <td>0.000000</td>\n",
       "      <td>200.000000</td>\n",
       "      <td>0.000000</td>\n",
       "      <td>100.000000</td>\n",
       "      <td>1.627500e+04</td>\n",
       "      <td>100.000000</td>\n",
       "      <td>5.158314e+10</td>\n",
       "      <td>100.000000</td>\n",
       "      <td>1.228817e+11</td>\n",
       "    </tr>\n",
       "    <tr>\n",
       "      <th>75%</th>\n",
       "      <td>1.200014e+13</td>\n",
       "      <td>0.000000</td>\n",
       "      <td>100.000000</td>\n",
       "      <td>1.607673e+08</td>\n",
       "      <td>100.000000</td>\n",
       "      <td>0.000000</td>\n",
       "      <td>100.000000</td>\n",
       "      <td>8.000000</td>\n",
       "      <td>100.000000</td>\n",
       "      <td>0.000000</td>\n",
       "      <td>...</td>\n",
       "      <td>100.000000</td>\n",
       "      <td>0.000000</td>\n",
       "      <td>200.000000</td>\n",
       "      <td>0.000000</td>\n",
       "      <td>100.000000</td>\n",
       "      <td>2.718500e+04</td>\n",
       "      <td>100.000000</td>\n",
       "      <td>5.862252e+10</td>\n",
       "      <td>100.000000</td>\n",
       "      <td>1.418626e+11</td>\n",
       "    </tr>\n",
       "    <tr>\n",
       "      <th>max</th>\n",
       "      <td>1.400052e+13</td>\n",
       "      <td>1.000000</td>\n",
       "      <td>200.000000</td>\n",
       "      <td>3.797213e+08</td>\n",
       "      <td>253.000000</td>\n",
       "      <td>11042.000000</td>\n",
       "      <td>100.000000</td>\n",
       "      <td>25137.000000</td>\n",
       "      <td>252.000000</td>\n",
       "      <td>43792.000000</td>\n",
       "      <td>...</td>\n",
       "      <td>252.000000</td>\n",
       "      <td>192.000000</td>\n",
       "      <td>200.000000</td>\n",
       "      <td>2345.000000</td>\n",
       "      <td>100.000000</td>\n",
       "      <td>2.599701e+14</td>\n",
       "      <td>200.000000</td>\n",
       "      <td>2.000075e+11</td>\n",
       "      <td>200.000000</td>\n",
       "      <td>2.638876e+13</td>\n",
       "    </tr>\n",
       "  </tbody>\n",
       "</table>\n",
       "<p>8 rows × 48 columns</p>\n",
       "</div>"
      ],
      "text/plain": [
       "       capacity_bytes        failure  smart_1_normalized   smart_1_raw  \\\n",
       "count    5.533800e+05  553380.000000       553223.000000  5.532230e+05   \n",
       "mean     8.286910e+12       0.000045           92.146747  8.918688e+07   \n",
       "std      3.603226e+12       0.006721           15.465778  8.105061e+07   \n",
       "min     -1.000000e+00       0.000000           59.000000  0.000000e+00   \n",
       "25%      4.000787e+12       0.000000           81.000000  0.000000e+00   \n",
       "50%      8.001563e+12       0.000000           84.000000  7.705140e+07   \n",
       "75%      1.200014e+13       0.000000          100.000000  1.607673e+08   \n",
       "max      1.400052e+13       1.000000          200.000000  3.797213e+08   \n",
       "\n",
       "       smart_3_normalized    smart_3_raw  smart_4_normalized    smart_4_raw  \\\n",
       "count       552933.000000  552933.000000       552933.000000  552933.000000   \n",
       "mean            96.788437     162.119016           99.998616       8.064454   \n",
       "std             10.439160     846.720294            0.118877     125.119764   \n",
       "min             79.000000       0.000000           75.000000       1.000000   \n",
       "25%             92.000000       0.000000          100.000000       3.000000   \n",
       "50%             95.000000       0.000000          100.000000       5.000000   \n",
       "75%            100.000000       0.000000          100.000000       8.000000   \n",
       "max            253.000000   11042.000000          100.000000   25137.000000   \n",
       "\n",
       "       smart_5_normalized    smart_5_raw  ...  smart_198_normalized  \\\n",
       "count       552933.000000  552933.000000  ...         552933.000000   \n",
       "mean           100.942038       8.458112  ...            100.692742   \n",
       "std             11.392637     296.473022  ...             10.238023   \n",
       "min             56.000000       0.000000  ...            100.000000   \n",
       "25%            100.000000       0.000000  ...            100.000000   \n",
       "50%            100.000000       0.000000  ...            100.000000   \n",
       "75%            100.000000       0.000000  ...            100.000000   \n",
       "max            252.000000   43792.000000  ...            252.000000   \n",
       "\n",
       "       smart_198_raw  smart_199_normalized  smart_199_raw  \\\n",
       "count  552933.000000         552933.000000  552933.000000   \n",
       "mean        0.064055            199.990957       0.291849   \n",
       "std         1.396831              0.950888      12.392017   \n",
       "min         0.000000            100.000000       0.000000   \n",
       "25%         0.000000            200.000000       0.000000   \n",
       "50%         0.000000            200.000000       0.000000   \n",
       "75%         0.000000            200.000000       0.000000   \n",
       "max       192.000000            200.000000    2345.000000   \n",
       "\n",
       "       smart_240_normalized  smart_240_raw  smart_241_normalized  \\\n",
       "count         416255.000000   4.162550e+05         407730.000000   \n",
       "mean              99.957524   3.637051e+09            100.013489   \n",
       "std                1.451285   8.146078e+11              1.161358   \n",
       "min               26.000000   0.000000e+00            100.000000   \n",
       "25%              100.000000   1.068500e+04            100.000000   \n",
       "50%              100.000000   1.627500e+04            100.000000   \n",
       "75%              100.000000   2.718500e+04            100.000000   \n",
       "max              100.000000   2.599701e+14            200.000000   \n",
       "\n",
       "       smart_241_raw  smart_242_normalized  smart_242_raw  \n",
       "count   4.077300e+05         407730.000000   4.077300e+05  \n",
       "mean    5.072083e+10            100.013489   1.145427e+11  \n",
       "std     1.206083e+10              1.161358   1.417538e+11  \n",
       "min     0.000000e+00            100.000000   5.600000e+01  \n",
       "25%     4.667963e+10            100.000000   9.366630e+10  \n",
       "50%     5.158314e+10            100.000000   1.228817e+11  \n",
       "75%     5.862252e+10            100.000000   1.418626e+11  \n",
       "max     2.000075e+11            200.000000   2.638876e+13  \n",
       "\n",
       "[8 rows x 48 columns]"
      ]
     },
     "execution_count": 26,
     "metadata": {},
     "output_type": "execute_result"
    }
   ],
   "source": [
    "Data.describe()"
   ]
  },
  {
   "cell_type": "code",
   "execution_count": 27,
   "metadata": {
    "colab": {
     "base_uri": "https://localhost:8080/",
     "height": 319
    },
    "colab_type": "code",
    "id": "AbWfLdnnmZ6D",
    "outputId": "4d71ddef-aaed-43e6-ba2b-220651c69d46"
   },
   "outputs": [
    {
     "data": {
      "text/plain": [
       "Index(['date', 'serial_number', 'model', 'capacity_bytes', 'failure',\n",
       "       'smart_1_normalized', 'smart_1_raw', 'smart_3_normalized',\n",
       "       'smart_3_raw', 'smart_4_normalized', 'smart_4_raw',\n",
       "       'smart_5_normalized', 'smart_5_raw', 'smart_7_normalized',\n",
       "       'smart_7_raw', 'smart_9_normalized', 'smart_9_raw',\n",
       "       'smart_10_normalized', 'smart_10_raw', 'smart_12_normalized',\n",
       "       'smart_12_raw', 'smart_184_normalized', 'smart_184_raw',\n",
       "       'smart_187_normalized', 'smart_187_raw', 'smart_188_normalized',\n",
       "       'smart_188_raw', 'smart_190_normalized', 'smart_190_raw',\n",
       "       'smart_192_normalized', 'smart_192_raw', 'smart_193_normalized',\n",
       "       'smart_193_raw', 'smart_194_normalized', 'smart_194_raw',\n",
       "       'smart_195_normalized', 'smart_195_raw', 'smart_196_normalized',\n",
       "       'smart_196_raw', 'smart_197_normalized', 'smart_197_raw',\n",
       "       'smart_198_normalized', 'smart_198_raw', 'smart_199_normalized',\n",
       "       'smart_199_raw', 'smart_240_normalized', 'smart_240_raw',\n",
       "       'smart_241_normalized', 'smart_241_raw', 'smart_242_normalized',\n",
       "       'smart_242_raw'],\n",
       "      dtype='object')"
      ]
     },
     "execution_count": 27,
     "metadata": {},
     "output_type": "execute_result"
    }
   ],
   "source": [
    "RE = Data.columns \n",
    "RE"
   ]
  },
  {
   "cell_type": "code",
   "execution_count": 28,
   "metadata": {
    "colab": {
     "base_uri": "https://localhost:8080/",
     "height": 269
    },
    "colab_type": "code",
    "id": "CzgZTu7bM8bd",
    "outputId": "cb0e57e0-3530-40ae-b233-6c3bee2f0f1d"
   },
   "outputs": [
    {
     "data": {
      "text/plain": [
       " 12000.0    224320\n",
       " 4000.0     175774\n",
       " 8001.0     126521\n",
       " 500.0        9703\n",
       " 14000.0      6100\n",
       " 10000.0      6100\n",
       " 6001.0       4490\n",
       " 250.0         190\n",
       " 480.0         100\n",
       "-1.0            52\n",
       " 2000.0         15\n",
       " 320.0           5\n",
       " 137.0           5\n",
       " 1000.0          5\n",
       "Name: capacity_bytes, dtype: int64"
      ]
     },
     "execution_count": 28,
     "metadata": {},
     "output_type": "execute_result"
    }
   ],
   "source": [
    "Data['capacity_bytes'] = (Data['capacity_bytes'] // 1e+9)\n",
    "Data['capacity_bytes'].value_counts() "
   ]
  },
  {
   "cell_type": "code",
   "execution_count": 29,
   "metadata": {
    "colab": {
     "base_uri": "https://localhost:8080/",
     "height": 50
    },
    "colab_type": "code",
    "id": "cSZt6F47T0z0",
    "outputId": "ca9935e2-2593-4c88-b84a-57cd3e10834e"
   },
   "outputs": [
    {
     "name": "stdout",
     "output_type": "stream",
     "text": [
      "(553380, 51)\n",
      "(553328, 51)\n"
     ]
    }
   ],
   "source": [
    "print(Data.shape)\n",
    "Data.drop(np.where(Data['capacity_bytes'] == -1)[0], inplace = True)\n",
    "print(Data.shape)"
   ]
  },
  {
   "cell_type": "code",
   "execution_count": 30,
   "metadata": {
    "colab": {
     "base_uri": "https://localhost:8080/",
     "height": 890
    },
    "colab_type": "code",
    "id": "RVXPlqR3ck8L",
    "outputId": "530340d4-4b8f-49ad-aa58-1cb291bf600b"
   },
   "outputs": [
    {
     "data": {
      "text/plain": [
       "date                    0\n",
       "serial_number           0\n",
       "model                   0\n",
       "capacity_bytes          0\n",
       "failure                 0\n",
       "smart_1_normalized      0\n",
       "smart_1_raw             0\n",
       "smart_3_normalized      0\n",
       "smart_3_raw             0\n",
       "smart_4_normalized      0\n",
       "smart_4_raw             0\n",
       "smart_5_normalized      0\n",
       "smart_5_raw             0\n",
       "smart_7_normalized      0\n",
       "smart_7_raw             0\n",
       "smart_9_normalized      0\n",
       "smart_9_raw             0\n",
       "smart_10_normalized     0\n",
       "smart_10_raw            0\n",
       "smart_12_normalized     0\n",
       "smart_12_raw            0\n",
       "smart_184_normalized    0\n",
       "smart_184_raw           0\n",
       "smart_187_normalized    0\n",
       "smart_187_raw           0\n",
       "smart_188_normalized    0\n",
       "smart_188_raw           0\n",
       "smart_190_normalized    0\n",
       "smart_190_raw           0\n",
       "smart_192_normalized    0\n",
       "smart_192_raw           0\n",
       "smart_193_normalized    0\n",
       "smart_193_raw           0\n",
       "smart_194_normalized    0\n",
       "smart_194_raw           0\n",
       "smart_195_normalized    0\n",
       "smart_195_raw           0\n",
       "smart_196_normalized    0\n",
       "smart_196_raw           0\n",
       "smart_197_normalized    0\n",
       "smart_197_raw           0\n",
       "smart_198_normalized    0\n",
       "smart_198_raw           0\n",
       "smart_199_normalized    0\n",
       "smart_199_raw           0\n",
       "smart_240_normalized    0\n",
       "smart_240_raw           0\n",
       "smart_241_normalized    0\n",
       "smart_241_raw           0\n",
       "smart_242_normalized    0\n",
       "smart_242_raw           0\n",
       "dtype: int64"
      ]
     },
     "execution_count": 30,
     "metadata": {},
     "output_type": "execute_result"
    }
   ],
   "source": [
    "Data = Data.fillna(0)\n",
    "Data.isnull().sum(axis = 0)"
   ]
  },
  {
   "cell_type": "code",
   "execution_count": 31,
   "metadata": {
    "colab": {
     "base_uri": "https://localhost:8080/",
     "height": 34
    },
    "colab_type": "code",
    "id": "T7ykLcgvoriF",
    "outputId": "c72c1030-f51e-4e8e-d578-fc34505bd0c9"
   },
   "outputs": [
    {
     "data": {
      "text/plain": [
       "(553328, 51)"
      ]
     },
     "execution_count": 31,
     "metadata": {},
     "output_type": "execute_result"
    }
   ],
   "source": [
    "Test = Data.copy()\n",
    "Test.shape "
   ]
  },
  {
   "cell_type": "code",
   "execution_count": 32,
   "metadata": {
    "colab": {
     "base_uri": "https://localhost:8080/",
     "height": 304
    },
    "colab_type": "code",
    "id": "eSvRSBLVvNWw",
    "outputId": "abbc6553-00bd-4ce0-a184-067bcceea17d"
   },
   "outputs": [
    {
     "data": {
      "text/html": [
       "<div>\n",
       "<style scoped>\n",
       "    .dataframe tbody tr th:only-of-type {\n",
       "        vertical-align: middle;\n",
       "    }\n",
       "\n",
       "    .dataframe tbody tr th {\n",
       "        vertical-align: top;\n",
       "    }\n",
       "\n",
       "    .dataframe thead th {\n",
       "        text-align: right;\n",
       "    }\n",
       "</style>\n",
       "<table border=\"1\" class=\"dataframe\">\n",
       "  <thead>\n",
       "    <tr style=\"text-align: right;\">\n",
       "      <th></th>\n",
       "      <th>capacity_bytes</th>\n",
       "      <th>failure</th>\n",
       "      <th>smart_1_normalized</th>\n",
       "      <th>smart_1_raw</th>\n",
       "      <th>smart_3_normalized</th>\n",
       "      <th>smart_3_raw</th>\n",
       "      <th>smart_4_normalized</th>\n",
       "      <th>smart_4_raw</th>\n",
       "      <th>smart_5_normalized</th>\n",
       "      <th>smart_5_raw</th>\n",
       "      <th>...</th>\n",
       "      <th>smart_198_normalized</th>\n",
       "      <th>smart_198_raw</th>\n",
       "      <th>smart_199_normalized</th>\n",
       "      <th>smart_199_raw</th>\n",
       "      <th>smart_240_normalized</th>\n",
       "      <th>smart_240_raw</th>\n",
       "      <th>smart_241_normalized</th>\n",
       "      <th>smart_241_raw</th>\n",
       "      <th>smart_242_normalized</th>\n",
       "      <th>smart_242_raw</th>\n",
       "    </tr>\n",
       "  </thead>\n",
       "  <tbody>\n",
       "    <tr>\n",
       "      <th>count</th>\n",
       "      <td>553328.000000</td>\n",
       "      <td>553328.000000</td>\n",
       "      <td>553328.000000</td>\n",
       "      <td>5.533280e+05</td>\n",
       "      <td>553328.000000</td>\n",
       "      <td>553328.000000</td>\n",
       "      <td>553328.000000</td>\n",
       "      <td>553328.000000</td>\n",
       "      <td>553328.000000</td>\n",
       "      <td>553328.000000</td>\n",
       "      <td>...</td>\n",
       "      <td>553328.000000</td>\n",
       "      <td>553328.000000</td>\n",
       "      <td>553328.000000</td>\n",
       "      <td>553328.000000</td>\n",
       "      <td>553328.000000</td>\n",
       "      <td>5.533280e+05</td>\n",
       "      <td>553328.000000</td>\n",
       "      <td>5.533280e+05</td>\n",
       "      <td>553328.000000</td>\n",
       "      <td>5.533280e+05</td>\n",
       "    </tr>\n",
       "    <tr>\n",
       "      <th>mean</th>\n",
       "      <td>8287.235231</td>\n",
       "      <td>0.000045</td>\n",
       "      <td>92.129261</td>\n",
       "      <td>8.916995e+07</td>\n",
       "      <td>96.719344</td>\n",
       "      <td>162.003286</td>\n",
       "      <td>99.927231</td>\n",
       "      <td>8.058698</td>\n",
       "      <td>100.869979</td>\n",
       "      <td>8.452074</td>\n",
       "      <td>...</td>\n",
       "      <td>100.620861</td>\n",
       "      <td>0.064009</td>\n",
       "      <td>199.848191</td>\n",
       "      <td>0.291641</td>\n",
       "      <td>75.195578</td>\n",
       "      <td>2.736064e+09</td>\n",
       "      <td>73.696795</td>\n",
       "      <td>3.737458e+10</td>\n",
       "      <td>73.696795</td>\n",
       "      <td>8.440290e+10</td>\n",
       "    </tr>\n",
       "    <tr>\n",
       "      <th>std</th>\n",
       "      <td>3602.741494</td>\n",
       "      <td>0.006722</td>\n",
       "      <td>15.516310</td>\n",
       "      <td>8.105223e+07</td>\n",
       "      <td>10.750859</td>\n",
       "      <td>846.429094</td>\n",
       "      <td>2.673474</td>\n",
       "      <td>125.075282</td>\n",
       "      <td>11.703337</td>\n",
       "      <td>296.367269</td>\n",
       "      <td>...</td>\n",
       "      <td>10.581824</td>\n",
       "      <td>1.396333</td>\n",
       "      <td>5.425415</td>\n",
       "      <td>12.387596</td>\n",
       "      <td>43.169163</td>\n",
       "      <td>7.065419e+11</td>\n",
       "      <td>44.050578</td>\n",
       "      <td>2.461704e+10</td>\n",
       "      <td>44.050578</td>\n",
       "      <td>1.317218e+11</td>\n",
       "    </tr>\n",
       "    <tr>\n",
       "      <th>min</th>\n",
       "      <td>137.000000</td>\n",
       "      <td>0.000000</td>\n",
       "      <td>0.000000</td>\n",
       "      <td>0.000000e+00</td>\n",
       "      <td>0.000000</td>\n",
       "      <td>0.000000</td>\n",
       "      <td>0.000000</td>\n",
       "      <td>0.000000</td>\n",
       "      <td>0.000000</td>\n",
       "      <td>0.000000</td>\n",
       "      <td>...</td>\n",
       "      <td>0.000000</td>\n",
       "      <td>0.000000</td>\n",
       "      <td>0.000000</td>\n",
       "      <td>0.000000</td>\n",
       "      <td>0.000000</td>\n",
       "      <td>0.000000e+00</td>\n",
       "      <td>0.000000</td>\n",
       "      <td>0.000000e+00</td>\n",
       "      <td>0.000000</td>\n",
       "      <td>0.000000e+00</td>\n",
       "    </tr>\n",
       "    <tr>\n",
       "      <th>25%</th>\n",
       "      <td>4000.000000</td>\n",
       "      <td>0.000000</td>\n",
       "      <td>81.000000</td>\n",
       "      <td>0.000000e+00</td>\n",
       "      <td>92.000000</td>\n",
       "      <td>0.000000</td>\n",
       "      <td>100.000000</td>\n",
       "      <td>3.000000</td>\n",
       "      <td>100.000000</td>\n",
       "      <td>0.000000</td>\n",
       "      <td>...</td>\n",
       "      <td>100.000000</td>\n",
       "      <td>0.000000</td>\n",
       "      <td>200.000000</td>\n",
       "      <td>0.000000</td>\n",
       "      <td>100.000000</td>\n",
       "      <td>0.000000e+00</td>\n",
       "      <td>0.000000</td>\n",
       "      <td>0.000000e+00</td>\n",
       "      <td>0.000000</td>\n",
       "      <td>0.000000e+00</td>\n",
       "    </tr>\n",
       "    <tr>\n",
       "      <th>50%</th>\n",
       "      <td>8001.000000</td>\n",
       "      <td>0.000000</td>\n",
       "      <td>84.000000</td>\n",
       "      <td>7.702548e+07</td>\n",
       "      <td>95.000000</td>\n",
       "      <td>0.000000</td>\n",
       "      <td>100.000000</td>\n",
       "      <td>5.000000</td>\n",
       "      <td>100.000000</td>\n",
       "      <td>0.000000</td>\n",
       "      <td>...</td>\n",
       "      <td>100.000000</td>\n",
       "      <td>0.000000</td>\n",
       "      <td>200.000000</td>\n",
       "      <td>0.000000</td>\n",
       "      <td>100.000000</td>\n",
       "      <td>1.287800e+04</td>\n",
       "      <td>100.000000</td>\n",
       "      <td>4.825233e+10</td>\n",
       "      <td>100.000000</td>\n",
       "      <td>1.093598e+11</td>\n",
       "    </tr>\n",
       "    <tr>\n",
       "      <th>75%</th>\n",
       "      <td>12000.000000</td>\n",
       "      <td>0.000000</td>\n",
       "      <td>100.000000</td>\n",
       "      <td>1.607558e+08</td>\n",
       "      <td>100.000000</td>\n",
       "      <td>0.000000</td>\n",
       "      <td>100.000000</td>\n",
       "      <td>8.000000</td>\n",
       "      <td>100.000000</td>\n",
       "      <td>0.000000</td>\n",
       "      <td>...</td>\n",
       "      <td>100.000000</td>\n",
       "      <td>0.000000</td>\n",
       "      <td>200.000000</td>\n",
       "      <td>0.000000</td>\n",
       "      <td>100.000000</td>\n",
       "      <td>2.296525e+04</td>\n",
       "      <td>100.000000</td>\n",
       "      <td>5.601264e+10</td>\n",
       "      <td>100.000000</td>\n",
       "      <td>1.344827e+11</td>\n",
       "    </tr>\n",
       "    <tr>\n",
       "      <th>max</th>\n",
       "      <td>14000.000000</td>\n",
       "      <td>1.000000</td>\n",
       "      <td>200.000000</td>\n",
       "      <td>3.797213e+08</td>\n",
       "      <td>253.000000</td>\n",
       "      <td>11042.000000</td>\n",
       "      <td>100.000000</td>\n",
       "      <td>25137.000000</td>\n",
       "      <td>252.000000</td>\n",
       "      <td>43792.000000</td>\n",
       "      <td>...</td>\n",
       "      <td>252.000000</td>\n",
       "      <td>192.000000</td>\n",
       "      <td>200.000000</td>\n",
       "      <td>2345.000000</td>\n",
       "      <td>100.000000</td>\n",
       "      <td>2.599701e+14</td>\n",
       "      <td>200.000000</td>\n",
       "      <td>2.000075e+11</td>\n",
       "      <td>200.000000</td>\n",
       "      <td>2.638876e+13</td>\n",
       "    </tr>\n",
       "  </tbody>\n",
       "</table>\n",
       "<p>8 rows × 48 columns</p>\n",
       "</div>"
      ],
      "text/plain": [
       "       capacity_bytes        failure  smart_1_normalized   smart_1_raw  \\\n",
       "count   553328.000000  553328.000000       553328.000000  5.533280e+05   \n",
       "mean      8287.235231       0.000045           92.129261  8.916995e+07   \n",
       "std       3602.741494       0.006722           15.516310  8.105223e+07   \n",
       "min        137.000000       0.000000            0.000000  0.000000e+00   \n",
       "25%       4000.000000       0.000000           81.000000  0.000000e+00   \n",
       "50%       8001.000000       0.000000           84.000000  7.702548e+07   \n",
       "75%      12000.000000       0.000000          100.000000  1.607558e+08   \n",
       "max      14000.000000       1.000000          200.000000  3.797213e+08   \n",
       "\n",
       "       smart_3_normalized    smart_3_raw  smart_4_normalized    smart_4_raw  \\\n",
       "count       553328.000000  553328.000000       553328.000000  553328.000000   \n",
       "mean            96.719344     162.003286           99.927231       8.058698   \n",
       "std             10.750859     846.429094            2.673474     125.075282   \n",
       "min              0.000000       0.000000            0.000000       0.000000   \n",
       "25%             92.000000       0.000000          100.000000       3.000000   \n",
       "50%             95.000000       0.000000          100.000000       5.000000   \n",
       "75%            100.000000       0.000000          100.000000       8.000000   \n",
       "max            253.000000   11042.000000          100.000000   25137.000000   \n",
       "\n",
       "       smart_5_normalized    smart_5_raw  ...  smart_198_normalized  \\\n",
       "count       553328.000000  553328.000000  ...         553328.000000   \n",
       "mean           100.869979       8.452074  ...            100.620861   \n",
       "std             11.703337     296.367269  ...             10.581824   \n",
       "min              0.000000       0.000000  ...              0.000000   \n",
       "25%            100.000000       0.000000  ...            100.000000   \n",
       "50%            100.000000       0.000000  ...            100.000000   \n",
       "75%            100.000000       0.000000  ...            100.000000   \n",
       "max            252.000000   43792.000000  ...            252.000000   \n",
       "\n",
       "       smart_198_raw  smart_199_normalized  smart_199_raw  \\\n",
       "count  553328.000000         553328.000000  553328.000000   \n",
       "mean        0.064009            199.848191       0.291641   \n",
       "std         1.396333              5.425415      12.387596   \n",
       "min         0.000000              0.000000       0.000000   \n",
       "25%         0.000000            200.000000       0.000000   \n",
       "50%         0.000000            200.000000       0.000000   \n",
       "75%         0.000000            200.000000       0.000000   \n",
       "max       192.000000            200.000000    2345.000000   \n",
       "\n",
       "       smart_240_normalized  smart_240_raw  smart_241_normalized  \\\n",
       "count         553328.000000   5.533280e+05         553328.000000   \n",
       "mean              75.195578   2.736064e+09             73.696795   \n",
       "std               43.169163   7.065419e+11             44.050578   \n",
       "min                0.000000   0.000000e+00              0.000000   \n",
       "25%              100.000000   0.000000e+00              0.000000   \n",
       "50%              100.000000   1.287800e+04            100.000000   \n",
       "75%              100.000000   2.296525e+04            100.000000   \n",
       "max              100.000000   2.599701e+14            200.000000   \n",
       "\n",
       "       smart_241_raw  smart_242_normalized  smart_242_raw  \n",
       "count   5.533280e+05         553328.000000   5.533280e+05  \n",
       "mean    3.737458e+10             73.696795   8.440290e+10  \n",
       "std     2.461704e+10             44.050578   1.317218e+11  \n",
       "min     0.000000e+00              0.000000   0.000000e+00  \n",
       "25%     0.000000e+00              0.000000   0.000000e+00  \n",
       "50%     4.825233e+10            100.000000   1.093598e+11  \n",
       "75%     5.601264e+10            100.000000   1.344827e+11  \n",
       "max     2.000075e+11            200.000000   2.638876e+13  \n",
       "\n",
       "[8 rows x 48 columns]"
      ]
     },
     "execution_count": 32,
     "metadata": {},
     "output_type": "execute_result"
    }
   ],
   "source": [
    "Test.describe()"
   ]
  },
  {
   "cell_type": "code",
   "execution_count": 33,
   "metadata": {
    "colab": {},
    "colab_type": "code",
    "id": "fdI7Fb-L3YBn"
   },
   "outputs": [],
   "source": [
    "def Sigmoid(x):\n",
    "  return 1 / (1 + np.exp(-(x + np.random.normal(scale = 0.5)))) \n",
    "def TanH(x):\n",
    "  return np.tanh(x + np.random.normal(scale = 0.5))"
   ]
  },
  {
   "cell_type": "code",
   "execution_count": 34,
   "metadata": {
    "colab": {},
    "colab_type": "code",
    "id": "HWxLbNiiwS57"
   },
   "outputs": [],
   "source": [
    "cf = ['smart_1_raw', 'smart_7_raw', 'smart_188_raw', 'smart_193_raw', 'smart_195_raw', 'smart_240_raw', 'smart_241_raw', 'smart_242_raw']\n",
    "for i in cf:\n",
    "   n = re.findall('\\d+',i) \n",
    "   s = 'smart_' + ''.join(n) + '_sig'\n",
    "   t = 'smart_' + ''.join(n) + '_tan'\n",
    "   Test[s] = Test[i].apply(Sigmoid)\n",
    "   Test[t] = Test[i].apply(TanH)"
   ]
  },
  {
   "cell_type": "code",
   "execution_count": 35,
   "metadata": {
    "colab": {
     "base_uri": "https://localhost:8080/",
     "height": 299
    },
    "colab_type": "code",
    "id": "8sCyRVcpoCuY",
    "outputId": "8cda114d-605e-4079-b006-97678ffe5b5c"
   },
   "outputs": [
    {
     "data": {
      "text/html": [
       "<div>\n",
       "<style scoped>\n",
       "    .dataframe tbody tr th:only-of-type {\n",
       "        vertical-align: middle;\n",
       "    }\n",
       "\n",
       "    .dataframe tbody tr th {\n",
       "        vertical-align: top;\n",
       "    }\n",
       "\n",
       "    .dataframe thead th {\n",
       "        text-align: right;\n",
       "    }\n",
       "</style>\n",
       "<table border=\"1\" class=\"dataframe\">\n",
       "  <thead>\n",
       "    <tr style=\"text-align: right;\">\n",
       "      <th></th>\n",
       "      <th>date</th>\n",
       "      <th>serial_number</th>\n",
       "      <th>model</th>\n",
       "      <th>capacity_bytes</th>\n",
       "      <th>failure</th>\n",
       "      <th>smart_1_normalized</th>\n",
       "      <th>smart_1_raw</th>\n",
       "      <th>smart_3_normalized</th>\n",
       "      <th>smart_3_raw</th>\n",
       "      <th>smart_4_normalized</th>\n",
       "      <th>...</th>\n",
       "      <th>smart_193_sig</th>\n",
       "      <th>smart_193_tan</th>\n",
       "      <th>smart_195_sig</th>\n",
       "      <th>smart_195_tan</th>\n",
       "      <th>smart_240_sig</th>\n",
       "      <th>smart_240_tan</th>\n",
       "      <th>smart_241_sig</th>\n",
       "      <th>smart_241_tan</th>\n",
       "      <th>smart_242_sig</th>\n",
       "      <th>smart_242_tan</th>\n",
       "    </tr>\n",
       "  </thead>\n",
       "  <tbody>\n",
       "    <tr>\n",
       "      <th>0</th>\n",
       "      <td>2019-07-01</td>\n",
       "      <td>Z305B2QN</td>\n",
       "      <td>ST4000DM000</td>\n",
       "      <td>4000.0</td>\n",
       "      <td>0</td>\n",
       "      <td>119.0</td>\n",
       "      <td>224077128.0</td>\n",
       "      <td>91.0</td>\n",
       "      <td>0.0</td>\n",
       "      <td>100.0</td>\n",
       "      <td>...</td>\n",
       "      <td>1.0</td>\n",
       "      <td>1.0</td>\n",
       "      <td>0.583641</td>\n",
       "      <td>-0.132620</td>\n",
       "      <td>1.000000</td>\n",
       "      <td>1.000000</td>\n",
       "      <td>1.000000</td>\n",
       "      <td>1.000000</td>\n",
       "      <td>1.000000</td>\n",
       "      <td>1.000000</td>\n",
       "    </tr>\n",
       "    <tr>\n",
       "      <th>1</th>\n",
       "      <td>2019-07-01</td>\n",
       "      <td>ZJV0XJQ4</td>\n",
       "      <td>ST12000NM0007</td>\n",
       "      <td>12000.0</td>\n",
       "      <td>0</td>\n",
       "      <td>83.0</td>\n",
       "      <td>196781888.0</td>\n",
       "      <td>98.0</td>\n",
       "      <td>0.0</td>\n",
       "      <td>100.0</td>\n",
       "      <td>...</td>\n",
       "      <td>1.0</td>\n",
       "      <td>1.0</td>\n",
       "      <td>1.000000</td>\n",
       "      <td>1.000000</td>\n",
       "      <td>1.000000</td>\n",
       "      <td>1.000000</td>\n",
       "      <td>1.000000</td>\n",
       "      <td>1.000000</td>\n",
       "      <td>1.000000</td>\n",
       "      <td>1.000000</td>\n",
       "    </tr>\n",
       "    <tr>\n",
       "      <th>2</th>\n",
       "      <td>2019-07-01</td>\n",
       "      <td>ZJV0XJQ3</td>\n",
       "      <td>ST12000NM0007</td>\n",
       "      <td>12000.0</td>\n",
       "      <td>0</td>\n",
       "      <td>76.0</td>\n",
       "      <td>37537312.0</td>\n",
       "      <td>99.0</td>\n",
       "      <td>0.0</td>\n",
       "      <td>100.0</td>\n",
       "      <td>...</td>\n",
       "      <td>1.0</td>\n",
       "      <td>1.0</td>\n",
       "      <td>1.000000</td>\n",
       "      <td>1.000000</td>\n",
       "      <td>1.000000</td>\n",
       "      <td>1.000000</td>\n",
       "      <td>1.000000</td>\n",
       "      <td>1.000000</td>\n",
       "      <td>1.000000</td>\n",
       "      <td>1.000000</td>\n",
       "    </tr>\n",
       "    <tr>\n",
       "      <th>3</th>\n",
       "      <td>2019-07-01</td>\n",
       "      <td>ZJV0XJQ0</td>\n",
       "      <td>ST12000NM0007</td>\n",
       "      <td>12000.0</td>\n",
       "      <td>0</td>\n",
       "      <td>100.0</td>\n",
       "      <td>1592144.0</td>\n",
       "      <td>93.0</td>\n",
       "      <td>0.0</td>\n",
       "      <td>100.0</td>\n",
       "      <td>...</td>\n",
       "      <td>1.0</td>\n",
       "      <td>1.0</td>\n",
       "      <td>1.000000</td>\n",
       "      <td>1.000000</td>\n",
       "      <td>1.000000</td>\n",
       "      <td>1.000000</td>\n",
       "      <td>1.000000</td>\n",
       "      <td>1.000000</td>\n",
       "      <td>1.000000</td>\n",
       "      <td>1.000000</td>\n",
       "    </tr>\n",
       "    <tr>\n",
       "      <th>4</th>\n",
       "      <td>2019-07-01</td>\n",
       "      <td>PL1331LAHG1S4H</td>\n",
       "      <td>HGST HMS5C4040ALE640</td>\n",
       "      <td>4000.0</td>\n",
       "      <td>0</td>\n",
       "      <td>100.0</td>\n",
       "      <td>0.0</td>\n",
       "      <td>100.0</td>\n",
       "      <td>436.0</td>\n",
       "      <td>100.0</td>\n",
       "      <td>...</td>\n",
       "      <td>1.0</td>\n",
       "      <td>1.0</td>\n",
       "      <td>0.686786</td>\n",
       "      <td>-0.542054</td>\n",
       "      <td>0.403024</td>\n",
       "      <td>-0.181081</td>\n",
       "      <td>0.353575</td>\n",
       "      <td>0.630697</td>\n",
       "      <td>0.468356</td>\n",
       "      <td>-0.856266</td>\n",
       "    </tr>\n",
       "  </tbody>\n",
       "</table>\n",
       "<p>5 rows × 67 columns</p>\n",
       "</div>"
      ],
      "text/plain": [
       "        date   serial_number                 model  capacity_bytes  failure  \\\n",
       "0 2019-07-01        Z305B2QN           ST4000DM000          4000.0        0   \n",
       "1 2019-07-01        ZJV0XJQ4         ST12000NM0007         12000.0        0   \n",
       "2 2019-07-01        ZJV0XJQ3         ST12000NM0007         12000.0        0   \n",
       "3 2019-07-01        ZJV0XJQ0         ST12000NM0007         12000.0        0   \n",
       "4 2019-07-01  PL1331LAHG1S4H  HGST HMS5C4040ALE640          4000.0        0   \n",
       "\n",
       "   smart_1_normalized  smart_1_raw  smart_3_normalized  smart_3_raw  \\\n",
       "0               119.0  224077128.0                91.0          0.0   \n",
       "1                83.0  196781888.0                98.0          0.0   \n",
       "2                76.0   37537312.0                99.0          0.0   \n",
       "3               100.0    1592144.0                93.0          0.0   \n",
       "4               100.0          0.0               100.0        436.0   \n",
       "\n",
       "   smart_4_normalized  ...  smart_193_sig  smart_193_tan  smart_195_sig  \\\n",
       "0               100.0  ...            1.0            1.0       0.583641   \n",
       "1               100.0  ...            1.0            1.0       1.000000   \n",
       "2               100.0  ...            1.0            1.0       1.000000   \n",
       "3               100.0  ...            1.0            1.0       1.000000   \n",
       "4               100.0  ...            1.0            1.0       0.686786   \n",
       "\n",
       "   smart_195_tan  smart_240_sig  smart_240_tan  smart_241_sig  smart_241_tan  \\\n",
       "0      -0.132620       1.000000       1.000000       1.000000       1.000000   \n",
       "1       1.000000       1.000000       1.000000       1.000000       1.000000   \n",
       "2       1.000000       1.000000       1.000000       1.000000       1.000000   \n",
       "3       1.000000       1.000000       1.000000       1.000000       1.000000   \n",
       "4      -0.542054       0.403024      -0.181081       0.353575       0.630697   \n",
       "\n",
       "   smart_242_sig  smart_242_tan  \n",
       "0       1.000000       1.000000  \n",
       "1       1.000000       1.000000  \n",
       "2       1.000000       1.000000  \n",
       "3       1.000000       1.000000  \n",
       "4       0.468356      -0.856266  \n",
       "\n",
       "[5 rows x 67 columns]"
      ]
     },
     "execution_count": 35,
     "metadata": {},
     "output_type": "execute_result"
    }
   ],
   "source": [
    "Test.head()"
   ]
  },
  {
   "cell_type": "code",
   "execution_count": 36,
   "metadata": {
    "colab": {
     "base_uri": "https://localhost:8080/",
     "height": 554
    },
    "colab_type": "code",
    "id": "1ZQ2B73No_u6",
    "outputId": "1309e0b9-e4b9-4a43-cb9a-57275a336d8c"
   },
   "outputs": [
    {
     "name": "stdout",
     "output_type": "stream",
     "text": [
      "smart_1_raw feature Correlation with target(Failure) is 0.0016745163119723456\n",
      "smart_1_sig feature Correlation with target(Failure) is 0.003891794108058045\n",
      "smart_1_tan feature Correlation with target(Failure) is 0.003629069943988933\n",
      "\n",
      "smart_7_raw feature Correlation with target(Failure) is 0.0006028239845759019\n",
      "smart_7_sig feature Correlation with target(Failure) is 0.003925088958949705\n",
      "smart_7_tan feature Correlation with target(Failure) is 0.0036604887346998235\n",
      "\n",
      "smart_188_raw feature Correlation with target(Failure) is 0.009120508594145146\n",
      "smart_188_sig feature Correlation with target(Failure) is 0.0020905090597323943\n",
      "smart_188_tan feature Correlation with target(Failure) is 0.0009144812962274106\n",
      "\n",
      "smart_193_raw feature Correlation with target(Failure) is -0.0014046697204491488\n",
      "smart_193_sig feature Correlation with target(Failure) is 0.0006277714666316634\n",
      "smart_193_tan feature Correlation with target(Failure) is 0.0004827908913695364\n",
      "\n",
      "smart_195_raw feature Correlation with target(Failure) is 0.0031445564596624185\n",
      "smart_195_sig feature Correlation with target(Failure) is 0.004179299658761206\n",
      "smart_195_tan feature Correlation with target(Failure) is 0.003988569155084582\n",
      "\n",
      "smart_240_raw feature Correlation with target(Failure) is -2.603005394752795e-05\n",
      "smart_240_sig feature Correlation with target(Failure) is 0.003917607922989538\n",
      "smart_240_tan feature Correlation with target(Failure) is 0.0036544768818809947\n",
      "\n",
      "smart_241_raw feature Correlation with target(Failure) is 0.00434203130624442\n",
      "smart_241_sig feature Correlation with target(Failure) is 0.0038730307480397937\n",
      "smart_241_tan feature Correlation with target(Failure) is 0.0036123384783969233\n",
      "\n",
      "smart_242_raw feature Correlation with target(Failure) is 0.0006918979581391774\n",
      "smart_242_sig feature Correlation with target(Failure) is 0.003872775298114743\n",
      "smart_242_tan feature Correlation with target(Failure) is 0.003614281998333605\n",
      "\n"
     ]
    }
   ],
   "source": [
    "cf = ['smart_1_raw', 'smart_1_sig', 'smart_1_tan', 'smart_7_raw', 'smart_7_sig', 'smart_7_tan', 'smart_188_raw', 'smart_188_sig', 'smart_188_tan', 'smart_193_raw', 'smart_193_sig', 'smart_193_tan', 'smart_195_raw', 'smart_195_sig', 'smart_195_tan', 'smart_240_raw', 'smart_240_sig', 'smart_240_tan', 'smart_241_raw', 'smart_241_sig', 'smart_241_tan', 'smart_242_raw', 'smart_242_sig', 'smart_242_tan']\n",
    "j = 1\n",
    "for i in cf:\n",
    "  print(i + ' feature' + ' Correlation with target(Failure)' + ' is ' + str(Test[i].corr(Test['failure']))) # This line computes the correlation.\n",
    "  if(j % 3 == 0):\n",
    "    print()\n",
    "  j+=1"
   ]
  },
  {
   "cell_type": "code",
   "execution_count": 37,
   "metadata": {
    "colab": {},
    "colab_type": "code",
    "id": "7McICI9RIuwZ"
   },
   "outputs": [],
   "source": [
    "def res_fit(cat, Y):\n",
    "    j = dict(cat.value_counts())  \n",
    "    true, false = 0, 0\n",
    "    TRUE, FALSE = {}, {} \n",
    "    for key, value in j.items(): \n",
    "        sum, neg, = 0, 0\n",
    "        for state, y in zip(cat, Y): \n",
    "            if (key == state and y == 1): \n",
    "                sum+= 1             \n",
    "            elif (key == state and y == 0):\n",
    "                neg+= 1              \n",
    "        true = sum / value           \n",
    "        false = neg / value          \n",
    "        TRUE[key] = true\n",
    "        FALSE[key] = false           \n",
    "    return j, TRUE, FALSE"
   ]
  },
  {
   "cell_type": "code",
   "execution_count": 38,
   "metadata": {
    "colab": {},
    "colab_type": "code",
    "id": "btVcJmKdIvE3"
   },
   "outputs": [],
   "source": [
    "def res_transform(cat, TRUE, FALSE):\n",
    "    t = []\n",
    "    f = []\n",
    "    for state in cat: \n",
    "        for ((key_t, value_t), (key_f, value_f)) in zip(TRUE.items(), FALSE.items()):  \n",
    "\n",
    "            if state == key_t and state == key_f: \n",
    "                t.append(value_t)                 \n",
    "                f.append(value_f)\n",
    "                break\n",
    "        else :           \n",
    "                t.append(1/2)\n",
    "                f.append(1/2) \n",
    "\n",
    "    X_t = np.array(t).reshape(-1, 1)\n",
    "    X_f = np.array(f).reshape(-1, 1) \n",
    "    \n",
    "    return np.concatenate((X_t, X_f), axis = 1) "
   ]
  },
  {
   "cell_type": "code",
   "execution_count": 39,
   "metadata": {
    "colab": {},
    "colab_type": "code",
    "id": "kKINAanZGen2"
   },
   "outputs": [],
   "source": [
    "del Test"
   ]
  },
  {
   "cell_type": "code",
   "execution_count": 40,
   "metadata": {
    "colab": {
     "base_uri": "https://localhost:8080/",
     "height": 50
    },
    "colab_type": "code",
    "id": "u9a7v5ke1bxf",
    "outputId": "a01f9204-a85e-4190-ac83-727da234fb1a"
   },
   "outputs": [
    {
     "name": "stdout",
     "output_type": "stream",
     "text": [
      "Original shape of Data :  (553328, 51)\n",
      "Final shape of Data :  (553328, 57)\n"
     ]
    }
   ],
   "source": [
    "print(\"Original shape of Data : \", Data.shape)\n",
    "cf = ['smart_1_raw', 'smart_7_raw', 'smart_193_raw', 'smart_195_raw', 'smart_240_raw', 'smart_242_raw']\n",
    "for i in cf:\n",
    "   n = re.findall('\\d+',i) \n",
    "   s = 'smart_' + ''.join(n) + '_sig'\n",
    "   Data[s] = Data[i].apply(Sigmoid)\n",
    "\n",
    "print(\"Final shape of Data : \", Data.shape)"
   ]
  },
  {
   "cell_type": "code",
   "execution_count": 41,
   "metadata": {
    "colab": {
     "base_uri": "https://localhost:8080/",
     "height": 299
    },
    "colab_type": "code",
    "id": "j5nCyDpc-rFu",
    "outputId": "64e65392-c689-4ee8-e719-192bfa2a4f34"
   },
   "outputs": [
    {
     "data": {
      "text/html": [
       "<div>\n",
       "<style scoped>\n",
       "    .dataframe tbody tr th:only-of-type {\n",
       "        vertical-align: middle;\n",
       "    }\n",
       "\n",
       "    .dataframe tbody tr th {\n",
       "        vertical-align: top;\n",
       "    }\n",
       "\n",
       "    .dataframe thead th {\n",
       "        text-align: right;\n",
       "    }\n",
       "</style>\n",
       "<table border=\"1\" class=\"dataframe\">\n",
       "  <thead>\n",
       "    <tr style=\"text-align: right;\">\n",
       "      <th></th>\n",
       "      <th>date</th>\n",
       "      <th>serial_number</th>\n",
       "      <th>model</th>\n",
       "      <th>capacity_bytes</th>\n",
       "      <th>failure</th>\n",
       "      <th>smart_1_normalized</th>\n",
       "      <th>smart_1_raw</th>\n",
       "      <th>smart_3_normalized</th>\n",
       "      <th>smart_3_raw</th>\n",
       "      <th>smart_4_normalized</th>\n",
       "      <th>...</th>\n",
       "      <th>smart_241_normalized</th>\n",
       "      <th>smart_241_raw</th>\n",
       "      <th>smart_242_normalized</th>\n",
       "      <th>smart_242_raw</th>\n",
       "      <th>smart_1_sig</th>\n",
       "      <th>smart_7_sig</th>\n",
       "      <th>smart_193_sig</th>\n",
       "      <th>smart_195_sig</th>\n",
       "      <th>smart_240_sig</th>\n",
       "      <th>smart_242_sig</th>\n",
       "    </tr>\n",
       "  </thead>\n",
       "  <tbody>\n",
       "    <tr>\n",
       "      <th>0</th>\n",
       "      <td>2019-07-01</td>\n",
       "      <td>Z305B2QN</td>\n",
       "      <td>ST4000DM000</td>\n",
       "      <td>4000.0</td>\n",
       "      <td>0</td>\n",
       "      <td>119.0</td>\n",
       "      <td>224077128.0</td>\n",
       "      <td>91.0</td>\n",
       "      <td>0.0</td>\n",
       "      <td>100.0</td>\n",
       "      <td>...</td>\n",
       "      <td>100.0</td>\n",
       "      <td>4.863399e+10</td>\n",
       "      <td>100.0</td>\n",
       "      <td>1.425050e+11</td>\n",
       "      <td>1.000000</td>\n",
       "      <td>1.000000</td>\n",
       "      <td>1.0</td>\n",
       "      <td>0.532125</td>\n",
       "      <td>1.000000</td>\n",
       "      <td>1.000000</td>\n",
       "    </tr>\n",
       "    <tr>\n",
       "      <th>1</th>\n",
       "      <td>2019-07-01</td>\n",
       "      <td>ZJV0XJQ4</td>\n",
       "      <td>ST12000NM0007</td>\n",
       "      <td>12000.0</td>\n",
       "      <td>0</td>\n",
       "      <td>83.0</td>\n",
       "      <td>196781888.0</td>\n",
       "      <td>98.0</td>\n",
       "      <td>0.0</td>\n",
       "      <td>100.0</td>\n",
       "      <td>...</td>\n",
       "      <td>100.0</td>\n",
       "      <td>4.373717e+10</td>\n",
       "      <td>100.0</td>\n",
       "      <td>8.853983e+10</td>\n",
       "      <td>1.000000</td>\n",
       "      <td>1.000000</td>\n",
       "      <td>1.0</td>\n",
       "      <td>1.000000</td>\n",
       "      <td>1.000000</td>\n",
       "      <td>1.000000</td>\n",
       "    </tr>\n",
       "    <tr>\n",
       "      <th>2</th>\n",
       "      <td>2019-07-01</td>\n",
       "      <td>ZJV0XJQ3</td>\n",
       "      <td>ST12000NM0007</td>\n",
       "      <td>12000.0</td>\n",
       "      <td>0</td>\n",
       "      <td>76.0</td>\n",
       "      <td>37537312.0</td>\n",
       "      <td>99.0</td>\n",
       "      <td>0.0</td>\n",
       "      <td>100.0</td>\n",
       "      <td>...</td>\n",
       "      <td>100.0</td>\n",
       "      <td>3.967749e+10</td>\n",
       "      <td>100.0</td>\n",
       "      <td>2.115116e+10</td>\n",
       "      <td>1.000000</td>\n",
       "      <td>1.000000</td>\n",
       "      <td>1.0</td>\n",
       "      <td>1.000000</td>\n",
       "      <td>1.000000</td>\n",
       "      <td>1.000000</td>\n",
       "    </tr>\n",
       "    <tr>\n",
       "      <th>3</th>\n",
       "      <td>2019-07-01</td>\n",
       "      <td>ZJV0XJQ0</td>\n",
       "      <td>ST12000NM0007</td>\n",
       "      <td>12000.0</td>\n",
       "      <td>0</td>\n",
       "      <td>100.0</td>\n",
       "      <td>1592144.0</td>\n",
       "      <td>93.0</td>\n",
       "      <td>0.0</td>\n",
       "      <td>100.0</td>\n",
       "      <td>...</td>\n",
       "      <td>100.0</td>\n",
       "      <td>4.720428e+10</td>\n",
       "      <td>100.0</td>\n",
       "      <td>6.852008e+10</td>\n",
       "      <td>1.000000</td>\n",
       "      <td>1.000000</td>\n",
       "      <td>1.0</td>\n",
       "      <td>1.000000</td>\n",
       "      <td>1.000000</td>\n",
       "      <td>1.000000</td>\n",
       "    </tr>\n",
       "    <tr>\n",
       "      <th>4</th>\n",
       "      <td>2019-07-01</td>\n",
       "      <td>PL1331LAHG1S4H</td>\n",
       "      <td>HGST HMS5C4040ALE640</td>\n",
       "      <td>4000.0</td>\n",
       "      <td>0</td>\n",
       "      <td>100.0</td>\n",
       "      <td>0.0</td>\n",
       "      <td>100.0</td>\n",
       "      <td>436.0</td>\n",
       "      <td>100.0</td>\n",
       "      <td>...</td>\n",
       "      <td>0.0</td>\n",
       "      <td>0.000000e+00</td>\n",
       "      <td>0.0</td>\n",
       "      <td>0.000000e+00</td>\n",
       "      <td>0.569148</td>\n",
       "      <td>0.381821</td>\n",
       "      <td>1.0</td>\n",
       "      <td>0.646481</td>\n",
       "      <td>0.621275</td>\n",
       "      <td>0.374971</td>\n",
       "    </tr>\n",
       "  </tbody>\n",
       "</table>\n",
       "<p>5 rows × 57 columns</p>\n",
       "</div>"
      ],
      "text/plain": [
       "        date   serial_number                 model  capacity_bytes  failure  \\\n",
       "0 2019-07-01        Z305B2QN           ST4000DM000          4000.0        0   \n",
       "1 2019-07-01        ZJV0XJQ4         ST12000NM0007         12000.0        0   \n",
       "2 2019-07-01        ZJV0XJQ3         ST12000NM0007         12000.0        0   \n",
       "3 2019-07-01        ZJV0XJQ0         ST12000NM0007         12000.0        0   \n",
       "4 2019-07-01  PL1331LAHG1S4H  HGST HMS5C4040ALE640          4000.0        0   \n",
       "\n",
       "   smart_1_normalized  smart_1_raw  smart_3_normalized  smart_3_raw  \\\n",
       "0               119.0  224077128.0                91.0          0.0   \n",
       "1                83.0  196781888.0                98.0          0.0   \n",
       "2                76.0   37537312.0                99.0          0.0   \n",
       "3               100.0    1592144.0                93.0          0.0   \n",
       "4               100.0          0.0               100.0        436.0   \n",
       "\n",
       "   smart_4_normalized  ...  smart_241_normalized  smart_241_raw  \\\n",
       "0               100.0  ...                 100.0   4.863399e+10   \n",
       "1               100.0  ...                 100.0   4.373717e+10   \n",
       "2               100.0  ...                 100.0   3.967749e+10   \n",
       "3               100.0  ...                 100.0   4.720428e+10   \n",
       "4               100.0  ...                   0.0   0.000000e+00   \n",
       "\n",
       "   smart_242_normalized  smart_242_raw  smart_1_sig  smart_7_sig  \\\n",
       "0                 100.0   1.425050e+11     1.000000     1.000000   \n",
       "1                 100.0   8.853983e+10     1.000000     1.000000   \n",
       "2                 100.0   2.115116e+10     1.000000     1.000000   \n",
       "3                 100.0   6.852008e+10     1.000000     1.000000   \n",
       "4                   0.0   0.000000e+00     0.569148     0.381821   \n",
       "\n",
       "   smart_193_sig  smart_195_sig  smart_240_sig  smart_242_sig  \n",
       "0            1.0       0.532125       1.000000       1.000000  \n",
       "1            1.0       1.000000       1.000000       1.000000  \n",
       "2            1.0       1.000000       1.000000       1.000000  \n",
       "3            1.0       1.000000       1.000000       1.000000  \n",
       "4            1.0       0.646481       0.621275       0.374971  \n",
       "\n",
       "[5 rows x 57 columns]"
      ]
     },
     "execution_count": 41,
     "metadata": {},
     "output_type": "execute_result"
    }
   ],
   "source": [
    "Data.head()"
   ]
  },
  {
   "cell_type": "code",
   "execution_count": 42,
   "metadata": {
    "colab": {},
    "colab_type": "code",
    "id": "3QAlS29T6rlB"
   },
   "outputs": [],
   "source": [
    "split_date = '2019-07-03'"
   ]
  },
  {
   "cell_type": "code",
   "execution_count": 43,
   "metadata": {
    "colab": {
     "base_uri": "https://localhost:8080/",
     "height": 0
    },
    "colab_type": "code",
    "id": "DzBEaUAp6_fi",
    "outputId": "2ebfaa01-607f-43a3-dc0d-6b97db1981df"
   },
   "outputs": [
    {
     "name": "stdout",
     "output_type": "stream",
     "text": [
      "(331926, 57) (221402, 57)\n"
     ]
    }
   ],
   "source": [
    "Train = Data.loc[Data.date <= split_date]\n",
    "Val = Data.loc[Data.date > split_date]\n",
    "print(Train.shape, Val.shape)"
   ]
  },
  {
   "cell_type": "code",
   "execution_count": 44,
   "metadata": {
    "colab": {
     "base_uri": "https://localhost:8080/",
     "height": 0
    },
    "colab_type": "code",
    "id": "SYGMOpVx6xox",
    "outputId": "ab02e2f2-50d0-4e87-b151-43f649e9ec99"
   },
   "outputs": [
    {
     "name": "stdout",
     "output_type": "stream",
     "text": [
      "{'ST12000NM0007': 104129, 'ST4000DM000': 58705, 'ST8000NM0055': 43142, 'HGST HMS5C4040BLE640': 38256, 'ST8000DM002': 29622, 'HGST HUH721212ALN604': 28835, 'HGST HMS5C4040ALE640': 7921, 'TOSHIBA MG07ACA14TA': 3660, 'ST10000NM0086': 3600, 'HGST HUH728080ALE600': 3003, 'ST6000DX000': 2658, 'HGST HUH721212ALE600': 1560, 'ST500LM012 HN': 1509, 'TOSHIBA MQ01ABF050': 1497, 'TOSHIBA MQ01ABF050M': 1134, 'ST500LM030': 699, 'WDC WD5000LPVX': 636, 'TOSHIBA MD04ABA400V': 297, 'WDC WD5000LPCX': 162, 'ST4000DM005': 120, 'Seagate SSD': 111, 'ST500LM021': 97, 'HGST HUS726040ALE610': 84, 'HGST HDS5C4040ALE630': 78, 'ST8000DM005': 75, 'TOSHIBA HDWF180': 60, 'DELLBOSS VD': 60, 'HGST HUH721010ALE600': 60, 'Seagate BarraCuda SSD ZA500CM10002': 54, 'WDC WD5000BPKT': 33, 'ST6000DM001': 12, 'TOSHIBA HDWE160': 12, 'Seagate BarraCuda SSD ZA2000CM10002': 9, 'WDC WD60EFRX': 9, 'ST8000DM004': 9, 'Hitachi HDS5C4040ALE630': 3, 'ST320LT007': 3, 'ST9250315AS': 3, 'HGST HMS5C4040BLE641': 3, 'ST1000LM024 HN': 3, 'ST6000DM004': 3}\n",
      "\n",
      "**************************************************\n",
      "(331926, 2)\n",
      "(221402, 2)\n"
     ]
    }
   ],
   "source": [
    "values, TR, FA = res_fit(Train['model'], Train['failure'].values)\n",
    "print(values)\n",
    "print()\n",
    "Train_model = res_transform(Train['model'], TR, FA)\n",
    "Val_model = res_transform(Val['model'], TR, FA)\n",
    "print('*'*50)\n",
    "print(Train_model.shape)\n",
    "print(Val_model.shape)"
   ]
  },
  {
   "cell_type": "code",
   "execution_count": 45,
   "metadata": {
    "colab": {
     "base_uri": "https://localhost:8080/",
     "height": 0
    },
    "colab_type": "code",
    "id": "ZRn1AKVA9Toz",
    "outputId": "05509361-761d-4356-a213-9d292cd7dd03"
   },
   "outputs": [
    {
     "name": "stderr",
     "output_type": "stream",
     "text": [
      "No artists with labels found to put in legend.  Note that artists whose label start with an underscore are ignored when legend() is called with no argument.\n"
     ]
    },
    {
     "name": "stdout",
     "output_type": "stream",
     "text": [
      "0    331906\n",
      "1        20\n",
      "Name: failure, dtype: int64\n"
     ]
    },
    {
     "data": {
      "image/png": "[encoded data removed]",
      "text/plain": [
       "<Figure size 640x480 with 1 Axes>"
      ]
     },
     "metadata": {},
     "output_type": "display_data"
    }
   ],
   "source": [
    "total = len(Train)\n",
    "print(Train.failure.value_counts())\n",
    "ax = sns.countplot(x = 'failure', data = Train)\n",
    "for p in ax.patches:\n",
    "  ax.annotate('{}'.format(p.get_height()), (p.get_x()+0.25, p.get_height()+5))\n",
    "ax.yaxis.set_ticks(np.linspace(0, total, 11))\n",
    "plt.legend()\n",
    "plt.title(\"Failure Counts\")\n",
    "plt.show()"
   ]
  },
  {
   "cell_type": "code",
   "execution_count": 46,
   "metadata": {
    "colab": {
     "base_uri": "https://localhost:8080/",
     "height": 362
    },
    "colab_type": "code",
    "id": "QYjz4-iJ9ftm",
    "outputId": "73444beb-15b9-4fb1-c0a2-6b7629d7bf19"
   },
   "outputs": [
    {
     "name": "stderr",
     "output_type": "stream",
     "text": [
      "No artists with labels found to put in legend.  Note that artists whose label start with an underscore are ignored when legend() is called with no argument.\n"
     ]
    },
    {
     "name": "stdout",
     "output_type": "stream",
     "text": [
      "0    221397\n",
      "1         5\n",
      "Name: failure, dtype: int64\n"
     ]
    },
    {
     "data": {
      "image/png": "[encoded data removed]",
      "text/plain": [
       "<Figure size 640x480 with 1 Axes>"
      ]
     },
     "metadata": {},
     "output_type": "display_data"
    }
   ],
   "source": [
    "total = len(Val)\n",
    "print(Val.failure.value_counts())\n",
    "ax = sns.countplot(x = 'failure', data = Val)\n",
    "for p in ax.patches:\n",
    "  ax.annotate('{}'.format(p.get_height()), (p.get_x()+0.25, p.get_height()+5))\n",
    "ax.yaxis.set_ticks(np.linspace(0, total, 11))\n",
    "plt.legend()\n",
    "plt.title(\"Failure Counts\")\n",
    "plt.show()"
   ]
  },
  {
   "cell_type": "code",
   "execution_count": 47,
   "metadata": {
    "colab": {},
    "colab_type": "code",
    "id": "cfRuGFdV96K9"
   },
   "outputs": [],
   "source": [
    "X_Train_orig = Train.drop(f, axis = 1).values\n",
    "Y_Train_orig = Train.failure.values\n",
    "X_Val_orig = Val.drop(f, axis = 1).values\n",
    "Y_Val_orig = Val.failure.values"
   ]
  },
  {
   "cell_type": "code",
   "execution_count": 48,
   "metadata": {
    "colab": {
     "base_uri": "https://localhost:8080/",
     "height": 34
    },
    "colab_type": "code",
    "id": "AdqDxKPifOVJ",
    "outputId": "04755668-1b59-49b7-c527-3bcb1cdce925"
   },
   "outputs": [
    {
     "data": {
      "text/plain": [
       "((331926, 52), (331926,))"
      ]
     },
     "execution_count": 48,
     "metadata": {},
     "output_type": "execute_result"
    }
   ],
   "source": [
    "X_Train_orig.shape, Y_Train_orig.shape"
   ]
  },
  {
   "cell_type": "code",
   "execution_count": 49,
   "metadata": {
    "colab": {
     "base_uri": "https://localhost:8080/",
     "height": 34
    },
    "colab_type": "code",
    "id": "v4rPjqq1-eij",
    "outputId": "6c1a8eff-e9fc-4496-8c6e-cfaee56919f0"
   },
   "outputs": [
    {
     "data": {
      "text/plain": [
       "((221402, 52), (221402,))"
      ]
     },
     "execution_count": 49,
     "metadata": {},
     "output_type": "execute_result"
    }
   ],
   "source": [
    "X_Val_orig.shape, Y_Val_orig.shape"
   ]
  },
  {
   "cell_type": "code",
   "execution_count": 50,
   "metadata": {
    "colab": {
     "base_uri": "https://localhost:8080/",
     "height": 34
    },
    "colab_type": "code",
    "id": "oLm712gdq87g",
    "outputId": "25a01407-72bc-4b80-cca2-fc0a49464faf"
   },
   "outputs": [
    {
     "data": {
      "text/plain": [
       "((331926, 54), (221402, 54))"
      ]
     },
     "execution_count": 50,
     "metadata": {},
     "output_type": "execute_result"
    }
   ],
   "source": [
    "X_Train_orig = np.hstack((X_Train_orig, Train_model))\n",
    "X_Val_orig = np.hstack((X_Val_orig, Val_model))\n",
    "X_Train_orig.shape, X_Val_orig.shape"
   ]
  },
  {
   "cell_type": "code",
   "execution_count": 51,
   "metadata": {
    "colab": {},
    "colab_type": "code",
    "id": "UpWqZuTZGbP7"
   },
   "outputs": [],
   "source": [
    "del Train_model\n",
    "del Val_model"
   ]
  },
  {
   "cell_type": "code",
   "execution_count": 52,
   "metadata": {
    "colab": {
     "base_uri": "https://localhost:8080/",
     "height": 34
    },
    "colab_type": "code",
    "id": "kn2-CUWfg7Ha",
    "outputId": "906b4bdc-36ba-4e64-9826-3107df3d913e"
   },
   "outputs": [
    {
     "data": {
      "text/plain": [
       "(Counter({0: 331906, 1: 20}), Counter({0: 221397, 1: 5}))"
      ]
     },
     "execution_count": 52,
     "metadata": {},
     "output_type": "execute_result"
    }
   ],
   "source": [
    "Counter(Y_Train_orig), Counter(Y_Val_orig)"
   ]
  },
  {
   "cell_type": "code",
   "execution_count": 53,
   "metadata": {
    "colab": {},
    "colab_type": "code",
    "id": "HPbTQ3VZg8aH"
   },
   "outputs": [],
   "source": [
    "from imblearn.under_sampling import RandomUnderSampler\n",
    "from imblearn.pipeline import Pipeline\n",
    "\n",
    "under = RandomUnderSampler(sampling_strategy = 0.8)\n",
    "over_smote = SMOTE(n_jobs = -1, k_neighbors = 1, sampling_strategy = 0.5)\n",
    "steps = [('o', over_smote), ('u', under)]\n",
    "pipeline = Pipeline(steps = steps)"
   ]
  },
  {
   "cell_type": "code",
   "execution_count": 54,
   "metadata": {
    "colab": {
     "base_uri": "https://localhost:8080/",
     "height": 104
    },
    "colab_type": "code",
    "id": "rGmZBD2phFh4",
    "outputId": "c68cd645-7d35-4f98-d898-0bf38ce7fc71"
   },
   "outputs": [
    {
     "name": "stderr",
     "output_type": "stream",
     "text": [
      "C:\\Users\\India\\anaconda3\\lib\\site-packages\\imblearn\\over_sampling\\_smote\\base.py:336: FutureWarning: The parameter `n_jobs` has been deprecated in 0.10 and will be removed in 0.12. You can pass an nearest neighbors estimator where `n_jobs` is already set instead.\n",
      "  warnings.warn(\n"
     ]
    }
   ],
   "source": [
    "x_train_sam, y_train_sam = pipeline.fit_resample(X_Train_orig, Y_Train_orig)\n",
    "x_val, y_val = X_Val_orig, Y_Val_orig"
   ]
  },
  {
   "cell_type": "code",
   "execution_count": 55,
   "metadata": {
    "colab": {
     "base_uri": "https://localhost:8080/",
     "height": 34
    },
    "colab_type": "code",
    "id": "HvaU_DlWhRX1",
    "outputId": "0a7ced72-34f7-421f-ad45-2033b84bd19a"
   },
   "outputs": [
    {
     "data": {
      "text/plain": [
       "((373394, 54), (373394,))"
      ]
     },
     "execution_count": 55,
     "metadata": {},
     "output_type": "execute_result"
    }
   ],
   "source": [
    "x_train_sam.shape, y_train_sam.shape "
   ]
  },
  {
   "cell_type": "code",
   "execution_count": 56,
   "metadata": {
    "colab": {
     "base_uri": "https://localhost:8080/",
     "height": 34
    },
    "colab_type": "code",
    "id": "zVsgKmeAACO-",
    "outputId": "7c0c47cd-f0e9-4cec-87b9-08ed7de834d9"
   },
   "outputs": [
    {
     "data": {
      "text/plain": [
       "((221402, 54), (221402,))"
      ]
     },
     "execution_count": 56,
     "metadata": {},
     "output_type": "execute_result"
    }
   ],
   "source": [
    "x_val.shape, y_val.shape "
   ]
  },
  {
   "cell_type": "code",
   "execution_count": 57,
   "metadata": {
    "colab": {
     "base_uri": "https://localhost:8080/",
     "height": 298
    },
    "colab_type": "code",
    "id": "CFmCkWbefdYi",
    "outputId": "783d7b82-c9f4-4cad-a2a4-4bdcfeb690e4"
   },
   "outputs": [
    {
     "name": "stdout",
     "output_type": "stream",
     "text": [
      "Counter({0: 207441, 1: 165953})\n"
     ]
    },
    {
     "data": {
      "image/png": "[encoded data removed]",
      "text/plain": [
       "<Figure size 640x480 with 1 Axes>"
      ]
     },
     "metadata": {},
     "output_type": "display_data"
    }
   ],
   "source": [
    "total = len(X_Train_orig)\n",
    "print(Counter(y_train_sam))\n",
    "ax = sns.countplot(y_train_sam)\n",
    "for p in ax.patches:\n",
    "  ax.annotate('{}'.format(p.get_height()), (p.get_x()+0.25, p.get_height()+5))\n",
    "\n",
    "ax.yaxis.set_ticks(np.linspace(0, total, 11))\n",
    "plt.title(\"Failure counts after sampling\")\n",
    "plt.show()"
   ]
  },
  {
   "cell_type": "code",
   "execution_count": 58,
   "metadata": {
    "colab": {
     "base_uri": "https://localhost:8080/",
     "height": 298
    },
    "colab_type": "code",
    "id": "vNkJypyqALV-",
    "outputId": "ba123ab7-11a6-41b0-abab-715cc09c481a"
   },
   "outputs": [
    {
     "name": "stdout",
     "output_type": "stream",
     "text": [
      "Counter({0: 221397, 1: 5})\n"
     ]
    },
    {
     "data": {
      "image/png": "[encoded data removed]",
      "text/plain": [
       "<Figure size 640x480 with 1 Axes>"
      ]
     },
     "metadata": {},
     "output_type": "display_data"
    }
   ],
   "source": [
    "total = len(X_Val_orig)\n",
    "print(Counter(y_val))\n",
    "ax = sns.countplot(y_val)\n",
    "for p in ax.patches:\n",
    "  ax.annotate('{}'.format(p.get_height()), (p.get_x()+0.25, p.get_height()+5))\n",
    "\n",
    "ax.yaxis.set_ticks(np.linspace(0, total, 11))\n",
    "plt.title(\"Failure counts after sampling\")\n",
    "plt.show()"
   ]
  },
  {
   "cell_type": "code",
   "execution_count": 59,
   "metadata": {
    "colab": {},
    "colab_type": "code",
    "id": "2Lx2yzno3sgG"
   },
   "outputs": [],
   "source": [
    "from sklearn.preprocessing import Normalizer, StandardScaler\n",
    "normalizer = Normalizer()\n",
    "sc = StandardScaler()"
   ]
  },
  {
   "cell_type": "code",
   "execution_count": 60,
   "metadata": {
    "colab": {},
    "colab_type": "code",
    "id": "RuQGHLW9BA7w"
   },
   "outputs": [],
   "source": [
    "sc.fit(x_train_sam)\n",
    "\n",
    "X_train_standard = sc.transform(x_train_sam)\n",
    "X_val_standard = sc.transform(x_val)"
   ]
  },
  {
   "cell_type": "code",
   "execution_count": 61,
   "metadata": {
    "colab": {
     "base_uri": "https://localhost:8080/",
     "height": 67
    },
    "colab_type": "code",
    "id": "LJUGKcCcYVl_",
    "outputId": "7affc62a-1fda-4cbb-8493-7154b3199c2d"
   },
   "outputs": [
    {
     "name": "stdout",
     "output_type": "stream",
     "text": [
      "Train 9.812047281559231e-10 1.000000000000137\n",
      "Val -0.09423271531383746 1.2640587792692324\n",
      "(373394, 54) (221402, 54)\n"
     ]
    }
   ],
   "source": [
    "print(\"Train\", np.mean(X_train_standard), np.std(X_train_standard))\n",
    "print(\"Val\", np.mean(X_val_standard), np.std(X_val_standard))\n",
    "print(X_train_standard.shape, X_val_standard.shape)"
   ]
  },
  {
   "cell_type": "code",
   "execution_count": 62,
   "metadata": {
    "colab": {
     "base_uri": "https://localhost:8080/",
     "height": 202
    },
    "colab_type": "code",
    "id": "cTOUclsgIIAD",
    "outputId": "6e448cbc-3bd2-4fe9-dc14-1a0ef312740a"
   },
   "outputs": [
    {
     "data": {
      "text/plain": [
       "array([ 1.91678652e+00, -3.55847817e-01, -5.58057261e-01, -1.41646158e-01,\n",
       "        1.96028019e-02,  5.56664054e-02, -3.02285735e-02, -4.40001495e-01,\n",
       "       -2.29961497e-01, -1.52197716e-02, -1.68807655e+00,  1.60111651e+00,\n",
       "       -4.46020033e-02, -1.00051711e-02,  9.11203141e-03,  8.68540235e-01,\n",
       "        1.30080581e+00, -5.11118379e-03,  4.95236156e-01, -2.85760187e-01,\n",
       "        4.19478975e-01, -4.29448632e-02,  7.15270861e-01, -2.81321501e-01,\n",
       "       -4.45263223e-02, -2.31449475e-01, -1.16720599e+00,  8.23205905e-01,\n",
       "       -5.24834479e-01, -1.32976486e+00, -1.35688479e+00, -1.17282454e+00,\n",
       "       -4.08121424e-01, -1.13635716e-02, -5.69146006e-02, -4.02887753e-01,\n",
       "       -4.51018466e-02, -4.02704076e-01,  2.02936434e-02, -1.78825869e-02,\n",
       "        4.00944726e-01, -1.63644232e-03,  4.14305592e-01,  1.80067233e-01,\n",
       "        4.14305592e-01,  4.54005811e-01,  4.03447264e-01,  4.06358266e-01,\n",
       "        6.96367363e-02, -1.13459432e+00,  4.05794486e-01,  4.01606755e-01,\n",
       "       -8.90380385e-01,  8.90380438e-01])"
      ]
     },
     "execution_count": 62,
     "metadata": {},
     "output_type": "execute_result"
    }
   ],
   "source": [
    "X_val_standard[0]"
   ]
  },
  {
   "cell_type": "markdown",
   "metadata": {
    "colab_type": "text",
    "id": "ibqu809NDoqf"
   },
   "source": [
    "# Test Dataset"
   ]
  },
  {
   "cell_type": "code",
   "execution_count": 63,
   "metadata": {
    "colab": {
     "base_uri": "https://localhost:8080/",
     "height": 34
    },
    "colab_type": "code",
    "id": "hy7C32blKL5V",
    "outputId": "76ab6f1b-578f-4ad4-83ee-7b5c9b95b0ba"
   },
   "outputs": [
    {
     "name": "stderr",
     "output_type": "stream",
     "text": [
      "C:\\Users\\India\\AppData\\Local\\Temp\\ipykernel_14448\\1450367515.py:2: FutureWarning: The frame.append method is deprecated and will be removed from pandas in a future version. Use pandas.concat instead.\n",
      "  Test = Test.append(pd.read_csv(\"C:/Users/India/Documents/Project2k23/Hard Disk failure/dataset/2019-07-07.csv\"))\n"
     ]
    },
    {
     "data": {
      "text/plain": [
       "(221277, 129)"
      ]
     },
     "execution_count": 63,
     "metadata": {},
     "output_type": "execute_result"
    }
   ],
   "source": [
    "Test = pd.read_csv(\"C:/Users/India/Documents/Project2k23/Hard Disk failure/dataset/2019-07-06.csv\")\n",
    "Test = Test.append(pd.read_csv(\"C:/Users/India/Documents/Project2k23/Hard Disk failure/dataset/2019-07-07.csv\"))\n",
    "\n",
    "Test.reset_index(inplace = True)\n",
    "Test.drop('index', axis = 1, inplace = True)\n",
    "Test.shape"
   ]
  },
  {
   "cell_type": "code",
   "execution_count": 64,
   "metadata": {
    "colab": {
     "base_uri": "https://localhost:8080/",
     "height": 67
    },
    "colab_type": "code",
    "id": "-6w9KFRDoO6m",
    "outputId": "38d06727-0d34-4ef1-d41c-79a9ac203e6f"
   },
   "outputs": [
    {
     "data": {
      "text/plain": [
       "0    221273\n",
       "1         4\n",
       "Name: failure, dtype: int64"
      ]
     },
     "execution_count": 64,
     "metadata": {},
     "output_type": "execute_result"
    }
   ],
   "source": [
    "Test.failure.value_counts()"
   ]
  },
  {
   "cell_type": "code",
   "execution_count": 65,
   "metadata": {
    "colab": {
     "base_uri": "https://localhost:8080/",
     "height": 34
    },
    "colab_type": "code",
    "id": "2ZAlaYf6KLyS",
    "outputId": "96213e48-9faf-46bc-cb25-8ff90930601c"
   },
   "outputs": [
    {
     "data": {
      "text/plain": [
       "(221277, 51)"
      ]
     },
     "execution_count": 65,
     "metadata": {},
     "output_type": "execute_result"
    }
   ],
   "source": [
    "Test.drop(Initial[Null], axis = 1, inplace = True)\n",
    "Test.drop(M_features[index], axis = 1, inplace = True)\n",
    "Test.shape"
   ]
  },
  {
   "cell_type": "code",
   "execution_count": 66,
   "metadata": {
    "colab": {
     "base_uri": "https://localhost:8080/",
     "height": 50
    },
    "colab_type": "code",
    "id": "k7bGNfZprH7P",
    "outputId": "38eff96d-cf8b-4ba3-f686-091b7ba4a75e"
   },
   "outputs": [
    {
     "name": "stdout",
     "output_type": "stream",
     "text": [
      "(221277, 51)\n",
      "(221277, 51)\n"
     ]
    }
   ],
   "source": [
    "print(Test.shape)\n",
    "Test.drop(np.where(Test['capacity_bytes'] == -1)[0], inplace = True)\n",
    "print(Test.shape)"
   ]
  },
  {
   "cell_type": "code",
   "execution_count": 67,
   "metadata": {
    "colab": {
     "base_uri": "https://localhost:8080/",
     "height": 67
    },
    "colab_type": "code",
    "id": "ds6QtRN0TV6L",
    "outputId": "59317a80-a149-45dd-9262-19f05f1f81fe"
   },
   "outputs": [
    {
     "data": {
      "text/plain": [
       "0    221273\n",
       "1         4\n",
       "Name: failure, dtype: int64"
      ]
     },
     "execution_count": 67,
     "metadata": {},
     "output_type": "execute_result"
    }
   ],
   "source": [
    "Test.failure.value_counts()"
   ]
  },
  {
   "cell_type": "code",
   "execution_count": 68,
   "metadata": {
    "colab": {},
    "colab_type": "code",
    "id": "W9w_Ez_nsw2u"
   },
   "outputs": [],
   "source": [
    "Test = Test.fillna(0)"
   ]
  },
  {
   "cell_type": "code",
   "execution_count": 69,
   "metadata": {
    "colab": {
     "base_uri": "https://localhost:8080/",
     "height": 34
    },
    "colab_type": "code",
    "id": "UofI_2KBnmvt",
    "outputId": "1cabbe0d-2d9a-49e2-f7cc-8bc11a40f28a"
   },
   "outputs": [
    {
     "data": {
      "text/plain": [
       "(221277, 57)"
      ]
     },
     "execution_count": 69,
     "metadata": {},
     "output_type": "execute_result"
    }
   ],
   "source": [
    "for i in cf:\n",
    "   n = re.findall('\\d+',i) \n",
    "   s = 'smart_' + ''.join(n) + '_sig'\n",
    "   Test[s] = Test[i].apply(Sigmoid)\n",
    "Test.shape"
   ]
  },
  {
   "cell_type": "code",
   "execution_count": 70,
   "metadata": {
    "colab": {},
    "colab_type": "code",
    "id": "GDmdT8u5nmhL"
   },
   "outputs": [],
   "source": [
    "Test_model = res_transform(Test['model'], TR, FA)"
   ]
  },
  {
   "cell_type": "code",
   "execution_count": 71,
   "metadata": {
    "colab": {},
    "colab_type": "code",
    "id": "r5-dHoXaobSS"
   },
   "outputs": [],
   "source": [
    "X_Test_orig = Test.drop(f, axis = 1).values\n",
    "Y_Test_orig = Test.failure.values"
   ]
  },
  {
   "cell_type": "code",
   "execution_count": 72,
   "metadata": {
    "colab": {
     "base_uri": "https://localhost:8080/",
     "height": 34
    },
    "colab_type": "code",
    "id": "-LbqqfhvobI8",
    "outputId": "dbd66104-2054-4314-f669-d24c14a8bd34"
   },
   "outputs": [
    {
     "data": {
      "text/plain": [
       "(221277, 54)"
      ]
     },
     "execution_count": 72,
     "metadata": {},
     "output_type": "execute_result"
    }
   ],
   "source": [
    "X_Test_orig = np.hstack((X_Test_orig, Test_model))\n",
    "X_Test_orig.shape"
   ]
  },
  {
   "cell_type": "code",
   "execution_count": 73,
   "metadata": {
    "colab": {},
    "colab_type": "code",
    "id": "7GuNFmP-uRoe"
   },
   "outputs": [],
   "source": [
    "x_test, y_test = X_Test_orig, Y_Test_orig"
   ]
  },
  {
   "cell_type": "code",
   "execution_count": 74,
   "metadata": {
    "colab": {
     "base_uri": "https://localhost:8080/",
     "height": 34
    },
    "colab_type": "code",
    "id": "mN7ts7SWFq8I",
    "outputId": "d86bcb22-61cd-4330-aae0-305261e8d1e2"
   },
   "outputs": [
    {
     "data": {
      "text/plain": [
       "(221277, 54)"
      ]
     },
     "execution_count": 74,
     "metadata": {},
     "output_type": "execute_result"
    }
   ],
   "source": [
    "x_test.shape"
   ]
  },
  {
   "cell_type": "code",
   "execution_count": 75,
   "metadata": {
    "colab": {
     "base_uri": "https://localhost:8080/",
     "height": 34
    },
    "colab_type": "code",
    "id": "dA8Unaz6F7f0",
    "outputId": "6e6967bb-abc9-406b-c13a-40e991e112f2"
   },
   "outputs": [
    {
     "data": {
      "text/plain": [
       "Counter({0: 221273, 1: 4})"
      ]
     },
     "execution_count": 75,
     "metadata": {},
     "output_type": "execute_result"
    }
   ],
   "source": [
    "(Counter(y_test))"
   ]
  },
  {
   "cell_type": "code",
   "execution_count": 76,
   "metadata": {
    "colab": {
     "base_uri": "https://localhost:8080/",
     "height": 34
    },
    "colab_type": "code",
    "id": "hcDmxKp4pFXX",
    "outputId": "15768392-a114-422d-828c-545e6f36de71"
   },
   "outputs": [
    {
     "data": {
      "text/plain": [
       "(221277, 54)"
      ]
     },
     "execution_count": 76,
     "metadata": {},
     "output_type": "execute_result"
    }
   ],
   "source": [
    "X_test_standard = sc.transform(x_test)\n",
    "X_test_standard.shape"
   ]
  },
  {
   "cell_type": "markdown",
   "metadata": {
    "colab_type": "text",
    "id": "0XaXwc65r-VD"
   },
   "source": [
    "# Modelling"
   ]
  },
  {
   "cell_type": "code",
   "execution_count": 1,
   "metadata": {
    "colab": {},
    "colab_type": "code",
    "id": "Hh6aUpAKrgDH"
   },
   "outputs": [],
   "source": [
    "import warnings\n",
    "warnings.filterwarnings(\"ignore\")\n",
    "from random import sample, choice\n",
    "from tqdm import tqdm\n",
    "\n",
    "from sklearn.linear_model import LogisticRegression\n",
    "from sklearn.metrics import roc_auc_score, confusion_matrix, precision_score, recall_score, roc_curve, auc, classification_report, f1_score, precision_recall_curve\n",
    "from scipy.stats import randint as sp_randint, uniform\n",
    "from sklearn.ensemble import RandomForestClassifier\n",
    "from sklearn.model_selection import RandomizedSearchCV, StratifiedKFold\n",
    "from sklearn.calibration import CalibratedClassifierCV\n",
    "from sklearn.ensemble import StackingClassifier\n",
    "from sklearn.linear_model import SGDClassifier\n",
    "from sklearn.kernel_approximation import Nystroem\n",
    "from sklearn.svm import LinearSVC\n",
    "\n",
    "balance = [{0:1,1:10}, {0:1,1:100}, {0:1,1:1000}, {0:1,1:10000}, {0:10,1:100000}]"
   ]
  },
  {
   "cell_type": "code",
   "execution_count": 78,
   "metadata": {
    "colab": {},
    "colab_type": "code",
    "id": "3drECh-zrksQ"
   },
   "outputs": [],
   "source": [
    "def plot_matrices(Y, Y_Pred):\n",
    "    C = confusion_matrix(Y, Y_Pred) \n",
    "    \n",
    "    A =(((C.T)/(C.sum(axis=1))).T) \n",
    "    \n",
    "    B =(C/C.sum(axis=0)) \n",
    "    plt.figure(figsize=(20,4))\n",
    "    \n",
    "    labels = [0,1]\n",
    "    cmap=sns.light_palette(\"blue\")\n",
    "    plt.subplot(1, 3, 1)\n",
    "    sns.heatmap(C, annot=True, cmap=cmap, fmt=\".3f\", xticklabels=labels, yticklabels=labels)\n",
    "    plt.xlabel('Predicted Class')\n",
    "    plt.ylabel('Original Class')\n",
    "    plt.title(\"Confusion matrix\")\n",
    "    \n",
    "    plt.subplot(1, 3, 2)\n",
    "    sns.heatmap(B, annot=True, cmap=cmap, fmt=\".3f\", xticklabels=labels, yticklabels=labels)\n",
    "    plt.xlabel('Predicted Class')\n",
    "    plt.ylabel('Original Class')\n",
    "    plt.title(\"Precision matrix\")\n",
    "    print(\"Sum of columns in precision matrix\",B.sum(axis=0))\n",
    "    \n",
    "    plt.subplot(1, 3, 3)\n",
    "    sns.heatmap(A, annot=True, cmap=cmap, fmt=\".3f\", xticklabels=labels, yticklabels=labels)\n",
    "    plt.xlabel('Predicted Class')\n",
    "    plt.ylabel('Original Class')\n",
    "    plt.title(\"Recall matrix\")\n",
    "    print(\"Sum of rows in recall matrix\",A.sum(axis=1))\n",
    "    \n",
    "    plt.show()\n"
   ]
  },
  {
   "cell_type": "code",
   "execution_count": 79,
   "metadata": {
    "colab": {},
    "colab_type": "code",
    "id": "fg3-Y1ZOroMB"
   },
   "outputs": [],
   "source": [
    "def Metrics(model, X, Y, threshold):\n",
    "    y_pred_prob = model.predict_proba(X)[:, 1]\n",
    "    y_pred = model.predict(X)\n",
    "\n",
    "    print(\"The Prescision Score: \", precision_score(Y, predict_with_best_t(y_pred_prob, threshold)))\n",
    "    print(\"The Recall Score: \", recall_score(Y, predict_with_best_t(y_pred_prob, threshold)))\n",
    "    print(\"The ROC Score: \", roc_auc_score(Y, y_pred_prob))\n",
    "    print(\"The F1 Score: \", f1_score(Y, predict_with_best_t(y_pred_prob, threshold)))\n",
    "    print('*'*100)\n",
    "    print(classification_report(Y, predict_with_best_t(y_pred_prob, threshold)))\n",
    "    print('*'*100)\n",
    "    plot_matrices(Y, predict_with_best_t(y_pred_prob, threshold))"
   ]
  },
  {
   "cell_type": "code",
   "execution_count": 80,
   "metadata": {
    "colab": {},
    "colab_type": "code",
    "id": "TRwipCbh6sZn"
   },
   "outputs": [],
   "source": [
    "def to_labels(pos_probs, threshold):\n",
    "\treturn (pos_probs >= threshold).astype('int')"
   ]
  },
  {
   "cell_type": "code",
   "execution_count": 81,
   "metadata": {
    "colab": {},
    "colab_type": "code",
    "id": "cHwuTub86tb-"
   },
   "outputs": [],
   "source": [
    "def find_best_threshold(threshould, fpr, tpr):    \n",
    "    t = threshould[np.argmax(np.sqrt(tpr*(1-fpr)))]\n",
    "    print(\"the maximum value of sqrt(tpr*(1-fpr))\", max(np.sqrt(tpr*(1-fpr))), \"for threshold\", np.round(t,3))\n",
    "    return t\n",
    "\n",
    "def predict_with_best_t(proba, threshould): \n",
    "    predictions = []\n",
    "    for i in proba:\n",
    "        if i>=threshould:\n",
    "            predictions.append(1)\n",
    "        else:\n",
    "            predictions.append(0)\n",
    "    return predictions\n",
    "\n",
    "def BEST(trainscores, testscores, TR, Models): \n",
    "  ind = np.argmax(testscores)\n",
    "  test_score = testscores[ind]\n",
    "  train_score = trainscores[ind]\n",
    "  threshold = TR[ind]\n",
    "  best_est = Models[ind]\n",
    "  return test_score, train_score, threshold, best_est"
   ]
  },
  {
   "cell_type": "markdown",
   "metadata": {
    "colab_type": "text",
    "id": "BDFbUjuuYUwN"
   },
   "source": [
    "# XGBOOST"
   ]
  },
  {
   "cell_type": "code",
   "execution_count": 3,
   "metadata": {
    "colab": {
     "base_uri": "https://localhost:8080/",
     "height": 1000
    },
    "colab_type": "code",
    "id": "gzPOE6iUYUwX",
    "outputId": "8b49c2d1-26c0-4d16-c891-9c708272d26c"
   },
   "outputs": [
    {
     "ename": "NameError",
     "evalue": "name 'np' is not defined",
     "output_type": "error",
     "traceback": [
      "\u001b[1;31m---------------------------------------------------------------------------\u001b[0m",
      "\u001b[1;31mNameError\u001b[0m                                 Traceback (most recent call last)",
      "Cell \u001b[1;32mIn[3], line 3\u001b[0m\n\u001b[0;32m      1\u001b[0m \u001b[38;5;28;01mfrom\u001b[39;00m \u001b[38;5;21;01mxgboost\u001b[39;00m \u001b[38;5;28;01mimport\u001b[39;00m XGBClassifier\n\u001b[0;32m      2\u001b[0m param \u001b[38;5;241m=\u001b[39m {\n\u001b[1;32m----> 3\u001b[0m     \u001b[38;5;124m'\u001b[39m\u001b[38;5;124mlearning_rate\u001b[39m\u001b[38;5;124m'\u001b[39m: \u001b[38;5;28mlist\u001b[39m(\u001b[43mnp\u001b[49m\u001b[38;5;241m.\u001b[39msort(np\u001b[38;5;241m.\u001b[39mrandom\u001b[38;5;241m.\u001b[39muniform(\u001b[38;5;241m0\u001b[39m, \u001b[38;5;241m0.2\u001b[39m, \u001b[38;5;241m10\u001b[39m))),\n\u001b[0;32m      4\u001b[0m     \u001b[38;5;124m'\u001b[39m\u001b[38;5;124mmax_depth\u001b[39m\u001b[38;5;124m'\u001b[39m: \u001b[38;5;28mlist\u001b[39m(np\u001b[38;5;241m.\u001b[39msort(np\u001b[38;5;241m.\u001b[39mrandom\u001b[38;5;241m.\u001b[39mrandint(\u001b[38;5;241m10\u001b[39m, \u001b[38;5;241m100\u001b[39m, \u001b[38;5;241m10\u001b[39m))),\n\u001b[0;32m      5\u001b[0m     \u001b[38;5;124m'\u001b[39m\u001b[38;5;124mcolsample_bytree\u001b[39m\u001b[38;5;124m'\u001b[39m: \u001b[38;5;28mlist\u001b[39m(np\u001b[38;5;241m.\u001b[39msort(np\u001b[38;5;241m.\u001b[39mrandom\u001b[38;5;241m.\u001b[39muniform(\u001b[38;5;241m0\u001b[39m, \u001b[38;5;241m1\u001b[39m, \u001b[38;5;241m10\u001b[39m))),\n\u001b[0;32m      6\u001b[0m     \u001b[38;5;124m'\u001b[39m\u001b[38;5;124msubsample\u001b[39m\u001b[38;5;124m'\u001b[39m: \u001b[38;5;28mlist\u001b[39m(np\u001b[38;5;241m.\u001b[39msort(np\u001b[38;5;241m.\u001b[39mrandom\u001b[38;5;241m.\u001b[39muniform(\u001b[38;5;241m0\u001b[39m, \u001b[38;5;241m1\u001b[39m, \u001b[38;5;241m10\u001b[39m))),\n\u001b[0;32m      7\u001b[0m     \u001b[38;5;124m'\u001b[39m\u001b[38;5;124mnum_leaves\u001b[39m\u001b[38;5;124m'\u001b[39m: \u001b[38;5;28mlist\u001b[39m(np\u001b[38;5;241m.\u001b[39msort(np\u001b[38;5;241m.\u001b[39mrandom\u001b[38;5;241m.\u001b[39mrandint(\u001b[38;5;241m100\u001b[39m, \u001b[38;5;241m500\u001b[39m, \u001b[38;5;241m10\u001b[39m))),\n\u001b[0;32m      8\u001b[0m     \u001b[38;5;124m'\u001b[39m\u001b[38;5;124mreg_lambda\u001b[39m\u001b[38;5;124m'\u001b[39m: \u001b[38;5;28mlist\u001b[39m(np\u001b[38;5;241m.\u001b[39msort(np\u001b[38;5;241m.\u001b[39mrandom\u001b[38;5;241m.\u001b[39muniform(\u001b[38;5;241m0\u001b[39m, \u001b[38;5;241m1\u001b[39m, \u001b[38;5;241m10\u001b[39m))),\n\u001b[0;32m      9\u001b[0m     \u001b[38;5;124m'\u001b[39m\u001b[38;5;124mcolsample_bylevel\u001b[39m\u001b[38;5;124m'\u001b[39m: \u001b[38;5;28mlist\u001b[39m(np\u001b[38;5;241m.\u001b[39msort(np\u001b[38;5;241m.\u001b[39mrandom\u001b[38;5;241m.\u001b[39muniform(\u001b[38;5;241m0\u001b[39m, \u001b[38;5;241m1\u001b[39m, \u001b[38;5;241m10\u001b[39m))),\n\u001b[0;32m     10\u001b[0m     \u001b[38;5;124m'\u001b[39m\u001b[38;5;124mcolsample_bynode\u001b[39m\u001b[38;5;124m'\u001b[39m: \u001b[38;5;28mlist\u001b[39m(np\u001b[38;5;241m.\u001b[39msort(np\u001b[38;5;241m.\u001b[39mrandom\u001b[38;5;241m.\u001b[39muniform(\u001b[38;5;241m0\u001b[39m, \u001b[38;5;241m1\u001b[39m, \u001b[38;5;241m10\u001b[39m))),\n\u001b[0;32m     11\u001b[0m     \u001b[38;5;124m'\u001b[39m\u001b[38;5;124mgamma\u001b[39m\u001b[38;5;124m'\u001b[39m: \u001b[38;5;28mlist\u001b[39m(np\u001b[38;5;241m.\u001b[39msort(np\u001b[38;5;241m.\u001b[39mrandom\u001b[38;5;241m.\u001b[39muniform(\u001b[38;5;241m0\u001b[39m, \u001b[38;5;241m1\u001b[39m, \u001b[38;5;241m10\u001b[39m)))\n\u001b[0;32m     12\u001b[0m }\n\u001b[0;32m     13\u001b[0m GBDT \u001b[38;5;241m=\u001b[39m XGBClassifier(n_jobs\u001b[38;5;241m=\u001b[39m\u001b[38;5;241m-\u001b[39m\u001b[38;5;241m1\u001b[39m, n_estimators\u001b[38;5;241m=\u001b[39m\u001b[38;5;241m120\u001b[39m)\n\u001b[0;32m     14\u001b[0m param\n",
      "\u001b[1;31mNameError\u001b[0m: name 'np' is not defined"
     ]
    }
   ],
   "source": [
    "from xgboost import XGBClassifier\n",
    "param = {\n",
    "    'learning_rate': list(np.sort(np.random.uniform(0, 0.2, 10))),\n",
    "    'max_depth': list(np.sort(np.random.randint(10, 100, 10))),\n",
    "    'colsample_bytree': list(np.sort(np.random.uniform(0, 1, 10))),\n",
    "    'subsample': list(np.sort(np.random.uniform(0, 1, 10))),\n",
    "    'num_leaves': list(np.sort(np.random.randint(100, 500, 10))),\n",
    "    'reg_lambda': list(np.sort(np.random.uniform(0, 1, 10))),\n",
    "    'colsample_bylevel': list(np.sort(np.random.uniform(0, 1, 10))),\n",
    "    'colsample_bynode': list(np.sort(np.random.uniform(0, 1, 10))),\n",
    "    'gamma': list(np.sort(np.random.uniform(0, 1, 10)))\n",
    "}\n",
    "GBDT = XGBClassifier(n_jobs=-1, n_estimators=120)\n",
    "param"
   ]
  },
  {
   "cell_type": "code",
   "execution_count": 1,
   "metadata": {
    "colab": {
     "base_uri": "https://localhost:8080/",
     "height": 1000
    },
    "colab_type": "code",
    "id": "KdLnV5o9YUwa",
    "outputId": "633e3c96-3e76-48cf-b950-8b367fcb6f35"
   },
   "outputs": [
    {
     "ename": "NameError",
     "evalue": "name 'tqdm' is not defined",
     "output_type": "error",
     "traceback": [
      "\u001b[1;31m---------------------------------------------------------------------------\u001b[0m",
      "\u001b[1;31mNameError\u001b[0m                                 Traceback (most recent call last)",
      "Cell \u001b[1;32mIn[1], line 5\u001b[0m\n\u001b[0;32m      3\u001b[0m Models \u001b[38;5;241m=\u001b[39m [] \n\u001b[0;32m      4\u001b[0m TR \u001b[38;5;241m=\u001b[39m []\n\u001b[1;32m----> 5\u001b[0m \u001b[38;5;28;01mfor\u001b[39;00m \u001b[38;5;28miter\u001b[39m \u001b[38;5;129;01min\u001b[39;00m \u001b[43mtqdm\u001b[49m(\u001b[38;5;28mrange\u001b[39m(\u001b[38;5;241m0\u001b[39m, \u001b[38;5;241m10\u001b[39m)):\n\u001b[0;32m      6\u001b[0m   Thresholds \u001b[38;5;241m=\u001b[39m []\n\u001b[0;32m      7\u001b[0m   trainscores_folds \u001b[38;5;241m=\u001b[39m []\n",
      "\u001b[1;31mNameError\u001b[0m: name 'tqdm' is not defined"
     ]
    }
   ],
   "source": [
    "trainscores = [] \n",
    "testscores  = [] \n",
    "Models = [] \n",
    "TR = []\n",
    "for iter in tqdm(range(0, 10)):\n",
    "  Thresholds = []\n",
    "  trainscores_folds = []\n",
    "  testscores_folds  = []\n",
    "  GBDT = XGBClassifier(n_jobs = -1, n_estimators = 120)\n",
    "  for key, value in param.items(): \n",
    "    if isinstance(value, list):\n",
    "      if (key == \"learning_rate\"):\n",
    "        GBDT.learning_rate = value[iter]    \n",
    "      if (key == \"max_depth\"):\n",
    "        GBDT.max_depth = value[iter]\n",
    "      if (key ==  \"colsample_bytree\"):\n",
    "        GBDT.colsample_bytree= value[iter]\n",
    "      if (key == 'subsample'):\n",
    "        GBDT.subsample = value[iter]\n",
    "      if (key == \"num_leaves\"):\n",
    "        GBDT.num_leaves = value[iter]\n",
    "      if (key == \"reg_lambda\"):\n",
    "        GBDT.reg_lambda = value[iter]\n",
    "      if (key == 'colsample_bylevel'):\n",
    "        GBDT.colsample_bylevel = value[iter]\n",
    "      if (key == \"colsample_bynode\"):\n",
    "        GBDT.colsample_bynode = value[iter]\n",
    "      if (key == \"gamma\"):\n",
    "        GBDT.gamma = value[iter]\n",
    "\n",
    "  Models.append(GBDT)\n",
    "  ss = StratifiedKFold(n_splits = 10, shuffle = True, random_state = 1) \n",
    "  \n",
    "  for train, test in ss.split(X_Train_orig, Y_Train_orig): \n",
    "      print()\n",
    "      X_train = np.zeros(len(train))\n",
    "      Y_train = np.zeros(len(train))\n",
    "      X_test = np.zeros(len(test))\n",
    "      Y_test = np.zeros(len(test))\n",
    "\n",
    "      X_train = X_Train_orig[train]\n",
    "      Y_train = Y_Train_orig[train]\n",
    "      X_test  = X_Train_orig[test]\n",
    "      Y_test  = Y_Train_orig[test]\n",
    "      print(\"B\", Counter(Y_train)) \n",
    "\n",
    "      X_train, Y_train = pipeline.fit_resample(X_train, Y_train) \n",
    "      print(\"A\", Counter(Y_train)) \n",
    "      sc = StandardScaler()\n",
    "      sc.fit(X_train)\n",
    "      X_train = sc.transform(X_train)\n",
    "      X_test = sc.transform(X_test)\n",
    "\n",
    "      GBDT.fit(X_train,Y_train)\n",
    "\n",
    "      Y_predicted_test = GBDT.predict_proba(X_test)[:, 1]\n",
    "\n",
    "      Y_predicted_train = GBDT.predict_proba(X_train)[:, 1]\n",
    "\n",
    "      train_fpr, train_tpr, tr_thresholds = roc_curve(Y_train, Y_predicted_train)\n",
    "      test_fpr, test_tpr, te_thresholds = roc_curve(Y_test, Y_predicted_test)\n",
    "      thresholds = np.linspace(0.0, 1.0, num=len(te_thresholds))\n",
    "      best_t = find_best_threshold(te_thresholds, test_fpr, test_tpr) \n",
    "      Thresholds.append(best_t)\n",
    "\n",
    "      print('Test', f1_score(Y_test, predict_with_best_t(Y_predicted_test, best_t)))\n",
    "      testscores_folds.append(f1_score(Y_test, predict_with_best_t(Y_predicted_test, best_t)))\n",
    "\n",
    "      print('Train', f1_score(Y_train, predict_with_best_t(Y_predicted_train, best_t)))\n",
    "      trainscores_folds.append(f1_score(Y_train, predict_with_best_t(Y_predicted_train, best_t)))\n",
    "\n",
    "  TR.append(Thresholds[np.argmax(testscores_folds)])    \n",
    "  trainscores.append(np.mean(np.array(trainscores_folds))) \n",
    "  testscores.append(np.mean(np.array(testscores_folds))) \n",
    "  print() "
   ]
  },
  {
   "cell_type": "code",
   "execution_count": 85,
   "metadata": {
    "colab": {
     "base_uri": "https://localhost:8080/",
     "height": 70
    },
    "colab_type": "code",
    "id": "i-RoYrXUYUwe",
    "outputId": "8dd733da-40b5-4ba7-8877-41af2465e578"
   },
   "outputs": [
    {
     "name": "stdout",
     "output_type": "stream",
     "text": [
      "[0.8880565452843665, 0.8941693795568171, 0.9176272901091815, 0.9080058283670471, 0.9780189281450455, 0.9339575314245602, 0.915921699915421, 0.9431305632770872, 0.91128918389517, 0.951509019546257]\n",
      "[0.08649197531924652, 0.0933359602558796, 0.10064169097252693, 0.05995783821074371, 0.15174849933349405, 0.07308829541420431, 0.03048840016482156, 0.12795542509866736, 0.0530876444786879, 0.12997904863148962]\n"
     ]
    }
   ],
   "source": [
    "print(trainscores)\n",
    "print(testscores)"
   ]
  },
  {
   "cell_type": "code",
   "execution_count": 86,
   "metadata": {
    "colab": {
     "base_uri": "https://localhost:8080/",
     "height": 268
    },
    "colab_type": "code",
    "id": "wB8LXrB2YUwi",
    "outputId": "0b7fce9a-ac5d-4242-aaa0-d518176cca4a"
   },
   "outputs": [
    {
     "data": {
      "image/png": "[encoded data removed]",
      "text/plain": [
       "<Figure size 640x480 with 1 Axes>"
      ]
     },
     "metadata": {},
     "output_type": "display_data"
    }
   ],
   "source": [
    "plt.plot(trainscores,label = \"Train\")\n",
    "plt.plot(testscores, label = 'Val')\n",
    "plt.legend()\n",
    "plt.grid(True)\n",
    "plt.show()"
   ]
  },
  {
   "cell_type": "code",
   "execution_count": 87,
   "metadata": {},
   "outputs": [
    {
     "data": {
      "text/html": [
       "<style>#sk-container-id-1 {color: black;background-color: white;}#sk-container-id-1 pre{padding: 0;}#sk-container-id-1 div.sk-toggleable {background-color: white;}#sk-container-id-1 label.sk-toggleable__label {cursor: pointer;display: block;width: 100%;margin-bottom: 0;padding: 0.3em;box-sizing: border-box;text-align: center;}#sk-container-id-1 label.sk-toggleable__label-arrow:before {content: \"▸\";float: left;margin-right: 0.25em;color: #696969;}#sk-container-id-1 label.sk-toggleable__label-arrow:hover:before {color: black;}#sk-container-id-1 div.sk-estimator:hover label.sk-toggleable__label-arrow:before {color: black;}#sk-container-id-1 div.sk-toggleable__content {max-height: 0;max-width: 0;overflow: hidden;text-align: left;background-color: #f0f8ff;}#sk-container-id-1 div.sk-toggleable__content pre {margin: 0.2em;color: black;border-radius: 0.25em;background-color: #f0f8ff;}#sk-container-id-1 input.sk-toggleable__control:checked~div.sk-toggleable__content {max-height: 200px;max-width: 100%;overflow: auto;}#sk-container-id-1 input.sk-toggleable__control:checked~label.sk-toggleable__label-arrow:before {content: \"▾\";}#sk-container-id-1 div.sk-estimator input.sk-toggleable__control:checked~label.sk-toggleable__label {background-color: #d4ebff;}#sk-container-id-1 div.sk-label input.sk-toggleable__control:checked~label.sk-toggleable__label {background-color: #d4ebff;}#sk-container-id-1 input.sk-hidden--visually {border: 0;clip: rect(1px 1px 1px 1px);clip: rect(1px, 1px, 1px, 1px);height: 1px;margin: -1px;overflow: hidden;padding: 0;position: absolute;width: 1px;}#sk-container-id-1 div.sk-estimator {font-family: monospace;background-color: #f0f8ff;border: 1px dotted black;border-radius: 0.25em;box-sizing: border-box;margin-bottom: 0.5em;}#sk-container-id-1 div.sk-estimator:hover {background-color: #d4ebff;}#sk-container-id-1 div.sk-parallel-item::after {content: \"\";width: 100%;border-bottom: 1px solid gray;flex-grow: 1;}#sk-container-id-1 div.sk-label:hover label.sk-toggleable__label {background-color: #d4ebff;}#sk-container-id-1 div.sk-serial::before {content: \"\";position: absolute;border-left: 1px solid gray;box-sizing: border-box;top: 0;bottom: 0;left: 50%;z-index: 0;}#sk-container-id-1 div.sk-serial {display: flex;flex-direction: column;align-items: center;background-color: white;padding-right: 0.2em;padding-left: 0.2em;position: relative;}#sk-container-id-1 div.sk-item {position: relative;z-index: 1;}#sk-container-id-1 div.sk-parallel {display: flex;align-items: stretch;justify-content: center;background-color: white;position: relative;}#sk-container-id-1 div.sk-item::before, #sk-container-id-1 div.sk-parallel-item::before {content: \"\";position: absolute;border-left: 1px solid gray;box-sizing: border-box;top: 0;bottom: 0;left: 50%;z-index: -1;}#sk-container-id-1 div.sk-parallel-item {display: flex;flex-direction: column;z-index: 1;position: relative;background-color: white;}#sk-container-id-1 div.sk-parallel-item:first-child::after {align-self: flex-end;width: 50%;}#sk-container-id-1 div.sk-parallel-item:last-child::after {align-self: flex-start;width: 50%;}#sk-container-id-1 div.sk-parallel-item:only-child::after {width: 0;}#sk-container-id-1 div.sk-dashed-wrapped {border: 1px dashed gray;margin: 0 0.4em 0.5em 0.4em;box-sizing: border-box;padding-bottom: 0.4em;background-color: white;}#sk-container-id-1 div.sk-label label {font-family: monospace;font-weight: bold;display: inline-block;line-height: 1.2em;}#sk-container-id-1 div.sk-label-container {text-align: center;}#sk-container-id-1 div.sk-container {/* jupyter's `normalize.less` sets `[hidden] { display: none; }` but bootstrap.min.css set `[hidden] { display: none !important; }` so we also need the `!important` here to be able to override the default hidden behavior on the sphinx rendered scikit-learn.org. See: https://github.com/scikit-learn/scikit-learn/issues/21755 */display: inline-block !important;position: relative;}#sk-container-id-1 div.sk-text-repr-fallback {display: none;}</style><div id=\"sk-container-id-1\" class=\"sk-top-container\"><div class=\"sk-text-repr-fallback\"><pre>CalibratedClassifierCV(estimator=XGBClassifier(base_score=None, booster=None,\n",
       "                                               callbacks=None,\n",
       "                                               colsample_bylevel=0.6695408204451374,\n",
       "                                               colsample_bynode=0.9900323949130462,\n",
       "                                               colsample_bytree=0.8835226292267014,\n",
       "                                               early_stopping_rounds=None,\n",
       "                                               enable_categorical=False,\n",
       "                                               eval_metric=None,\n",
       "                                               feature_types=None,\n",
       "                                               gamma=0.9289093292757338,\n",
       "                                               gpu_id=None, grow_policy=None,\n",
       "                                               importance_type=None,\n",
       "                                               interaction_constraints=None,\n",
       "                                               learning_rate=0.19269930910987265,\n",
       "                                               max_bin=None,\n",
       "                                               max_cat_threshold=None,\n",
       "                                               max_cat_to_onehot=None,\n",
       "                                               max_delta_step=None,\n",
       "                                               max_depth=93, max_leaves=None,\n",
       "                                               min_child_weight=None,\n",
       "                                               missing=nan,\n",
       "                                               monotone_constraints=None,\n",
       "                                               n_estimators=120, n_jobs=-1,\n",
       "                                               num_parallel_tree=None,\n",
       "                                               predictor=None,\n",
       "                                               random_state=None, ...),\n",
       "                       method=&#x27;isotonic&#x27;)</pre><b>In a Jupyter environment, please rerun this cell to show the HTML representation or trust the notebook. <br />On GitHub, the HTML representation is unable to render, please try loading this page with nbviewer.org.</b></div><div class=\"sk-container\" hidden><div class=\"sk-item sk-dashed-wrapped\"><div class=\"sk-label-container\"><div class=\"sk-label sk-toggleable\"><input class=\"sk-toggleable__control sk-hidden--visually\" id=\"sk-estimator-id-1\" type=\"checkbox\" ><label for=\"sk-estimator-id-1\" class=\"sk-toggleable__label sk-toggleable__label-arrow\">CalibratedClassifierCV</label><div class=\"sk-toggleable__content\"><pre>CalibratedClassifierCV(estimator=XGBClassifier(base_score=None, booster=None,\n",
       "                                               callbacks=None,\n",
       "                                               colsample_bylevel=0.6695408204451374,\n",
       "                                               colsample_bynode=0.9900323949130462,\n",
       "                                               colsample_bytree=0.8835226292267014,\n",
       "                                               early_stopping_rounds=None,\n",
       "                                               enable_categorical=False,\n",
       "                                               eval_metric=None,\n",
       "                                               feature_types=None,\n",
       "                                               gamma=0.9289093292757338,\n",
       "                                               gpu_id=None, grow_policy=None,\n",
       "                                               importance_type=None,\n",
       "                                               interaction_constraints=None,\n",
       "                                               learning_rate=0.19269930910987265,\n",
       "                                               max_bin=None,\n",
       "                                               max_cat_threshold=None,\n",
       "                                               max_cat_to_onehot=None,\n",
       "                                               max_delta_step=None,\n",
       "                                               max_depth=93, max_leaves=None,\n",
       "                                               min_child_weight=None,\n",
       "                                               missing=nan,\n",
       "                                               monotone_constraints=None,\n",
       "                                               n_estimators=120, n_jobs=-1,\n",
       "                                               num_parallel_tree=None,\n",
       "                                               predictor=None,\n",
       "                                               random_state=None, ...),\n",
       "                       method=&#x27;isotonic&#x27;)</pre></div></div></div><div class=\"sk-parallel\"><div class=\"sk-parallel-item\"><div class=\"sk-item\"><div class=\"sk-label-container\"><div class=\"sk-label sk-toggleable\"><input class=\"sk-toggleable__control sk-hidden--visually\" id=\"sk-estimator-id-2\" type=\"checkbox\" ><label for=\"sk-estimator-id-2\" class=\"sk-toggleable__label sk-toggleable__label-arrow\">estimator: XGBClassifier</label><div class=\"sk-toggleable__content\"><pre>XGBClassifier(base_score=None, booster=None, callbacks=None,\n",
       "              colsample_bylevel=0.6695408204451374,\n",
       "              colsample_bynode=0.9900323949130462,\n",
       "              colsample_bytree=0.8835226292267014, early_stopping_rounds=None,\n",
       "              enable_categorical=False, eval_metric=None, feature_types=None,\n",
       "              gamma=0.9289093292757338, gpu_id=None, grow_policy=None,\n",
       "              importance_type=None, interaction_constraints=None,\n",
       "              learning_rate=0.19269930910987265, max_bin=None,\n",
       "              max_cat_threshold=None, max_cat_to_onehot=None,\n",
       "              max_delta_step=None, max_depth=93, max_leaves=None,\n",
       "              min_child_weight=None, missing=nan, monotone_constraints=None,\n",
       "              n_estimators=120, n_jobs=-1, num_parallel_tree=None,\n",
       "              predictor=None, random_state=None, ...)</pre></div></div></div><div class=\"sk-serial\"><div class=\"sk-item\"><div class=\"sk-estimator sk-toggleable\"><input class=\"sk-toggleable__control sk-hidden--visually\" id=\"sk-estimator-id-3\" type=\"checkbox\" ><label for=\"sk-estimator-id-3\" class=\"sk-toggleable__label sk-toggleable__label-arrow\">XGBClassifier</label><div class=\"sk-toggleable__content\"><pre>XGBClassifier(base_score=None, booster=None, callbacks=None,\n",
       "              colsample_bylevel=0.6695408204451374,\n",
       "              colsample_bynode=0.9900323949130462,\n",
       "              colsample_bytree=0.8835226292267014, early_stopping_rounds=None,\n",
       "              enable_categorical=False, eval_metric=None, feature_types=None,\n",
       "              gamma=0.9289093292757338, gpu_id=None, grow_policy=None,\n",
       "              importance_type=None, interaction_constraints=None,\n",
       "              learning_rate=0.19269930910987265, max_bin=None,\n",
       "              max_cat_threshold=None, max_cat_to_onehot=None,\n",
       "              max_delta_step=None, max_depth=93, max_leaves=None,\n",
       "              min_child_weight=None, missing=nan, monotone_constraints=None,\n",
       "              n_estimators=120, n_jobs=-1, num_parallel_tree=None,\n",
       "              predictor=None, random_state=None, ...)</pre></div></div></div></div></div></div></div></div></div></div>"
      ],
      "text/plain": [
       "CalibratedClassifierCV(estimator=XGBClassifier(base_score=None, booster=None,\n",
       "                                               callbacks=None,\n",
       "                                               colsample_bylevel=0.6695408204451374,\n",
       "                                               colsample_bynode=0.9900323949130462,\n",
       "                                               colsample_bytree=0.8835226292267014,\n",
       "                                               early_stopping_rounds=None,\n",
       "                                               enable_categorical=False,\n",
       "                                               eval_metric=None,\n",
       "                                               feature_types=None,\n",
       "                                               gamma=0.9289093292757338,\n",
       "                                               gpu_id=None, grow_policy=None,\n",
       "                                               importance_type=None,\n",
       "                                               interaction_constraints=None,\n",
       "                                               learning_rate=0.19269930910987265,\n",
       "                                               max_bin=None,\n",
       "                                               max_cat_threshold=None,\n",
       "                                               max_cat_to_onehot=None,\n",
       "                                               max_delta_step=None,\n",
       "                                               max_depth=93, max_leaves=None,\n",
       "                                               min_child_weight=None,\n",
       "                                               missing=nan,\n",
       "                                               monotone_constraints=None,\n",
       "                                               n_estimators=120, n_jobs=-1,\n",
       "                                               num_parallel_tree=None,\n",
       "                                               predictor=None,\n",
       "                                               random_state=None, ...),\n",
       "                       method='isotonic')"
      ]
     },
     "execution_count": 87,
     "metadata": {},
     "output_type": "execute_result"
    }
   ],
   "source": [
    "sig_clf = CalibratedClassifierCV(GBDT, method=\"isotonic\")\n",
    "sig_clf.fit(X_train_standard, y_train_sam)"
   ]
  },
  {
   "cell_type": "code",
   "execution_count": 88,
   "metadata": {
    "colab": {
     "base_uri": "https://localhost:8080/",
     "height": 1000
    },
    "colab_type": "code",
    "id": "ZtMMBDA3YUw0",
    "outputId": "5ba4d104-53ea-43ed-f6bb-1c3547911770"
   },
   "outputs": [
    {
     "name": "stdout",
     "output_type": "stream",
     "text": [
      "The Prescision Score:  0.9908527483550471\n",
      "The Recall Score:  0.9999819225925413\n",
      "The ROC Score:  0.9999982878803542\n",
      "The F1 Score:  0.9953964040967506\n",
      "****************************************************************************************************\n",
      "              precision    recall  f1-score   support\n",
      "\n",
      "           0       1.00      0.99      1.00    207441\n",
      "           1       0.99      1.00      1.00    165953\n",
      "\n",
      "    accuracy                           1.00    373394\n",
      "   macro avg       1.00      1.00      1.00    373394\n",
      "weighted avg       1.00      1.00      1.00    373394\n",
      "\n",
      "****************************************************************************************************\n",
      "Sum of columns in precision matrix [1. 1.]\n",
      "Sum of rows in recall matrix [1. 1.]\n"
     ]
    },
    {
     "data": {
      "image/png": "[encoded data removed]",
      "text/plain": [
       "<Figure size 2000x400 with 6 Axes>"
      ]
     },
     "metadata": {},
     "output_type": "display_data"
    },
    {
     "name": "stdout",
     "output_type": "stream",
     "text": [
      "====================================================================================================\n",
      "====================================================================================================\n",
      "The Prescision Score:  0.0011507479861910242\n",
      "The Recall Score:  0.4\n",
      "The ROC Score:  0.8256548191709916\n",
      "The F1 Score:  0.0022948938611589216\n",
      "****************************************************************************************************\n",
      "              precision    recall  f1-score   support\n",
      "\n",
      "           0       1.00      0.99      1.00    221397\n",
      "           1       0.00      0.40      0.00         5\n",
      "\n",
      "    accuracy                           0.99    221402\n",
      "   macro avg       0.50      0.70      0.50    221402\n",
      "weighted avg       1.00      0.99      1.00    221402\n",
      "\n",
      "****************************************************************************************************\n",
      "Sum of columns in precision matrix [1. 1.]\n",
      "Sum of rows in recall matrix [1. 1.]\n"
     ]
    },
    {
     "data": {
      "image/png": "[encoded data removed]",
      "text/plain": [
       "<Figure size 2000x400 with 6 Axes>"
      ]
     },
     "metadata": {},
     "output_type": "display_data"
    }
   ],
   "source": [
    "Metrics(sig_clf, X_train_standard, y_train_sam, best_t)\n",
    "print('='*100)\n",
    "print('='*100)\n",
    "Metrics(sig_clf, X_val_standard, y_val, best_t)"
   ]
  },
  {
   "cell_type": "code",
   "execution_count": 89,
   "metadata": {
    "colab": {
     "base_uri": "https://localhost:8080/",
     "height": 730
    },
    "colab_type": "code",
    "id": "39n-_e68YUxA",
    "outputId": "c41b9b95-d340-4318-f561-ef550a9a2a9c"
   },
   "outputs": [
    {
     "data": {
      "image/png": "[encoded data removed]",
      "text/plain": [
       "<Figure size 1000x1200 with 1 Axes>"
      ]
     },
     "metadata": {},
     "output_type": "display_data"
    }
   ],
   "source": [
    "GBDT.fit(X_train_standard, y_train_sam)\n",
    "features = list(Data.columns)[5:]\n",
    "features.append('model_1')\n",
    "features.append('model_0')\n",
    "importances = GBDT.feature_importances_\n",
    "indices = (np.argsort(importances))[-25:]\n",
    "plt.figure(figsize=(10,12))\n",
    "plt.title('Feature Importances')\n",
    "plt.barh(range(len(indices)), importances[indices], color='y', align='center')\n",
    "plt.yticks(range(len(indices)), [features[i] for i in indices])\n",
    "plt.xlabel('Relative Importance')\n",
    "plt.grid(True)\n",
    "plt.show()"
   ]
  },
  {
   "cell_type": "markdown",
   "metadata": {},
   "source": [
    "# Random Forest "
   ]
  },
  {
   "cell_type": "code",
   "execution_count": 1,
   "metadata": {},
   "outputs": [
    {
     "ename": "SyntaxError",
     "evalue": "invalid syntax (3374388462.py, line 68)",
     "output_type": "error",
     "traceback": [
      "\u001b[1;36m  Cell \u001b[1;32mIn[1], line 68\u001b[1;36m\u001b[0m\n\u001b[1;33m    ````````````````-`````)\u001b[0m\n\u001b[1;37m    ^\u001b[0m\n\u001b[1;31mSyntaxError\u001b[0m\u001b[1;31m:\u001b[0m invalid syntax\n"
     ]
    }
   ],
   "source": [
    "from sklearn.ensemble import RandomForestClassifier\n",
    "\n",
    "from sklearn.model_selection import RandomizedSearchCV\n",
    "from sklearn.metrics import f1_score, roc_curve\n",
    "from sklearn.pipeline import Pipeline\n",
    "from sklearn.preprocessing import StandardScaler\n",
    "from imblearn.pipeline import make_pipeline\n",
    "from imblearn.over_sampling import RandomOverSampler\n",
    "from collections import Counter\n",
    "from tqdm import tqdm\n",
    "import numpy as np\n",
    "param = {'n_estimators' : [10, 50, 100, 150, 200],\n",
    "         'criterion' : ['gini', 'entropy'],\n",
    "         'max_depth' : list(np.sort(np.random.randint(5, 20, 10))),\n",
    "         'min_samples_split' : list(np.sort(np.random.uniform(0.1, 1.0, 10))),\n",
    "         'min_samples_leaf' : list(np.sort(np.random.uniform(0.1, 0.5, 10))),\n",
    "         'class_weight' : balance}\n",
    "\n",
    "rf = RandomForestClassifier(n_jobs=-1)\n",
    "\n",
    "trainscores = [] \n",
    "testscores  = [] \n",
    "Models = [] \n",
    "\n",
    "for iter in tqdm(range(0, 10)):\n",
    "    Thresholds = []\n",
    "    trainscores_folds = []\n",
    "    testscores_folds  = []\n",
    "    rf = RandomForestClassifier(n_jobs=-1)\n",
    "    for key, value in param.items(): \n",
    "        if isinstance(value, list):\n",
    "            if (key == 'n_estimators' and len(value) > iter):\n",
    "                rf.n_estimators = value[iter]\n",
    "            if (key == 'criterion' and len(value) > 0):\n",
    "                rf.criterion = choice(value)\n",
    "            if (key == 'max_depth' and len(value) > iter):\n",
    "                rf.max_depth = value[iter]\n",
    "            if (key == 'min_samples_split' and len(value) > iter):\n",
    "                rf.min_samples_split = value[iter]\n",
    "            if (key == 'min_samples_leaf' and len(value) > iter):\n",
    "                rf.min_samples_leaf = value[iter]\n",
    "            if (key == 'class_weight' and len(value) > iter):\n",
    "                rf.class_weight = value[iter]\n",
    "    Models.append(rf)\n",
    "    ss = StratifiedKFold(n_splits = 10, shuffle = True, random_state = 1)\n",
    "    for train, test in ss.split(X_Train_orig, Y_Train_orig): \n",
    "        X_train = np.zeros(len(train))\n",
    "        Y_train = np.zeros(len(train))\n",
    "        X_test = np.zeros(len(test))\n",
    "        Y_test = np.zeros(len(test))\n",
    "\n",
    "        X_train = X_Train_orig[train]\n",
    "        Y_train = Y_Train_orig[train]\n",
    "        X_test  = X_Train_orig[test]\n",
    "        Y_test  = Y_Train_orig[test]\n",
    "\n",
    "        X_train, Y_train = pipeline.fit_resample(X_train, Y_train)\n",
    "\n",
    "        sc = StandardScaler()\n",
    "        sc.fit(X_train)\n",
    "        X_train = sc.transform(X_train)\n",
    "        X_test = sc.transform(X_test)\n",
    "\n",
    "        rf.fit(X_train, Y_train)\n",
    "\n",
    "        Y_predicted_test = rf.predict(X_test)\n",
    "        testscores_folds.append(f1_score(Y_test, Y_predicted_test)\n",
    "                                                                                                                                                                                                                                                                                                                                                                                                                                                                                                                                                                                                                                                                                                                                                                                                                                                                                                                                                                                                                                                                                                                                                                                                                                                                                                                                                                                                                                                                                                                                                                                                                                                                               ````````````````-`````)\n",
    "\n",
    "        Y_predicted_train = rf.predict(X_train)\n",
    "        trainscores_folds.append(f1_score(Y_train, Y_predicted_train))\n",
    "\n",
    "    trainscores.append(np.mean(np.array(trainscores_folds))) \n",
    "    testscores.append(np.mean(np.array(testscores_folds))) \n"
   ]
  },
  {
   "cell_type": "code",
   "execution_count": null,
   "metadata": {},
   "outputs": [],
   "source": [
    "print(trainscores)\n",
    "print(testscores)"
   ]
  },
  {
   "cell_type": "code",
   "execution_count": null,
   "metadata": {},
   "outputs": [],
   "source": [
    "plt.plot(trainscores,label = \"Train\")\n",
    "plt.plot(testscores, label = 'Val')\n",
    "plt.legend()\n",
    "plt.grid(True)\n",
    "plt.show()"
   ]
  },
  {
   "cell_type": "code",
   "execution_count": null,
   "metadata": {},
   "outputs": [],
   "source": [
    "test_score, train_score, threshold, est = BEST(trainscores, testscores, TR, Models)\n",
    "print(test_score, train_score)"
   ]
  },
  {
   "cell_type": "code",
   "execution_count": null,
   "metadata": {},
   "outputs": [],
   "source": [
    "RFF = est\n",
    "RFF"
   ]
  },
  {
   "cell_type": "code",
   "execution_count": null,
   "metadata": {},
   "outputs": [],
   "source": [
    "sig_clf = CalibratedClassifierCV(RFF, method=\"isotonic\")\n",
    "sig_clf.fit(X_train_standard, y_train_sam)"
   ]
  },
  {
   "cell_type": "code",
   "execution_count": null,
   "metadata": {},
   "outputs": [],
   "source": [
    "Y_predicted_val = sig_clf.predict_proba(X_val_standard)[:, 1]\n",
    "\n",
    "Y_predicted_train = sig_clf.predict_proba(X_train_standard)[:, 1]\n",
    "\n",
    "train_fpr, train_tpr, tr_thresholds = roc_curve(y_train_sam, Y_predicted_train)\n",
    "val_fpr, val_tpr, val_thresholds = roc_curve(y_val, Y_predicted_val)\n",
    "thresholds = np.linspace(0.0, 1.0, num=len(val_thresholds))\n",
    "best_t = find_best_threshold(val_thresholds, val_fpr, val_tpr)"
   ]
  },
  {
   "cell_type": "code",
   "execution_count": null,
   "metadata": {},
   "outputs": [],
   "source": [
    "from sklearn.metrics import accuracy_score\n",
    "Metrics(sig_clf, X_train_standard, y_train_sam, best_t) \n",
    "print('='*100)\n",
    "print('='*100)\n",
    "Metrics(sig_clf, X_val_standard, y_val, best_t) \n"
   ]
  },
  {
   "cell_type": "code",
   "execution_count": null,
   "metadata": {},
   "outputs": [],
   "source": [
    "import pickle\n",
    "pickle.dump(rf, open('model1.pkl','wb'))"
   ]
  },
  {
   "cell_type": "markdown",
   "metadata": {},
   "source": []
  }
 ],
 "metadata": {
  "colab": {
   "collapsed_sections": [
    "SdIIo0TQ0OCD",
    "mMvcgQLEpinl",
    "3xksfbafvM4j",
    "RwjKo-wdj02P",
    "uVf3UCABZMB0",
    "d3yK3kWBr5Vh",
    "eT72b-HvAx2T",
    "ibqu809NDoqf",
    "0XaXwc65r-VD",
    "UKgbkk703-AO",
    "mvlWAduJbQO8",
    "UGYiNdBp3Yta",
    "BDFbUjuuYUwN",
    "dwNB5oq9QQCu"
   ],
   "name": "Dummy",
   "provenance": [],
   "toc_visible": true
  },
  "kernelspec": {
   "display_name": "Python 3 (ipykernel)",
   "language": "python",
   "name": "python3"
  },
  "language_info": {
   "codemirror_mode": {
    "name": "ipython",
    "version": 3
   },
   "file_extension": ".py",
   "mimetype": "text/x-python",
   "name": "python",
   "nbconvert_exporter": "python",
   "pygments_lexer": "ipython3",
   "version": "3.10.9"
  }
 },
 "nbformat": 4,
 "nbformat_minor": 1
}
